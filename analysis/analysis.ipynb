{
 "cells": [
  {
   "cell_type": "code",
   "execution_count": 7,
   "id": "7ba8c3cd",
   "metadata": {},
   "outputs": [],
   "source": [
    "import os\n",
    "import glob\n",
    "import json\n",
    "from tld import get_fld"
   ]
  },
  {
   "cell_type": "code",
   "execution_count": 13,
   "id": "d2d85fd8",
   "metadata": {},
   "outputs": [],
   "source": [
    "# Constants\n",
    "DATA_DIR = '../crawl_data'\n",
    "SRC_DIR = '../crawler_src'"
   ]
  },
  {
   "cell_type": "code",
   "execution_count": 10,
   "id": "5ef5f387",
   "metadata": {},
   "outputs": [],
   "source": [
    "# Load the datasets\n",
    "os.chdir(DATA_DIR)\n",
    "\n",
    "# Get desktop json files\n",
    "data_json_desktop = glob.glob('*_desktop.json')\n",
    "\n",
    "# Get mobile json files\n",
    "data_json_mobile = glob.glob('*_mobile.json')"
   ]
  },
  {
   "cell_type": "code",
   "execution_count": 11,
   "id": "38c7de51",
   "metadata": {},
   "outputs": [],
   "source": [
    "def init_data_object():\n",
    "    return  {\n",
    "        'longest_lifespan_cookies': [],\n",
    "        'failures': {\n",
    "            'timeout_failures': 0,\n",
    "            'TLS_failures': 0,\n",
    "            'consent_failures': 0\n",
    "        },\n",
    "        'page_load_times': [],\n",
    "        'num_requests': [],\n",
    "        'distinct_third_parties': [],\n",
    "        'num_distinct_tracker_domains': [],\n",
    "        'num_distinct_tracker_entities': []\n",
    "    }"
   ]
  },
  {
   "cell_type": "code",
   "execution_count": 103,
   "id": "448f4413",
   "metadata": {},
   "outputs": [],
   "source": [
    "def parse_stupid_blocklist_to_something_readable(file_path):\n",
    "    url_list = {}\n",
    "    \n",
    "    with open(file_path) as blocklist_file:\n",
    "        blocklist = json.load(blocklist_file)\n",
    "        \n",
    "        for cat, entities in blocklist['categories'].items():\n",
    "            for entity_list in entities:\n",
    "                for entity, url_objects in entity_list.items():\n",
    "                    for url, aliases in url_objects.items():\n",
    "                        all_urls = [url]\n",
    "                        all_urls += aliases\n",
    "                        \n",
    "                        if entity not in url_list:\n",
    "                            url_list[entity] = []\n",
    "                            \n",
    "                        for u in all_urls:\n",
    "                            \n",
    "                            try:\n",
    "                                url_list[entity].append(get_fld(u, fix_protocol=True))\n",
    "                            except:\n",
    "                                pass\n",
    "                        \n",
    "                        url_list[entity] = list(set(url_list[entity]))\n",
    "    \n",
    "    return url_list"
   ]
  },
  {
   "cell_type": "code",
   "execution_count": 113,
   "id": "52a51f1d",
   "metadata": {},
   "outputs": [
    {
     "data": {
      "text/plain": [
       "{'longest_lifespan_cookies': [],\n",
       " 'failures': {'timeout_failures': 0, 'TLS_failures': 1, 'consent_failures': 0},\n",
       " 'page_load_times': [0.0],\n",
       " 'num_requests': [8],\n",
       " 'distinct_third_parties': [2],\n",
       " 'num_distinct_tracker_domains': [2],\n",
       " 'num_distinct_tracker_entities': [1]}"
      ]
     },
     "execution_count": 113,
     "metadata": {},
     "output_type": "execute_result"
    }
   ],
   "source": [
    "def create_stats_object(json_files):\n",
    "    data_object = init_data_object()\n",
    "    \n",
    "    for json_file in json_files:\n",
    "        with open(json_file, 'r') as data_file:\n",
    "            data = json.load(data_file)\n",
    "            \n",
    "            # Updata failure counts\n",
    "            if data['failure_status']['timeout']:\n",
    "                data_object['failures']['timeout_failures'] += 1\n",
    "            if data['failure_status']['TLS'] != 'null':\n",
    "                data_object['failures']['TLS_failures'] += 1\n",
    "            if data['failure_status']['consent']:\n",
    "                data_object['failures']['consent_failures'] += 1\n",
    "                \n",
    "            # Only proceed if there is no timeout\n",
    "            if data['failure_status']['timeout']:\n",
    "                continue\n",
    "            \n",
    "            # Append page load time\n",
    "            data_object['page_load_times'].append(data['load_time'])\n",
    "            \n",
    "            # Append number of requests\n",
    "            data_object['num_requests'].append(len(data['requests']))\n",
    "            \n",
    "            # Append distinct third parties\n",
    "            distinct_third_parties = set([ get_fld(d['request_url'], fix_protocol=True)\n",
    "                                           for d in data['requests']\n",
    "                                         ])\n",
    "            data_object['distinct_third_parties'].append(len(distinct_third_parties))\n",
    "            \n",
    "            # Append number of distinct tracker domains\n",
    "            tracker_dict = parse_stupid_blocklist_to_something_readable(SRC_DIR + '/disconnectmeblocklist.json')\n",
    "            num_distinct_tracker_domains = 0\n",
    "            for third_party_domain in distinct_third_parties:\n",
    "                for _, domains in tracker_dict.items():\n",
    "                    if third_party_domain in domains:\n",
    "                        num_distinct_tracker_domains += 1\n",
    "            data_object['num_distinct_tracker_domains'].append(num_distinct_tracker_domains)\n",
    "            \n",
    "            # Append number of distinct tracker entities/companies\n",
    "            entities = []\n",
    "            with open(SRC_DIR + '/domain_map.json') as domain_map_json_file:\n",
    "                domain_map_json = json.load(domain_map_json_file)\n",
    "                \n",
    "                for third_party_domain in distinct_third_parties:\n",
    "                    if third_party_domain in domain_map_json.keys():\n",
    "                        entities.append(domain_map_json[third_party_domain]['entityName'])\n",
    "                    else:\n",
    "                        print('DOMAIN NOT FOUND IN ENTITY LIST, IMPLEMENT THIS WHEN YOU SEE THIS')\n",
    "                \n",
    "            entities = set(entities)\n",
    "            data_object['num_distinct_tracker_entities'].append(len(entities))\n",
    "            \n",
    "    return data_object\n",
    "                \n",
    "# TODO: Remove\n",
    "create_stats_object(data_json_desktop)"
   ]
  },
  {
   "cell_type": "code",
   "execution_count": 123,
   "id": "3543e7b7",
   "metadata": {},
   "outputs": [],
   "source": [
    "# Desktop analysis"
   ]
  }
 ],
 "metadata": {
  "kernelspec": {
   "display_name": "Python 3 (ipykernel)",
   "language": "python",
   "name": "python3"
  },
  "language_info": {
   "codemirror_mode": {
    "name": "ipython",
    "version": 3
   },
   "file_extension": ".py",
   "mimetype": "text/x-python",
   "name": "python",
   "nbconvert_exporter": "python",
   "pygments_lexer": "ipython3",
   "version": "3.10.4"
  }
 },
 "nbformat": 4,
 "nbformat_minor": 5
}
