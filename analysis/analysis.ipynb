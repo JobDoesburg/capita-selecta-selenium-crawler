{
 "cells": [
  {
   "cell_type": "code",
   "execution_count": 66,
   "id": "f41a7063",
   "metadata": {
    "pycharm": {
     "name": "#%%\n"
    }
   },
   "outputs": [],
   "source": [
    "import os\n",
    "import glob\n",
    "import json\n",
    "import re\n",
    "from tld import get_fld\n",
    "import seaborn as sns\n",
    "import pandas as pd\n",
    "from tqdm import tqdm\n",
    "from IPython.display import HTML\n",
    "import urllib.parse as parse\n",
    "import matplotlib.pyplot as plt"
   ]
  },
  {
   "cell_type": "code",
   "execution_count": 2,
   "id": "2bdaa31d",
   "metadata": {
    "pycharm": {
     "name": "#%%\n"
    }
   },
   "outputs": [],
   "source": [
    "# Constants\n",
    "DATA_DIR = '../crawl_data'\n",
    "SRC_DIR = '../crawler_src'"
   ]
  },
  {
   "cell_type": "code",
   "execution_count": 3,
   "id": "d0a20050",
   "metadata": {
    "pycharm": {
     "name": "#%%\n"
    }
   },
   "outputs": [],
   "source": [
    "# Load the datasets\n",
    "os.chdir(DATA_DIR)\n",
    "\n",
    "# Get desktop json files\n",
    "data_json_desktop = glob.glob('*_desktop.json')\n",
    "\n",
    "# Get mobile json files\n",
    "data_json_mobile = glob.glob('*_mobile.json')"
   ]
  },
  {
   "cell_type": "code",
   "execution_count": 4,
   "id": "9997ec4f",
   "metadata": {
    "pycharm": {
     "name": "#%%\n"
    }
   },
   "outputs": [],
   "source": [
    "def init_data_object():\n",
    "    return  {\n",
    "        # Per url data\n",
    "        'tranco_ranks': [],\n",
    "        'page_load_times': [],\n",
    "        'num_requests': [],\n",
    "        'distinct_third_parties': [],\n",
    "        'num_distinct_tracker_domains': [],\n",
    "        'num_distinct_tracker_entities': [],\n",
    "        \n",
    "        # Global data\n",
    "        'failures': {\n",
    "            'timeout_failures': 0,\n",
    "            'TLS_failures': 0,\n",
    "            'consent_failures': 0\n",
    "        },\n",
    "        'third_party_counts': {},\n",
    "        'third_party_tracker_counts': {},\n",
    "        'third_party_tracker_entities': {},\n",
    "        'uber_cookie': {\n",
    "            'request_hostname': '',\n",
    "            'website': '',\n",
    "            'num_cookies': 0,\n",
    "            'first_party': False\n",
    "        },\n",
    "        'longest_lifespan_cookies': [],\n",
    "        'canvas_fingerprints': [],\n",
    "        'tracker_redirect_combos': []\n",
    "    }"
   ]
  },
  {
   "cell_type": "code",
   "execution_count": 5,
   "id": "1dfe9699",
   "metadata": {
    "pycharm": {
     "name": "#%%\n"
    }
   },
   "outputs": [],
   "source": [
    "def parse_stupid_blocklist_to_something_readable(file_path):\n",
    "    url_list = {}\n",
    "    \n",
    "    with open(file_path, encoding='utf-8') as blocklist_file:\n",
    "        blocklist = json.load(blocklist_file)\n",
    "        \n",
    "        for cat, entities in blocklist['categories'].items():\n",
    "            for entity_list in entities:\n",
    "                for entity, url_objects in entity_list.items():\n",
    "                    for url, aliases in url_objects.items():\n",
    "                        all_urls = [url]\n",
    "                        all_urls += aliases\n",
    "                        \n",
    "                        if entity not in url_list:\n",
    "                            url_list[entity] = []\n",
    "                            \n",
    "                        for u in all_urls:\n",
    "                            \n",
    "                            try:\n",
    "                                url_list[entity].append(get_fld(u, fix_protocol=True))\n",
    "                            except:\n",
    "                                pass\n",
    "                        \n",
    "                        url_list[entity] = list(set(url_list[entity]))\n",
    "    \n",
    "    return url_list"
   ]
  },
  {
   "cell_type": "code",
   "execution_count": 6,
   "id": "4953277a",
   "metadata": {
    "pycharm": {
     "name": "#%%\n"
    }
   },
   "outputs": [],
   "source": [
    "def create_stats_object(json_files):\n",
    "    data_object = init_data_object()\n",
    "    \n",
    "    for json_file in tqdm(json_files):\n",
    "        with open(json_file, 'r', encoding='utf-8') as data_file:\n",
    "            try:\n",
    "                data = json.load(data_file)\n",
    "            except:\n",
    "                print(f'Error opening json file: {json_file}, skipping')\n",
    "                data = {\"website_domain\": json_file.split('_')[0],\n",
    "                        \"rank\": -1,\n",
    "                        \"crawl_mode\": \"desktop\",\n",
    "                        \"post_pageload_url\": None,\n",
    "                        \"pageload_start_ts\": -1,\n",
    "                        \"pageload_end_ts\": -1,\n",
    "                        \"consent_status\": None,\n",
    "                        \"requests\": [],\n",
    "                        \"load_time\": -1,\n",
    "                        \"cookies\": -1,\n",
    "                        \"canvas_image_data\": None,\n",
    "                        \"failure_status\": {\n",
    "                            \"timeout\": True,\n",
    "                            \"TLS\": None,\n",
    "                            \"consent\": False\n",
    "                        }\n",
    "                    }\n",
    "                \n",
    "            # Append tranco rank\n",
    "            data_object['tranco_ranks'].append(int(data['rank']))\n",
    "            \n",
    "            # Updata failure counts\n",
    "            if data['failure_status']['timeout']:\n",
    "                data_object['failures']['timeout_failures'] += 1\n",
    "            if data['failure_status']['TLS'] != 'null':\n",
    "                data_object['failures']['TLS_failures'] += 1\n",
    "            if data['failure_status']['consent']:\n",
    "                data_object['failures']['consent_failures'] += 1\n",
    "                \n",
    "            # Only proceed if there is no timeout\n",
    "            if data['failure_status']['timeout']:\n",
    "                data_object['num_requests'].append(None)\n",
    "                data_object['page_load_times'].append(None)\n",
    "                data_object['distinct_third_parties'].append(None)\n",
    "                data_object['num_distinct_tracker_domains'].append(None)\n",
    "                data_object['num_distinct_tracker_entities'].append(None)\n",
    "                continue\n",
    "            \n",
    "            # Append page load time\n",
    "            data_object['page_load_times'].append(data['load_time'])\n",
    "            \n",
    "            # Append number of requests\n",
    "            data_object['num_requests'].append(len(data['requests']))\n",
    "            \n",
    "            # Append distinct third parties\n",
    "            def get_fld_websocket(u: str):\n",
    "                if u.startswith('wss://'):\n",
    "                    return get_fld(u[6:], fix_protocol=True)\n",
    "                if re.match('\\d{1,3}\\.\\d{1,3}\\.\\d{1,3}\\.\\d{1,3}', parse.urlparse(u).netloc) is not None:\n",
    "                    return u\n",
    "                else:\n",
    "                    return get_fld(u, fix_protocol=True)\n",
    "            distinct_third_parties = set([ get_fld_websocket(d['request_url'])\n",
    "                                           for d in data['requests']\n",
    "                                         ])\n",
    "            distinct_third_parties.remove(get_fld(data['website_domain'], fix_protocol=True))\n",
    "            data_object['distinct_third_parties'].append(len(distinct_third_parties))\n",
    "            \n",
    "            # Append number of distinct tracker domains\n",
    "            tracker_dict = parse_stupid_blocklist_to_something_readable(SRC_DIR + '/disconnectmeblocklist.json')\n",
    "            distinct_tracker_domains = []\n",
    "            for third_party_domain in distinct_third_parties:\n",
    "                for _, domains in tracker_dict.items():\n",
    "                    if third_party_domain in domains:\n",
    "                        distinct_tracker_domains.append(third_party_domain)\n",
    "            data_object['num_distinct_tracker_domains'].append(len(distinct_tracker_domains))\n",
    "            \n",
    "            # Append number of distinct tracker entities/companies\n",
    "            distinct_tracker_entities = []\n",
    "            with open(SRC_DIR + '/domain_map.json', encoding='utf-8') as domain_map_json_file:\n",
    "                domain_map_json = json.load(domain_map_json_file)\n",
    "                \n",
    "                for tracker_domain in distinct_tracker_domains:\n",
    "                    if tracker_domain in domain_map_json.keys():\n",
    "                        distinct_tracker_entities.append(domain_map_json[tracker_domain]['entityName'])\n",
    "                    else:\n",
    "                        for tracker_entity, tracker_entity_domains in tracker_dict.items():\n",
    "                            if tracker_domain in tracker_entity_domains:\n",
    "                                distinct_tracker_entities.append(tracker_entity)\n",
    "                                break\n",
    "                \n",
    "            distinct_tracker_entities = set(distinct_tracker_entities)\n",
    "            data_object['num_distinct_tracker_entities'].append(len(distinct_tracker_entities))\n",
    "            \n",
    "            # Update third party reference counts\n",
    "            for party in distinct_third_parties:\n",
    "                if party in data_object['third_party_counts']:\n",
    "                    data_object['third_party_counts'][party] += 1\n",
    "                else:\n",
    "                    data_object['third_party_counts'][party] = 1\n",
    "            \n",
    "            # Update third party tracker counts\n",
    "            for tracker in distinct_tracker_domains:\n",
    "                if tracker in data_object['third_party_tracker_counts']:\n",
    "                    data_object['third_party_tracker_counts'][tracker] += 1\n",
    "                else:\n",
    "                    data_object['third_party_tracker_counts'][tracker] =1\n",
    "            \n",
    "            # Update third party tracker entities\n",
    "            for entity in distinct_tracker_entities:\n",
    "                if entity in data_object['third_party_tracker_entities']:\n",
    "                    data_object['third_party_tracker_entities'][entity] += 1\n",
    "                else:\n",
    "                    data_object['third_party_tracker_entities'][entity] =1\n",
    "                    \n",
    "            # Update the uber cookie\n",
    "            max_cookie_count = None\n",
    "            request_url = None\n",
    "            for request in data['requests']:\n",
    "                if 'cookie' not in request['request_headers']:\n",
    "                    continue\n",
    "                    \n",
    "                cookie_count = len(request['request_headers']['cookie'].split(';'))\n",
    "                if max_cookie_count is None or cookie_count > max_cookie_count:\n",
    "                    max_cookie_count = cookie_count\n",
    "                    request_url = request['request_url']\n",
    "            \n",
    "            if max_cookie_count is not None and \\\n",
    "               max_cookie_count > data_object['uber_cookie']['num_cookies']:\n",
    "                data_object['uber_cookie']['num_cookies'] = max_cookie_count\n",
    "                data_object['uber_cookie']['request_hostname'] = get_fld(request_url, fix_protocol=True)\n",
    "                data_object['uber_cookie']['website'] = data['website_domain']\n",
    "                data_object['uber_cookie']['first_party'] = data_object['uber_cookie']['request_hostname'] == \\\n",
    "                                                            data_object['uber_cookie']['website']\n",
    "                \n",
    "            # Get longest lasting cookies\n",
    "            cookie_ids = []\n",
    "            for request in data['requests']:\n",
    "                if 'cookie' not in request['request_headers']:\n",
    "                    continue\n",
    "                    \n",
    "                cookies = request['request_headers']['cookie'].split(';')\n",
    "                for cookie in cookies:\n",
    "                    cookie_ids.append(cookie.split('=')[0])\n",
    "            \n",
    "            all_cookies = []\n",
    "            for cookie in data['cookies']:\n",
    "                if cookie['name'] in cookie_ids:\n",
    "                    cookie_data = cookie.copy()\n",
    "                    cookie_data['size'] = len(cookie_data['value'])\n",
    "                    \n",
    "                    if 'sameSite' not in cookie_data:\n",
    "                        cookie_data['sameSite'] = None\n",
    "\n",
    "                    if 'expiry' not in cookie_data: # Cookies without expiry exist\n",
    "                        cookie_data['expiry'] = 999999999999999\n",
    "                    all_cookies.append(cookie_data)\n",
    "                    all_cookies.append(cookie_data)\n",
    "\n",
    "                sort_alg = lambda c: c['expiry']\n",
    "                all_cookies.sort(key=sort_alg, reverse=True)\n",
    "            data_object['longest_lifespan_cookies'] += all_cookies[:3]\n",
    "            data_object['longest_lifespan_cookies'].sort(key=sort_alg, reverse=True)\n",
    "            data_object['longest_lifespan_cookies'] = data_object['longest_lifespan_cookies'][:3]\n",
    "            \n",
    "            # HTTP redirect pairs for tracker domains\n",
    "            tracker_redirect_combos = []\n",
    "            for request in data['requests']:\n",
    "                if request['response_status_code'] >= 300 and \\\n",
    "                   request['response_status_code'] <= 399 and \\\n",
    "                   'location' in request['response_headers']:\n",
    "                    origin_domain = get_fld(request['request_url'], fix_protocol=True)\n",
    "                    if request['response_headers']['location'].startswith('http'): # TODO: verify this filters exactly all non-relative URLs\n",
    "                        redirect_domain = get_fld(request['response_headers']['location'], fix_protocol=True)\n",
    "                    else: # location can be relative URL\n",
    "                        redirect_domain = origin_domain\n",
    "                    if origin_domain != redirect_domain and \\\n",
    "                       (origin_domain in distinct_tracker_domains or \\\n",
    "                        redirect_domain in distinct_tracker_domains):\n",
    "                        tracker_redirect_combos.append((origin_domain, redirect_domain))\n",
    "            data_object['tracker_redirect_combos'] += list(set(tracker_redirect_combos))\n",
    "            \n",
    "            # Fingerprints\n",
    "            for fingerprint in data['canvas_image_data']:\n",
    "                fingerprint['website'] = get_fld(data['website_domain'], fix_protocol=True)\n",
    "            data_object['canvas_fingerprints'] += data['canvas_image_data']\n",
    "            \n",
    "    return data_object"
   ]
  },
  {
   "cell_type": "code",
   "execution_count": 7,
   "id": "3f156626",
   "metadata": {
    "pycharm": {
     "name": "#%%\n"
    }
   },
   "outputs": [
    {
     "name": "stderr",
     "output_type": "stream",
     "text": [
      " 27%|████████████████▌                                            | 130/477 [00:07<00:19, 17.71it/s]\n"
     ]
    },
    {
     "ename": "TldDomainNotFound",
     "evalue": "Domain 118.89.204.198 didn't match any existing TLD name!",
     "output_type": "error",
     "traceback": [
      "\u001B[0;31m---------------------------------------------------------------------------\u001B[0m",
      "\u001B[0;31mTldDomainNotFound\u001B[0m                         Traceback (most recent call last)",
      "Input \u001B[0;32mIn [7]\u001B[0m, in \u001B[0;36m<cell line: 3>\u001B[0;34m()\u001B[0m\n\u001B[1;32m      1\u001B[0m \u001B[38;5;66;03m# Create the data objects\u001B[39;00m\n\u001B[1;32m      2\u001B[0m crawls \u001B[38;5;241m=\u001B[39m {\n\u001B[0;32m----> 3\u001B[0m     \u001B[38;5;124m'\u001B[39m\u001B[38;5;124mdesktop\u001B[39m\u001B[38;5;124m'\u001B[39m: \u001B[43mcreate_stats_object\u001B[49m\u001B[43m(\u001B[49m\u001B[43mdata_json_desktop\u001B[49m\u001B[43m)\u001B[49m,\n\u001B[1;32m      4\u001B[0m     \u001B[38;5;124m'\u001B[39m\u001B[38;5;124mmobile\u001B[39m\u001B[38;5;124m'\u001B[39m: create_stats_object(data_json_mobile)\n\u001B[1;32m      5\u001B[0m }\n",
      "Input \u001B[0;32mIn [6]\u001B[0m, in \u001B[0;36mcreate_stats_object\u001B[0;34m(json_files)\u001B[0m\n\u001B[1;32m     54\u001B[0m \u001B[38;5;66;03m# Append distinct third parties\u001B[39;00m\n\u001B[1;32m     55\u001B[0m get_fld_websocket \u001B[38;5;241m=\u001B[39m \u001B[38;5;28;01mlambda\u001B[39;00m u: get_fld(u[\u001B[38;5;241m6\u001B[39m:], fix_protocol\u001B[38;5;241m=\u001B[39m\u001B[38;5;28;01mTrue\u001B[39;00m) \u001B[38;5;28;01mif\u001B[39;00m u\u001B[38;5;241m.\u001B[39mstartswith(\u001B[38;5;124m'\u001B[39m\u001B[38;5;124mwss://\u001B[39m\u001B[38;5;124m'\u001B[39m) \\\n\u001B[1;32m     56\u001B[0m     \u001B[38;5;28;01melse\u001B[39;00m get_fld(u, fix_protocol\u001B[38;5;241m=\u001B[39m\u001B[38;5;28;01mTrue\u001B[39;00m)\n\u001B[0;32m---> 57\u001B[0m distinct_third_parties \u001B[38;5;241m=\u001B[39m \u001B[38;5;28mset\u001B[39m([ get_fld_websocket(d[\u001B[38;5;124m'\u001B[39m\u001B[38;5;124mrequest_url\u001B[39m\u001B[38;5;124m'\u001B[39m])\n\u001B[1;32m     58\u001B[0m                                \u001B[38;5;28;01mfor\u001B[39;00m d \u001B[38;5;129;01min\u001B[39;00m data[\u001B[38;5;124m'\u001B[39m\u001B[38;5;124mrequests\u001B[39m\u001B[38;5;124m'\u001B[39m]\n\u001B[1;32m     59\u001B[0m                              ])\n\u001B[1;32m     60\u001B[0m distinct_third_parties\u001B[38;5;241m.\u001B[39mremove(get_fld(data[\u001B[38;5;124m'\u001B[39m\u001B[38;5;124mwebsite_domain\u001B[39m\u001B[38;5;124m'\u001B[39m], fix_protocol\u001B[38;5;241m=\u001B[39m\u001B[38;5;28;01mTrue\u001B[39;00m))\n\u001B[1;32m     61\u001B[0m data_object[\u001B[38;5;124m'\u001B[39m\u001B[38;5;124mdistinct_third_parties\u001B[39m\u001B[38;5;124m'\u001B[39m]\u001B[38;5;241m.\u001B[39mappend(\u001B[38;5;28mlen\u001B[39m(distinct_third_parties))\n",
      "Input \u001B[0;32mIn [6]\u001B[0m, in \u001B[0;36m<listcomp>\u001B[0;34m(.0)\u001B[0m\n\u001B[1;32m     54\u001B[0m \u001B[38;5;66;03m# Append distinct third parties\u001B[39;00m\n\u001B[1;32m     55\u001B[0m get_fld_websocket \u001B[38;5;241m=\u001B[39m \u001B[38;5;28;01mlambda\u001B[39;00m u: get_fld(u[\u001B[38;5;241m6\u001B[39m:], fix_protocol\u001B[38;5;241m=\u001B[39m\u001B[38;5;28;01mTrue\u001B[39;00m) \u001B[38;5;28;01mif\u001B[39;00m u\u001B[38;5;241m.\u001B[39mstartswith(\u001B[38;5;124m'\u001B[39m\u001B[38;5;124mwss://\u001B[39m\u001B[38;5;124m'\u001B[39m) \\\n\u001B[1;32m     56\u001B[0m     \u001B[38;5;28;01melse\u001B[39;00m get_fld(u, fix_protocol\u001B[38;5;241m=\u001B[39m\u001B[38;5;28;01mTrue\u001B[39;00m)\n\u001B[0;32m---> 57\u001B[0m distinct_third_parties \u001B[38;5;241m=\u001B[39m \u001B[38;5;28mset\u001B[39m([ \u001B[43mget_fld_websocket\u001B[49m\u001B[43m(\u001B[49m\u001B[43md\u001B[49m\u001B[43m[\u001B[49m\u001B[38;5;124;43m'\u001B[39;49m\u001B[38;5;124;43mrequest_url\u001B[39;49m\u001B[38;5;124;43m'\u001B[39;49m\u001B[43m]\u001B[49m\u001B[43m)\u001B[49m\n\u001B[1;32m     58\u001B[0m                                \u001B[38;5;28;01mfor\u001B[39;00m d \u001B[38;5;129;01min\u001B[39;00m data[\u001B[38;5;124m'\u001B[39m\u001B[38;5;124mrequests\u001B[39m\u001B[38;5;124m'\u001B[39m]\n\u001B[1;32m     59\u001B[0m                              ])\n\u001B[1;32m     60\u001B[0m distinct_third_parties\u001B[38;5;241m.\u001B[39mremove(get_fld(data[\u001B[38;5;124m'\u001B[39m\u001B[38;5;124mwebsite_domain\u001B[39m\u001B[38;5;124m'\u001B[39m], fix_protocol\u001B[38;5;241m=\u001B[39m\u001B[38;5;28;01mTrue\u001B[39;00m))\n\u001B[1;32m     61\u001B[0m data_object[\u001B[38;5;124m'\u001B[39m\u001B[38;5;124mdistinct_third_parties\u001B[39m\u001B[38;5;124m'\u001B[39m]\u001B[38;5;241m.\u001B[39mappend(\u001B[38;5;28mlen\u001B[39m(distinct_third_parties))\n",
      "Input \u001B[0;32mIn [6]\u001B[0m, in \u001B[0;36mcreate_stats_object.<locals>.<lambda>\u001B[0;34m(u)\u001B[0m\n\u001B[1;32m     52\u001B[0m data_object[\u001B[38;5;124m'\u001B[39m\u001B[38;5;124mnum_requests\u001B[39m\u001B[38;5;124m'\u001B[39m]\u001B[38;5;241m.\u001B[39mappend(\u001B[38;5;28mlen\u001B[39m(data[\u001B[38;5;124m'\u001B[39m\u001B[38;5;124mrequests\u001B[39m\u001B[38;5;124m'\u001B[39m]))\n\u001B[1;32m     54\u001B[0m \u001B[38;5;66;03m# Append distinct third parties\u001B[39;00m\n\u001B[1;32m     55\u001B[0m get_fld_websocket \u001B[38;5;241m=\u001B[39m \u001B[38;5;28;01mlambda\u001B[39;00m u: get_fld(u[\u001B[38;5;241m6\u001B[39m:], fix_protocol\u001B[38;5;241m=\u001B[39m\u001B[38;5;28;01mTrue\u001B[39;00m) \u001B[38;5;28;01mif\u001B[39;00m u\u001B[38;5;241m.\u001B[39mstartswith(\u001B[38;5;124m'\u001B[39m\u001B[38;5;124mwss://\u001B[39m\u001B[38;5;124m'\u001B[39m) \\\n\u001B[0;32m---> 56\u001B[0m     \u001B[38;5;28;01melse\u001B[39;00m \u001B[43mget_fld\u001B[49m\u001B[43m(\u001B[49m\u001B[43mu\u001B[49m\u001B[43m,\u001B[49m\u001B[43m \u001B[49m\u001B[43mfix_protocol\u001B[49m\u001B[38;5;241;43m=\u001B[39;49m\u001B[38;5;28;43;01mTrue\u001B[39;49;00m\u001B[43m)\u001B[49m\n\u001B[1;32m     57\u001B[0m distinct_third_parties \u001B[38;5;241m=\u001B[39m \u001B[38;5;28mset\u001B[39m([ get_fld_websocket(d[\u001B[38;5;124m'\u001B[39m\u001B[38;5;124mrequest_url\u001B[39m\u001B[38;5;124m'\u001B[39m])\n\u001B[1;32m     58\u001B[0m                                \u001B[38;5;28;01mfor\u001B[39;00m d \u001B[38;5;129;01min\u001B[39;00m data[\u001B[38;5;124m'\u001B[39m\u001B[38;5;124mrequests\u001B[39m\u001B[38;5;124m'\u001B[39m]\n\u001B[1;32m     59\u001B[0m                              ])\n\u001B[1;32m     60\u001B[0m distinct_third_parties\u001B[38;5;241m.\u001B[39mremove(get_fld(data[\u001B[38;5;124m'\u001B[39m\u001B[38;5;124mwebsite_domain\u001B[39m\u001B[38;5;124m'\u001B[39m], fix_protocol\u001B[38;5;241m=\u001B[39m\u001B[38;5;28;01mTrue\u001B[39;00m))\n",
      "File \u001B[0;32m~/.local/lib/python3.10/site-packages/tld/utils.py:438\u001B[0m, in \u001B[0;36mget_fld\u001B[0;34m(url, fail_silently, fix_protocol, search_public, search_private, parser_class, **kwargs)\u001B[0m\n\u001B[1;32m    431\u001B[0m \u001B[38;5;28;01mif\u001B[39;00m \u001B[38;5;129;01mnot\u001B[39;00m parser_class:\n\u001B[1;32m    432\u001B[0m     parser_class \u001B[38;5;241m=\u001B[39m (\n\u001B[1;32m    433\u001B[0m         MozillaTLDSourceParser\n\u001B[1;32m    434\u001B[0m         \u001B[38;5;28;01mif\u001B[39;00m search_private\n\u001B[1;32m    435\u001B[0m         \u001B[38;5;28;01melse\u001B[39;00m MozillaPublicOnlyTLDSourceParser\n\u001B[1;32m    436\u001B[0m     )\n\u001B[0;32m--> 438\u001B[0m domain_parts, non_zero_i, parsed_url \u001B[38;5;241m=\u001B[39m \u001B[43mprocess_url\u001B[49m\u001B[43m(\u001B[49m\n\u001B[1;32m    439\u001B[0m \u001B[43m    \u001B[49m\u001B[43murl\u001B[49m\u001B[38;5;241;43m=\u001B[39;49m\u001B[43murl\u001B[49m\u001B[43m,\u001B[49m\n\u001B[1;32m    440\u001B[0m \u001B[43m    \u001B[49m\u001B[43mfail_silently\u001B[49m\u001B[38;5;241;43m=\u001B[39;49m\u001B[43mfail_silently\u001B[49m\u001B[43m,\u001B[49m\n\u001B[1;32m    441\u001B[0m \u001B[43m    \u001B[49m\u001B[43mfix_protocol\u001B[49m\u001B[38;5;241;43m=\u001B[39;49m\u001B[43mfix_protocol\u001B[49m\u001B[43m,\u001B[49m\n\u001B[1;32m    442\u001B[0m \u001B[43m    \u001B[49m\u001B[43msearch_public\u001B[49m\u001B[38;5;241;43m=\u001B[39;49m\u001B[43msearch_public\u001B[49m\u001B[43m,\u001B[49m\n\u001B[1;32m    443\u001B[0m \u001B[43m    \u001B[49m\u001B[43msearch_private\u001B[49m\u001B[38;5;241;43m=\u001B[39;49m\u001B[43msearch_private\u001B[49m\u001B[43m,\u001B[49m\n\u001B[1;32m    444\u001B[0m \u001B[43m    \u001B[49m\u001B[43mparser_class\u001B[49m\u001B[38;5;241;43m=\u001B[39;49m\u001B[43mparser_class\u001B[49m\u001B[43m,\u001B[49m\n\u001B[1;32m    445\u001B[0m \u001B[43m\u001B[49m\u001B[43m)\u001B[49m\n\u001B[1;32m    447\u001B[0m \u001B[38;5;28;01mif\u001B[39;00m domain_parts \u001B[38;5;129;01mis\u001B[39;00m \u001B[38;5;28;01mNone\u001B[39;00m:\n\u001B[1;32m    448\u001B[0m     \u001B[38;5;28;01mreturn\u001B[39;00m \u001B[38;5;28;01mNone\u001B[39;00m\n",
      "File \u001B[0;32m~/.local/lib/python3.10/site-packages/tld/utils.py:381\u001B[0m, in \u001B[0;36mprocess_url\u001B[0;34m(url, fail_silently, fix_protocol, search_public, search_private, parser_class)\u001B[0m\n\u001B[1;32m    379\u001B[0m         \u001B[38;5;28;01mreturn\u001B[39;00m \u001B[38;5;28;01mNone\u001B[39;00m, \u001B[38;5;28;01mNone\u001B[39;00m, parsed_url\n\u001B[1;32m    380\u001B[0m     \u001B[38;5;28;01melse\u001B[39;00m:\n\u001B[0;32m--> 381\u001B[0m         \u001B[38;5;28;01mraise\u001B[39;00m TldDomainNotFound(domain_name\u001B[38;5;241m=\u001B[39mdomain_name)\n\u001B[1;32m    383\u001B[0m \u001B[38;5;28;01mif\u001B[39;00m len_domain_parts \u001B[38;5;241m==\u001B[39m tld_length:\n\u001B[1;32m    384\u001B[0m     non_zero_i \u001B[38;5;241m=\u001B[39m \u001B[38;5;241m-\u001B[39m\u001B[38;5;241m1\u001B[39m  \u001B[38;5;66;03m# hostname = tld\u001B[39;00m\n",
      "\u001B[0;31mTldDomainNotFound\u001B[0m: Domain 118.89.204.198 didn't match any existing TLD name!"
     ]
    }
   ],
   "source": [
    "# Create the data objects\n",
    "crawls = {\n",
    "    'desktop': create_stats_object(data_json_desktop),\n",
    "    'mobile': create_stats_object(data_json_mobile)\n",
    "}"
   ]
  },
  {
   "cell_type": "code",
   "execution_count": 8,
   "id": "7589984d",
   "metadata": {
    "pycharm": {
     "name": "#%%\n"
    }
   },
   "outputs": [
    {
     "ename": "NameError",
     "evalue": "name 'crawls' is not defined",
     "output_type": "error",
     "traceback": [
      "\u001B[0;31m---------------------------------------------------------------------------\u001B[0m",
      "\u001B[0;31mNameError\u001B[0m                                 Traceback (most recent call last)",
      "Input \u001B[0;32mIn [8]\u001B[0m, in \u001B[0;36m<cell line: 7>\u001B[0;34m()\u001B[0m\n\u001B[1;32m      4\u001B[0m     df_input \u001B[38;5;241m=\u001B[39m {k: v \u001B[38;5;28;01mfor\u001B[39;00m k, v \u001B[38;5;129;01min\u001B[39;00m crawl_data\u001B[38;5;241m.\u001B[39mitems() \u001B[38;5;28;01mif\u001B[39;00m k \u001B[38;5;129;01min\u001B[39;00m slice_keys}\n\u001B[1;32m      5\u001B[0m     \u001B[38;5;28;01mreturn\u001B[39;00m pd\u001B[38;5;241m.\u001B[39mDataFrame(data\u001B[38;5;241m=\u001B[39mdf_input)\n\u001B[0;32m----> 7\u001B[0m df_desktop \u001B[38;5;241m=\u001B[39m get_url_df(\u001B[43mcrawls\u001B[49m[\u001B[38;5;124m'\u001B[39m\u001B[38;5;124mdesktop\u001B[39m\u001B[38;5;124m'\u001B[39m])\n\u001B[1;32m      8\u001B[0m df_mobile \u001B[38;5;241m=\u001B[39m get_url_df(crawls[\u001B[38;5;124m'\u001B[39m\u001B[38;5;124mmobile\u001B[39m\u001B[38;5;124m'\u001B[39m])\n",
      "\u001B[0;31mNameError\u001B[0m: name 'crawls' is not defined"
     ]
    }
   ],
   "source": [
    "def get_url_df(crawl_data):\n",
    "    slice_keys = ['tranco_ranks', 'page_load_times', 'num_requests', 'distinct_third_parties',\n",
    "              'num_distinct_tracker_domains', 'num_distinct_tracker_entities']\n",
    "    df_input = {k: v for k, v in crawl_data.items() if k in slice_keys}\n",
    "    return pd.DataFrame(data=df_input)\n",
    "\n",
    "df_desktop = get_url_df(crawls['desktop'])\n",
    "df_mobile = get_url_df(crawls['mobile'])"
   ]
  },
  {
   "cell_type": "code",
   "execution_count": 33,
   "id": "794a1dc8",
   "metadata": {
    "pycharm": {
     "name": "#%%\n"
    }
   },
   "outputs": [
    {
     "name": "stdout",
     "output_type": "stream",
     "text": [
      "Error type           Crawl-desktop  Crawl-mobile\n",
      "Page load timeout              325           301\n",
      "TLS error                      477           480\n",
      "Consent click error              0             0\n"
     ]
    },
    {
     "data": {
      "text/plain": "<Figure size 432x288 with 0 Axes>"
     },
     "metadata": {},
     "output_type": "display_data"
    }
   ],
   "source": [
    "#1\n",
    "desktop_failures = {'Page load timeout': crawls['desktop']['failures']['timeout_failures'],\n",
    "                    'TLS error': crawls['desktop']['failures']['TLS_failures'],\n",
    "                    'Consent click error': crawls['desktop']['failures']['consent_failures']}\n",
    "\n",
    "mobile_failures = {'Page load timeout': crawls['mobile']['failures']['timeout_failures'],\n",
    "                    'TLS error': crawls['mobile']['failures']['TLS_failures'],\n",
    "                    'Consent click error': crawls['mobile']['failures']['consent_failures']}\n",
    "\n",
    "failures_table = pd.DataFrame({'Crawl-desktop': desktop_failures, 'Crawl-mobile': mobile_failures})\n",
    "failures_table.columns.name = 'Error type'\n",
    "print(failures_table)\n",
    "\n",
    "plt.savefig('../plots/figure1.png')"
   ]
  },
  {
   "cell_type": "code",
   "execution_count": null,
   "id": "70c0d5fc",
   "metadata": {
    "pycharm": {
     "name": "#%%\n"
    }
   },
   "outputs": [],
   "source": [
    "\n",
    "#2\n",
    "def draw_boxplot(metric):\n",
    "    box_df = pd.DataFrame(df_desktop, columns=[metric])\n",
    "    box_df.rename(columns={metric:'Crawl-desktop'}, inplace=True)\n",
    "    box_df = box_df.join(df_mobile[metric])\n",
    "    box_df.rename(columns={metric:'Crawl-mobile'}, inplace=True)\n",
    "    return sns.boxplot(data=pd.DataFrame(data=box_df, columns=['Crawl-desktop','Crawl-mobile']))"
   ]
  },
  {
   "cell_type": "code",
   "execution_count": null,
   "outputs": [],
   "source": [
    "g_pageload = draw_boxplot('page_load_times')"
   ],
   "metadata": {
    "collapsed": false,
    "pycharm": {
     "name": "#%%\n"
    }
   }
  },
  {
   "cell_type": "code",
   "execution_count": null,
   "outputs": [],
   "source": [
    "g_requests = draw_boxplot('num_requests')"
   ],
   "metadata": {
    "collapsed": false,
    "pycharm": {
     "name": "#%%\n"
    }
   }
  },
  {
   "cell_type": "code",
   "execution_count": null,
   "outputs": [],
   "source": [
    "g_thirdparties = draw_boxplot('distinct_third_parties')"
   ],
   "metadata": {
    "collapsed": false,
    "pycharm": {
     "name": "#%%\n"
    }
   }
  },
  {
   "cell_type": "code",
   "execution_count": null,
   "outputs": [],
   "source": [
    "g_trackdomains = draw_boxplot('num_distinct_tracker_domains')"
   ],
   "metadata": {
    "collapsed": false,
    "pycharm": {
     "name": "#%%\n"
    }
   }
  },
  {
   "cell_type": "code",
   "execution_count": null,
   "outputs": [],
   "source": [
    "g_trackentities = draw_boxplot('num_distinct_tracker_entities')"
   ],
   "metadata": {
    "collapsed": false,
    "pycharm": {
     "name": "#%%\n"
    }
   }
  },
  {
   "cell_type": "code",
   "execution_count": null,
   "outputs": [],
   "source": [
    "#3\n",
    "# Create desktop lookup and mobile lookup to make table string legible code.\n",
    "dlu = {'plt': df_desktop['page_load_times'],\n",
    "       'nr': df_desktop['num_requests'],\n",
    "       'dtp': df_desktop['distinct_third_parties'],\n",
    "       'dtd': df_desktop['num_distinct_tracker_domains'],\n",
    "       'dte': df_desktop['num_distinct_tracker_entities']}\n",
    "mlu = {'plt': df_mobile['page_load_times'],\n",
    "       'nr': df_mobile['num_requests'],\n",
    "       'dtp': df_mobile['distinct_third_parties'],\n",
    "       'dtd': df_mobile['num_distinct_tracker_domains'],\n",
    "       'dte': df_mobile['num_distinct_tracker_entities']}\n",
    "table=f\"\"\"\\\\begin{{tabular}}{{l|l l l l l l }}\n",
    "        \\\\toprule\n",
    "        & \\multicolumn{{3}}{{c|}}{{Crawl-desktop}} & \\multicolumn{{3}}{{c|}}{{Crawl-mobile}} \\\\\\\\ \\\\hline\n",
    "        \\\\textbf{{Metric}} & \\t\\t\\tMin & Max & Median & Min & Max & Median \\\\\\\\\n",
    "        \\midrule\n",
    "        Page load time (s) & \\t\\t\\t{dlu['plt'].min()} & {dlu['plt'].max()} & {dlu['plt'].median()} & {mlu['plt'].min()} & {mlu['plt'].max()} & {mlu['plt'].median()} \\\\\\\\\n",
    "        Number of requests & \\t\\t\\t{dlu['nr'].min()} & {dlu['nr'].max()} & {dlu['nr'].median()} & {mlu['nr'].min()} & {mlu['nr'].max()} & {mlu['nr'].median()} \\\\\\\\\n",
    "        Number of distinct third parties & \\t{dlu['dtp'].min()} & {dlu['dtp'].max()} & {dlu['dtp'].median()} & {mlu['dtp'].min()} & {mlu['dtp'].max()} & {mlu['dtp'].median()} \\\\\\\\\n",
    "        Number of distinct tracker domains & \\t{dlu['dtd'].min()} & {dlu['dtd'].max()} & {dlu['dtd'].median()} & {mlu['dtd'].min()} & {mlu['dtd'].max()} & {mlu['dtd'].median()} \\\\\\\\\n",
    "        Number of distinct tracker entities & \\t{dlu['dte'].min()} & {dlu['dte'].max()} & {dlu['dte'].median()} & {mlu['dte'].min()} & {mlu['dte'].max()} & {mlu['dte'].median()} \\\\\\\\\n",
    "        \\\\bottomrule\n",
    "    \\end{{tabular}}\"\"\"\n",
    "print(table)"
   ],
   "metadata": {
    "collapsed": false,
    "pycharm": {
     "name": "#%%\n"
    }
   }
  },
  {
   "cell_type": "code",
   "execution_count": 62,
   "id": "2ed2532c",
   "metadata": {
    "pycharm": {
     "name": "#%%\n"
    }
   },
   "outputs": [],
   "source": [
    "def ten_most_prev_websites_table(desktop_counts, mobile_counts):\n",
    "    table_desktop = pd.DataFrame({'Third-party desktop': desktop_counts.keys(), 'Nr of websites desktop': desktop_counts.values()}).sort_values(by=['Nr of websites desktop'],ascending=False).reset_index(drop=True)\n",
    "    table_mobile = pd.DataFrame({'Third-party mobile': mobile_counts.keys(), 'Nr of websites mobile': mobile_counts.values()}).sort_values(by=['Nr of websites mobile'],ascending=False).reset_index(drop=True)\n",
    "\n",
    "    table = pd.concat([table_desktop, table_mobile],axis=1)\n",
    "\n",
    "    # Some settings to make the table prettier\n",
    "    pd.set_option('display.precision', 0) # No decimals in count\n",
    "    pd.set_option('expand_frame_repr', False)\n",
    "    table.index += 1 # Start at index 1\n",
    "    columns=[('Crawl-desktop','Third-party'),('Crawl-desktop','Number of websites'),('Crawl-mobile','Third-party'),('Crawl-mobile','Number of websites') ]\n",
    "    table.columns=pd.MultiIndex.from_tuples(columns) # Add nested column names\n",
    "    return table\n",
    "    #Only print the first 10 rows\n",
    "    #print(table.head(10))"
   ]
  },
  {
   "cell_type": "code",
   "execution_count": 63,
   "outputs": [
    {
     "name": "stdout",
     "output_type": "stream",
     "text": [
      "\\begin{tabular}{llrlr}\n",
      "\\toprule\n",
      "{} & \\multicolumn{2}{l}{Crawl-desktop} & \\multicolumn{2}{l}{Crawl-mobile} \\\\\n",
      "{} &           Third-party & Number of websites &           Third-party & Number of websites \\\\\n",
      "\\midrule\n",
      "1  &            google.com &                 49 &            google.com &                 77 \\\\\n",
      "2  &       doubleclick.net &                 43 &       doubleclick.net &                 68 \\\\\n",
      "3  &  google-analytics.com &                 41 &  google-analytics.com &                 67 \\\\\n",
      "4  &           gstatic.com &                 38 &  googletagmanager.com &                 62 \\\\\n",
      "5  &  googletagmanager.com &                 38 &             google.nl &                 54 \\\\\n",
      "6  &             google.nl &                 34 &          facebook.com &                 42 \\\\\n",
      "7  &          facebook.com &                 23 &           gstatic.com &                 36 \\\\\n",
      "8  &  googleadservices.com &                 20 &  googleadservices.com &                 34 \\\\\n",
      "9  &  fonts.googleapis.com &                 19 &          facebook.net &                 33 \\\\\n",
      "10 &          facebook.net &                 18 &  fonts.googleapis.com &                 25 \\\\\n",
      "\\bottomrule\n",
      "\\end{tabular}\n",
      "\n"
     ]
    }
   ],
   "source": [
    "#4\n",
    "print(ten_most_prev_websites_table(crawls['desktop']['third_party_counts'], crawls['mobile']['third_party_counts']).head(10).to_latex())"
   ],
   "metadata": {
    "collapsed": false,
    "pycharm": {
     "name": "#%%\n"
    }
   }
  },
  {
   "cell_type": "code",
   "execution_count": 64,
   "outputs": [
    {
     "name": "stdout",
     "output_type": "stream",
     "text": [
      "\\begin{tabular}{llrlr}\n",
      "\\toprule\n",
      "{} & \\multicolumn{2}{l}{Crawl-desktop} & \\multicolumn{2}{l}{Crawl-mobile} \\\\\n",
      "{} &           Third-party & Number of websites &           Third-party & Number of websites \\\\\n",
      "\\midrule\n",
      "1  &            google.com &                 49 &            google.com &                 77 \\\\\n",
      "2  &       doubleclick.net &                 43 &       doubleclick.net &                 68 \\\\\n",
      "3  &  google-analytics.com &                 41 &  google-analytics.com &                 67 \\\\\n",
      "4  &           gstatic.com &                 38 &             google.nl &                 54 \\\\\n",
      "5  &             google.nl &                 34 &          facebook.com &                 42 \\\\\n",
      "6  &          facebook.com &                 23 &           gstatic.com &                 36 \\\\\n",
      "7  &  googleadservices.com &                 20 &  googleadservices.com &                 34 \\\\\n",
      "8  &          facebook.net &                 18 &          facebook.net &                 33 \\\\\n",
      "9  &              bing.com &                 14 &           twitter.com &                 23 \\\\\n",
      "10 &   amazon-adsystem.com &                 13 &              bing.com &                 23 \\\\\n",
      "\\bottomrule\n",
      "\\end{tabular}\n",
      "\n"
     ]
    }
   ],
   "source": [
    "#5\n",
    "print(ten_most_prev_websites_table(crawls['desktop']['third_party_tracker_counts'], crawls['mobile']['third_party_tracker_counts']).head(10).to_latex())"
   ],
   "metadata": {
    "collapsed": false,
    "pycharm": {
     "name": "#%%\n"
    }
   }
  },
  {
   "cell_type": "code",
   "execution_count": 65,
   "outputs": [
    {
     "name": "stdout",
     "output_type": "stream",
     "text": [
      "\\begin{tabular}{llrlr}\n",
      "\\toprule\n",
      "{} & \\multicolumn{2}{l}{Crawl-desktop} & \\multicolumn{2}{l}{Crawl-mobile} \\\\\n",
      "{} &                Third-party & Number of websites &                Third-party & Number of websites \\\\\n",
      "\\midrule\n",
      "1  &                 Google LLC &                 75 &                 Google LLC &                103 \\\\\n",
      "2  &             Facebook, Inc. &                 26 &             Facebook, Inc. &                 46 \\\\\n",
      "3  &      Microsoft Corporation &                 22 &      Microsoft Corporation &                 38 \\\\\n",
      "4  &  Amazon Technologies, Inc. &                 13 &                 Adobe Inc. &                 26 \\\\\n",
      "5  &              comScore, Inc &                 13 &              Twitter, Inc. &                 24 \\\\\n",
      "6  &              Twitter, Inc. &                 12 &  Amazon Technologies, Inc. &                 20 \\\\\n",
      "7  &                 Adobe Inc. &                 11 &         The Trade Desk Inc &                 17 \\\\\n",
      "8  &           Cloudflare, Inc. &                 11 &           WarnerMedia, LLC &                 16 \\\\\n",
      "9  &                   LiveRamp &                  8 &              comScore, Inc &                 16 \\\\\n",
      "10 &            Pinterest, Inc. &                  7 &                   LiveRamp &                 15 \\\\\n",
      "\\bottomrule\n",
      "\\end{tabular}\n",
      "\n"
     ]
    }
   ],
   "source": [
    "#6\n",
    "print(ten_most_prev_websites_table(crawls['desktop']['third_party_tracker_entities'], crawls['mobile']['third_party_tracker_entities']).head(10).to_latex())"
   ],
   "metadata": {
    "collapsed": false,
    "pycharm": {
     "name": "#%%\n"
    }
   }
  },
  {
   "cell_type": "code",
   "execution_count": 52,
   "id": "02b5ef0b",
   "metadata": {
    "pycharm": {
     "name": "#%%\n"
    }
   },
   "outputs": [],
   "source": [
    "#7 prep dataframes for plots\n",
    "distinct_third_parties_desktop = pd.DataFrame( {'Tranco rank': crawls['desktop']['tranco_ranks'], 'Distinct third-party domains': crawls['desktop']['distinct_third_parties']})\n",
    "distinct_third_parties_mobile = pd.DataFrame( {'Tranco rank': crawls['mobile']['tranco_ranks'], 'Distinct third-party domains': crawls['mobile']['distinct_third_parties']})\n",
    "\n",
    "# TODO: remove NaN values"
   ]
  },
  {
   "cell_type": "code",
   "execution_count": 34,
   "outputs": [
    {
     "data": {
      "text/plain": "<Figure size 360x360 with 1 Axes>",
      "image/png": "[encoded data removed]"
     },
     "metadata": {
      "needs_background": "light"
     },
     "output_type": "display_data"
    }
   ],
   "source": [
    "#7 desktop\n",
    "sns.lmplot(x='Tranco rank', y='Distinct third-party domains', data=distinct_third_parties_desktop)\n",
    "plt.savefig('../plots/figure7_desktop.png', dpi=600)"
   ],
   "metadata": {
    "collapsed": false,
    "pycharm": {
     "name": "#%%\n"
    }
   }
  },
  {
   "cell_type": "code",
   "execution_count": 35,
   "outputs": [
    {
     "data": {
      "text/plain": "<Figure size 360x360 with 1 Axes>",
      "image/png": "[encoded data removed]"
     },
     "metadata": {
      "needs_background": "light"
     },
     "output_type": "display_data"
    }
   ],
   "source": [
    "#7 mobile\n",
    "sns.lmplot(x='Tranco rank', y='Distinct third-party domains', data=distinct_third_parties_mobile)\n",
    "plt.savefig('../plots/figure7_mobile.png', dpi=600)"
   ],
   "metadata": {
    "collapsed": false,
    "pycharm": {
     "name": "#%%\n"
    }
   }
  },
  {
   "cell_type": "code",
   "execution_count": 36,
   "id": "78b43d73",
   "metadata": {
    "pycharm": {
     "name": "#%%\n"
    }
   },
   "outputs": [],
   "source": [
    "#8\n",
    "distinct_trackers_desktop = pd.DataFrame( {'Tranco rank': crawls['desktop']['tranco_ranks'], 'Distinct tracker domains': crawls['desktop']['num_distinct_tracker_domains']})\n",
    "distinct_trackers_mobile = pd.DataFrame( {'Tranco rank': crawls['mobile']['tranco_ranks'], 'Distinct tracker domains': crawls['mobile']['num_distinct_tracker_domains']})\n",
    "\n",
    "# TODO: remove NaN values"
   ]
  },
  {
   "cell_type": "code",
   "execution_count": 37,
   "outputs": [
    {
     "data": {
      "text/plain": "<Figure size 360x360 with 1 Axes>",
      "image/png": "[encoded data removed]"
     },
     "metadata": {
      "needs_background": "light"
     },
     "output_type": "display_data"
    }
   ],
   "source": [
    "#8 desktop\n",
    "sns.lmplot(x='Tranco rank', y='Distinct tracker domains', data=distinct_trackers_desktop)\n",
    "plt.savefig('../plots/figure8_desktop.png', dpi=600)"
   ],
   "metadata": {
    "collapsed": false,
    "pycharm": {
     "name": "#%%\n"
    }
   }
  },
  {
   "cell_type": "code",
   "execution_count": 75,
   "outputs": [
    {
     "data": {
      "text/plain": "<Figure size 360x360 with 1 Axes>",
      "image/png": "[encoded data removed]"
     },
     "metadata": {
      "needs_background": "light"
     },
     "output_type": "display_data"
    }
   ],
   "source": [
    "#8 mobile\n",
    "sns.lmplot(x='Tranco rank', y='Distinct tracker domains', data=distinct_trackers_mobile)\n",
    "plt.savefig('../plots/figure8_mobile.png', dpi=600)"
   ],
   "metadata": {
    "collapsed": false,
    "pycharm": {
     "name": "#%%\n"
    }
   }
  },
  {
   "cell_type": "code",
   "execution_count": 68,
   "id": "bb86790a",
   "metadata": {
    "pycharm": {
     "name": "#%%\n"
    }
   },
   "outputs": [
    {
     "name": "stdout",
     "output_type": "stream",
     "text": [
      "\\begin{tabular}{llllrl}\n",
      "\\toprule\n",
      "{} &    crawl & request\\_hostname &  website &  num\\_cookies &  first\\_party \\\\\n",
      "\\midrule\n",
      "0 &  desktop &          cdc.gov &  cdc.gov &           18 &         True \\\\\n",
      "1 &   mobile &          cdc.gov &  cdc.gov &           18 &         True \\\\\n",
      "\\bottomrule\n",
      "\\end{tabular}\n",
      "\n"
     ]
    }
   ],
   "source": [
    "#9\n",
    "data_9 = []\n",
    "for crawl, crawl_data in crawls.items():\n",
    "    data_9.append([crawl] + list(crawl_data['uber_cookie'].values()))\n",
    "    \n",
    "df_9 = pd.DataFrame(data_9)\n",
    "df_9.columns = ['crawl'] + list(crawls['desktop']['uber_cookie'].keys())\n",
    "print(df_9.to_latex())"
   ]
  },
  {
   "cell_type": "code",
   "execution_count": 69,
   "id": "cce23abb",
   "metadata": {
    "pycharm": {
     "name": "#%%\n"
    }
   },
   "outputs": [
    {
     "name": "stdout",
     "output_type": "stream",
     "text": [
      "\\begin{tabular}{llllllllrlr}\n",
      "\\toprule\n",
      "{} &    crawl &         domain &  httpOnly &       name & path &  secure &                     value &  size & sameSite &           expiry \\\\\n",
      "\\midrule\n",
      "0 &  desktop &     .apple.com &     False &        geo &    / &   False &                        NL &     2 &     None &  999999999999999 \\\\\n",
      "1 &  desktop &     .apple.com &     False &        geo &    / &   False &                        NL &     2 &     None &  999999999999999 \\\\\n",
      "2 &  desktop &  .bilibili.com &     False &  innersign &    / &   False &                         0 &     1 &     None &  999999999999999 \\\\\n",
      "3 &   mobile &      .1688.com &     False &     ctoken &    / &   False &  9bXvOhKmmcNAMgQEDD4tnaga &    24 &     None &  999999999999999 \\\\\n",
      "4 &   mobile &      .1688.com &     False &     ctoken &    / &   False &  9bXvOhKmmcNAMgQEDD4tnaga &    24 &     None &  999999999999999 \\\\\n",
      "5 &   mobile &     .apple.com &     False &        geo &    / &   False &                        NL &     2 &     None &  999999999999999 \\\\\n",
      "\\bottomrule\n",
      "\\end{tabular}\n",
      "\n"
     ]
    }
   ],
   "source": [
    "#10\n",
    "data_10 = []\n",
    "for crawl, crawl_data in crawls.items():\n",
    "    for cookie in crawl_data['longest_lifespan_cookies']:\n",
    "        data_10.append([crawl] + list(cookie.values()))\n",
    "\n",
    "df_10 = pd.DataFrame(data_10)\n",
    "df_10.columns = ['crawl'] + list(crawls['desktop']['longest_lifespan_cookies'][0].keys())\n",
    "print(df_10.to_latex())"
   ]
  },
  {
   "cell_type": "code",
   "execution_count": 73,
   "id": "2c822e79",
   "metadata": {
    "pycharm": {
     "name": "#%%\n"
    }
   },
   "outputs": [
    {
     "data": {
      "text/plain": "       crawl                                       combo  count\n99    mobile               (doubleclick.net, google.com)     16\n121   mobile                     (google.com, google.nl)     15\n76    mobile                      (bing.com, clarity.ms)     12\n81    mobile                      (clarity.ms, bing.com)     12\n120   mobile               (google.com, doubleclick.net)      9\n..       ...                                         ...    ...\n40   desktop  (smartadserver.com, the-ozone-project.com)      1\n41   desktop              (taboola.com, casalemedia.com)      1\n42   desktop              (turn.com, ebayadservices.com)      1\n43   desktop             (yahoo.com, ebayadservices.com)      1\n44   desktop                     (youtu.be, youtube.com)      1\n\n[191 rows x 3 columns]",
      "text/html": "<div>\n<style scoped>\n    .dataframe tbody tr th:only-of-type {\n        vertical-align: middle;\n    }\n\n    .dataframe tbody tr th {\n        vertical-align: top;\n    }\n\n    .dataframe thead th {\n        text-align: right;\n    }\n</style>\n<table border=\"1\" class=\"dataframe\">\n  <thead>\n    <tr style=\"text-align: right;\">\n      <th></th>\n      <th>crawl</th>\n      <th>combo</th>\n      <th>count</th>\n    </tr>\n  </thead>\n  <tbody>\n    <tr>\n      <th>99</th>\n      <td>mobile</td>\n      <td>(doubleclick.net, google.com)</td>\n      <td>16</td>\n    </tr>\n    <tr>\n      <th>121</th>\n      <td>mobile</td>\n      <td>(google.com, google.nl)</td>\n      <td>15</td>\n    </tr>\n    <tr>\n      <th>76</th>\n      <td>mobile</td>\n      <td>(bing.com, clarity.ms)</td>\n      <td>12</td>\n    </tr>\n    <tr>\n      <th>81</th>\n      <td>mobile</td>\n      <td>(clarity.ms, bing.com)</td>\n      <td>12</td>\n    </tr>\n    <tr>\n      <th>120</th>\n      <td>mobile</td>\n      <td>(google.com, doubleclick.net)</td>\n      <td>9</td>\n    </tr>\n    <tr>\n      <th>...</th>\n      <td>...</td>\n      <td>...</td>\n      <td>...</td>\n    </tr>\n    <tr>\n      <th>40</th>\n      <td>desktop</td>\n      <td>(smartadserver.com, the-ozone-project.com)</td>\n      <td>1</td>\n    </tr>\n    <tr>\n      <th>41</th>\n      <td>desktop</td>\n      <td>(taboola.com, casalemedia.com)</td>\n      <td>1</td>\n    </tr>\n    <tr>\n      <th>42</th>\n      <td>desktop</td>\n      <td>(turn.com, ebayadservices.com)</td>\n      <td>1</td>\n    </tr>\n    <tr>\n      <th>43</th>\n      <td>desktop</td>\n      <td>(yahoo.com, ebayadservices.com)</td>\n      <td>1</td>\n    </tr>\n    <tr>\n      <th>44</th>\n      <td>desktop</td>\n      <td>(youtu.be, youtube.com)</td>\n      <td>1</td>\n    </tr>\n  </tbody>\n</table>\n<p>191 rows × 3 columns</p>\n</div>"
     },
     "execution_count": 73,
     "metadata": {},
     "output_type": "execute_result"
    }
   ],
   "source": [
    "#11\n",
    "data_11 = []\n",
    "for crawl, crawl_data in crawls.items():\n",
    "    for combo in crawl_data['tracker_redirect_combos']:\n",
    "        data_11.append([crawl, combo])\n",
    "        \n",
    "df_11 = pd.DataFrame(data_11)\n",
    "df_11.columns = ['crawl', 'combo']\n",
    "df_11.groupby(['crawl','combo'])['combo'] \\\n",
    "     .count() \\\n",
    "     .reset_index(name=\"count\") \\\n",
    "     .sort_values(['crawl', 'count'], ascending=False)"
   ]
  },
  {
   "cell_type": "code",
   "execution_count": 74,
   "outputs": [
    {
     "data": {
      "text/plain": "<IPython.core.display.HTML object>",
      "text/html": "<table border=\"1\" class=\"dataframe\">\n  <thead>\n    <tr style=\"text-align: right;\">\n      <th></th>\n      <th>Crawl</th>\n      <th>Website</th>\n      <th>Fingerprint script URL</th>\n      <th>Canvas image</th>\n    </tr>\n  </thead>\n  <tbody>\n    <tr>\n      <th>0</th>\n      <td>desktop</td>\n      <td>baidu.com</td>\n      <td>https://hectorstatic.baidu.com/96c9c06653ba892e.js:3:1378</td>\n      <td><img src=\"../crawl_data/baidu.com_desktop_canvas_capture_0.png\" /></td>\n    </tr>\n    <tr>\n      <th>1</th>\n      <td>desktop</td>\n      <td>bloomberg.com</td>\n      <td>https://www.bloomberg.com/8FCGYgk4/init.js:4:14392</td>\n      <td><img src=\"../crawl_data/bloomberg.com_desktop_canvas_capture_0.png\" /></td>\n    </tr>\n    <tr>\n      <th>2</th>\n      <td>desktop</td>\n      <td>canva.com</td>\n      <td>https://canva.com/cdn-cgi/bm/cv/669835187/api.js:25:7216</td>\n      <td><img src=\"../crawl_data/canva.com_desktop_canvas_capture_0.png\" /></td>\n    </tr>\n    <tr>\n      <th>3</th>\n      <td>desktop</td>\n      <td>discord.com</td>\n      <td>https://discord.com/cdn-cgi/bm/cv/669835187/api.js:25:7216</td>\n      <td><img src=\"../crawl_data/discord.com_desktop_canvas_capture_0.png\" /></td>\n    </tr>\n    <tr>\n      <th>4</th>\n      <td>desktop</td>\n      <td>ibm.com</td>\n      <td>https://www.ibm.com/GXcMX0/j/b/-_35Yf5Gu3Ah/zupODGJDruOr/AHckAWsB/DSQlc/HhjXjE:1:80389</td>\n      <td><img src=\"../crawl_data/ibm.com_desktop_canvas_capture_0.png\" /></td>\n    </tr>\n    <tr>\n      <th>5</th>\n      <td>desktop</td>\n      <td>ibm.com</td>\n      <td>https://www.ibm.com/GXcMX0/j/b/-_35Yf5Gu3Ah/zupODGJDruOr/AHckAWsB/DSQlc/HhjXjE:1:80389</td>\n      <td><img src=\"../crawl_data/ibm.com_desktop_canvas_capture_1.png\" /></td>\n    </tr>\n    <tr>\n      <th>6</th>\n      <td>desktop</td>\n      <td>jd.com</td>\n      <td>https://gias.jd.com/js/td.js:1:1</td>\n      <td><img src=\"../crawl_data/jd.com_desktop_canvas_capture_0.png\" /></td>\n    </tr>\n    <tr>\n      <th>7</th>\n      <td>desktop</td>\n      <td>zhihu.com</td>\n      <td>https://static.zhihu.com/heifetz/main.zswsdid.ef1d4d1122c5d73d3e09.js:1:16962</td>\n      <td><img src=\"../crawl_data/zhihu.com_desktop_canvas_capture_0.png\" /></td>\n    </tr>\n    <tr>\n      <th>8</th>\n      <td>desktop</td>\n      <td>zhihu.com</td>\n      <td>https://cstaticdun.126.net/2.17.4/core.v2.17.4.min.js?v=2756422:1:423506</td>\n      <td><img src=\"../crawl_data/zhihu.com_desktop_canvas_capture_1.png\" /></td>\n    </tr>\n    <tr>\n      <th>9</th>\n      <td>desktop</td>\n      <td>zhihu.com</td>\n      <td>https://acstatic-dun.126.net/2.7.5_602a5ad7/watchman.min.js:151:496</td>\n      <td><img src=\"../crawl_data/zhihu.com_desktop_canvas_capture_2.png\" /></td>\n    </tr>\n    <tr>\n      <th>10</th>\n      <td>mobile</td>\n      <td>adobe.com</td>\n      <td>https://www.adobe.com/akam/13/71567440:2:6260</td>\n      <td><img src=\"../crawl_data/adobe.com_mobile_canvas_capture_0.png\" /></td>\n    </tr>\n    <tr>\n      <th>11</th>\n      <td>mobile</td>\n      <td>binance.com</td>\n      <td>https://bin.bnbstatic.com/static/modules/ExchangeHeader-2a16a9b.js:1:61989</td>\n      <td><img src=\"../crawl_data/binance.com_mobile_canvas_capture_0.png\" /></td>\n    </tr>\n    <tr>\n      <th>12</th>\n      <td>mobile</td>\n      <td>binance.com</td>\n      <td>https://bin.bnbstatic.com/static/runtime/main-4eb1e9bf209cefa59a40.js:1:163675</td>\n      <td><img src=\"../crawl_data/binance.com_mobile_canvas_capture_1.png\" /></td>\n    </tr>\n    <tr>\n      <th>13</th>\n      <td>mobile</td>\n      <td>bloomberg.com</td>\n      <td>https://www.bloomberg.com/8FCGYgk4/init.js:4:14392</td>\n      <td><img src=\"../crawl_data/bloomberg.com_mobile_canvas_capture_0.png\" /></td>\n    </tr>\n    <tr>\n      <th>14</th>\n      <td>mobile</td>\n      <td>discord.com</td>\n      <td>https://discord.com/cdn-cgi/bm/cv/669835187/api.js:25:7216</td>\n      <td><img src=\"../crawl_data/discord.com_mobile_canvas_capture_0.png\" /></td>\n    </tr>\n    <tr>\n      <th>15</th>\n      <td>mobile</td>\n      <td>force.com</td>\n      <td>https://www.salesforce.com/akam/13/11811d4b:2:6249</td>\n      <td><img src=\"../crawl_data/force.com_mobile_canvas_capture_0.png\" /></td>\n    </tr>\n    <tr>\n      <th>16</th>\n      <td>mobile</td>\n      <td>ibm.com</td>\n      <td>https://www.ibm.com/LBnPqa/QkF_Ec/rrd/BH-/ZN0Iz42dk/G73JGD0XuON1/L15cAQ/BBUbBBJK/RiY:1:80389</td>\n      <td><img src=\"../crawl_data/ibm.com_mobile_canvas_capture_0.png\" /></td>\n    </tr>\n    <tr>\n      <th>17</th>\n      <td>mobile</td>\n      <td>ibm.com</td>\n      <td>https://www.ibm.com/LBnPqa/QkF_Ec/rrd/BH-/ZN0Iz42dk/G73JGD0XuON1/L15cAQ/BBUbBBJK/RiY:1:80389</td>\n      <td><img src=\"../crawl_data/ibm.com_mobile_canvas_capture_1.png\" /></td>\n    </tr>\n    <tr>\n      <th>18</th>\n      <td>mobile</td>\n      <td>iqiyi.com</td>\n      <td>https://security.iqiyi.com/static/cook/v1/cooksdk.js:2:19438</td>\n      <td><img src=\"../crawl_data/iqiyi.com_mobile_canvas_capture_0.png\" /></td>\n    </tr>\n    <tr>\n      <th>19</th>\n      <td>mobile</td>\n      <td>oracle.com</td>\n      <td>https://www.oracle.com/akam/13/7837ed86:2:6249</td>\n      <td><img src=\"../crawl_data/oracle.com_mobile_canvas_capture_0.png\" /></td>\n    </tr>\n    <tr>\n      <th>20</th>\n      <td>mobile</td>\n      <td>tiktok.com</td>\n      <td>https://s20.tiktokcdn.com/tiktok/common/init.js?seed=AID-6BWBAQAAoxj1TBi4ZGH9raYQangeuV_SdbZe1NYdpT4zcbT7eoF79ZEL&hTc6j8Njvn--z=q:1:65492</td>\n      <td><img src=\"../crawl_data/tiktok.com_mobile_canvas_capture_0.png\" /></td>\n    </tr>\n    <tr>\n      <th>21</th>\n      <td>mobile</td>\n      <td>zhihu.com</td>\n      <td>https://static.zhihu.com/heifetz/mobile.zswsdid.c30588b43d09646b98a0.js:1:16962</td>\n      <td><img src=\"../crawl_data/zhihu.com_mobile_canvas_capture_0.png\" /></td>\n    </tr>\n  </tbody>\n</table>"
     },
     "execution_count": 74,
     "metadata": {},
     "output_type": "execute_result"
    }
   ],
   "source": [
    "#12\n",
    "canvas_fingerprints = []\n",
    "for crawl, crawl_data in crawls.items():\n",
    "    for fingerprint in crawl_data['canvas_fingerprints']:\n",
    "        canvas_fingerprints.append([crawl,\n",
    "                                    fingerprint['website'],\n",
    "                                    fingerprint['fingerprint_script_resource_url'],\n",
    "                                    '<img src=\"' + DATA_DIR + '/' + fingerprint['canvas_fingerprint_image'] + '\" />'\n",
    "                                   ])\n",
    "df_canvas_fingerprints = pd.DataFrame(canvas_fingerprints)\n",
    "df_canvas_fingerprints.columns = ['Crawl', 'Website', 'Fingerprint script URL', 'Canvas image']\n",
    "df_canvas_fingerprints = df_canvas_fingerprints.to_html(escape=False)\n",
    "HTML(df_canvas_fingerprints)"
   ],
   "metadata": {
    "collapsed": false,
    "pycharm": {
     "name": "#%%\n"
    }
   }
  },
  {
   "cell_type": "code",
   "execution_count": 79,
   "outputs": [
    {
     "name": "stdout",
     "output_type": "stream",
     "text": [
      "\\begin{tabular}{lllll}\n",
      "\\toprule\n",
      "{} &    Crawl &        Website &                             Fingerprint script URL &                                       Canvas image \\\\\n",
      "\\midrule\n",
      "0  &  desktop &      baidu.com &  https://hectorstatic.baidu.com/96c9c06653ba892... &  \\textbackslash includegraphics[]\\{fingerprints/baidu.com\\_desk... \\\\\n",
      "1  &  desktop &  bloomberg.com &  https://www.bloomberg.com/8FCGYgk4/init.js:4:1... &  \\textbackslash includegraphics[]\\{fingerprints/bloomberg.com\\_... \\\\\n",
      "2  &  desktop &      canva.com &  https://canva.com/cdn-cgi/bm/cv/669835187/api.... &  \\textbackslash includegraphics[]\\{fingerprints/canva.com\\_desk... \\\\\n",
      "3  &  desktop &    discord.com &  https://discord.com/cdn-cgi/bm/cv/669835187/ap... &  \\textbackslash includegraphics[]\\{fingerprints/discord.com\\_de... \\\\\n",
      "4  &  desktop &        ibm.com &  https://www.ibm.com/GXcMX0/j/b/-\\_35Yf5Gu3Ah/zu... &  \\textbackslash includegraphics[]\\{fingerprints/ibm.com\\_deskto... \\\\\n",
      "5  &  desktop &        ibm.com &  https://www.ibm.com/GXcMX0/j/b/-\\_35Yf5Gu3Ah/zu... &  \\textbackslash includegraphics[]\\{fingerprints/ibm.com\\_deskto... \\\\\n",
      "6  &  desktop &         jd.com &                   https://gias.jd.com/js/td.js:1:1 &  \\textbackslash includegraphics[]\\{fingerprints/jd.com\\_desktop... \\\\\n",
      "7  &  desktop &      zhihu.com &  https://static.zhihu.com/heifetz/main.zswsdid.... &  \\textbackslash includegraphics[]\\{fingerprints/zhihu.com\\_desk... \\\\\n",
      "8  &  desktop &      zhihu.com &  https://cstaticdun.126.net/2.17.4/core.v2.17.4... &  \\textbackslash includegraphics[]\\{fingerprints/zhihu.com\\_desk... \\\\\n",
      "9  &  desktop &      zhihu.com &  https://acstatic-dun.126.net/2.7.5\\_602a5ad7/wa... &  \\textbackslash includegraphics[]\\{fingerprints/zhihu.com\\_desk... \\\\\n",
      "10 &   mobile &      adobe.com &      https://www.adobe.com/akam/13/71567440:2:6260 &  \\textbackslash includegraphics[]\\{fingerprints/adobe.com\\_mobi... \\\\\n",
      "11 &   mobile &    binance.com &  https://bin.bnbstatic.com/static/modules/Excha... &  \\textbackslash includegraphics[]\\{fingerprints/binance.com\\_mo... \\\\\n",
      "12 &   mobile &    binance.com &  https://bin.bnbstatic.com/static/runtime/main-... &  \\textbackslash includegraphics[]\\{fingerprints/binance.com\\_mo... \\\\\n",
      "13 &   mobile &  bloomberg.com &  https://www.bloomberg.com/8FCGYgk4/init.js:4:1... &  \\textbackslash includegraphics[]\\{fingerprints/bloomberg.com\\_... \\\\\n",
      "14 &   mobile &    discord.com &  https://discord.com/cdn-cgi/bm/cv/669835187/ap... &  \\textbackslash includegraphics[]\\{fingerprints/discord.com\\_mo... \\\\\n",
      "15 &   mobile &      force.com &  https://www.salesforce.com/akam/13/11811d4b:2:... &  \\textbackslash includegraphics[]\\{fingerprints/force.com\\_mobi... \\\\\n",
      "16 &   mobile &        ibm.com &  https://www.ibm.com/LBnPqa/QkF\\_Ec/rrd/BH-/ZN0I... &  \\textbackslash includegraphics[]\\{fingerprints/ibm.com\\_mobile... \\\\\n",
      "17 &   mobile &        ibm.com &  https://www.ibm.com/LBnPqa/QkF\\_Ec/rrd/BH-/ZN0I... &  \\textbackslash includegraphics[]\\{fingerprints/ibm.com\\_mobile... \\\\\n",
      "18 &   mobile &      iqiyi.com &  https://security.iqiyi.com/static/cook/v1/cook... &  \\textbackslash includegraphics[]\\{fingerprints/iqiyi.com\\_mobi... \\\\\n",
      "19 &   mobile &     oracle.com &     https://www.oracle.com/akam/13/7837ed86:2:6249 &  \\textbackslash includegraphics[]\\{fingerprints/oracle.com\\_mob... \\\\\n",
      "20 &   mobile &     tiktok.com &  https://s20.tiktokcdn.com/tiktok/common/init.j... &  \\textbackslash includegraphics[]\\{fingerprints/tiktok.com\\_mob... \\\\\n",
      "21 &   mobile &      zhihu.com &  https://static.zhihu.com/heifetz/mobile.zswsdi... &  \\textbackslash includegraphics[]\\{fingerprints/zhihu.com\\_mobi... \\\\\n",
      "\\bottomrule\n",
      "\\end{tabular}\n",
      "\n"
     ]
    }
   ],
   "source": [
    "#12 latex version\n",
    "canvas_fingerprints = []\n",
    "for crawl, crawl_data in crawls.items():\n",
    "    for fingerprint in crawl_data['canvas_fingerprints']:\n",
    "        canvas_fingerprints.append([crawl,\n",
    "                                    fingerprint['website'],\n",
    "                                    fingerprint['fingerprint_script_resource_url'],\n",
    "                                    '\\includegraphics[]{fingerprints/' + fingerprint['canvas_fingerprint_image'] + '}'\n",
    "                                   ])\n",
    "df_canvas_fingerprints = pd.DataFrame(canvas_fingerprints)\n",
    "df_canvas_fingerprints.columns = ['Crawl', 'Website', 'Fingerprint script URL', 'Canvas image']\n",
    "print(df_canvas_fingerprints.to_latex())"
   ],
   "metadata": {
    "collapsed": false,
    "pycharm": {
     "name": "#%%\n"
    }
   }
  },
  {
   "cell_type": "code",
   "execution_count": null,
   "outputs": [],
   "source": [],
   "metadata": {
    "collapsed": false,
    "pycharm": {
     "name": "#%%\n"
    }
   }
  },
  {
   "cell_type": "code",
   "execution_count": null,
   "id": "dc3da273",
   "metadata": {},
   "outputs": [],
   "source": [
    "#12\n",
    "canvas_fingerprints = []\n",
    "for crawl, crawl_data in crawls.items():\n",
    "    for fingerprint in crawl_data['canvas_fingerprints']:\n",
    "        canvas_fingerprints.append([crawl,\n",
    "                                    fingerprint['website'],\n",
    "                                    fingerprint['fingerprint_script_resource_url'],\n",
    "                                    '<img src=\"' + DATA_DIR + '/' + fingerprint['canvas_fingerprint_image'] + '\" />'\n",
    "                                   ])\n",
    "df_canvas_fingerprints = pd.DataFrame(canvas_fingerprints)\n",
    "df_canvas_fingerprints.columns = ['Crawl', 'Website', 'Fingerprint script URL', 'Canvas image']\n",
    "df_canvas_fingerprints = df_canvas_fingerprints.to_html(escape=False)\n",
    "HTML(df_canvas_fingerprints)"
   ]
  }
 ],
 "metadata": {
  "kernelspec": {
   "display_name": "Python 3 (ipykernel)",
   "language": "python",
   "name": "python3"
  },
  "language_info": {
   "codemirror_mode": {
    "name": "ipython",
    "version": 3
   },
   "file_extension": ".py",
   "mimetype": "text/x-python",
   "name": "python",
   "nbconvert_exporter": "python",
   "pygments_lexer": "ipython3",
   "version": "3.10.4"
  }
 },
 "nbformat": 4,
 "nbformat_minor": 5
}