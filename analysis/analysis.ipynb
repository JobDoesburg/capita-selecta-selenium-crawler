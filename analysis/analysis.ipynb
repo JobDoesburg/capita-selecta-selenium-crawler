{
 "cells": [
  {
   "cell_type": "code",
   "execution_count": 1,
   "id": "5f362f9d",
   "metadata": {
    "pycharm": {
     "name": "#%%\n"
    }
   },
   "outputs": [],
   "source": [
    "import os\n",
    "import glob\n",
    "import json\n",
    "from tld import get_fld\n",
    "import seaborn as sns\n",
    "import pandas as pd\n",
    "from tqdm import tqdm\n",
    "from IPython.display import HTML"
   ]
  },
  {
   "cell_type": "code",
   "execution_count": 2,
   "id": "af6cee20",
   "metadata": {
    "pycharm": {
     "name": "#%%\n"
    }
   },
   "outputs": [],
   "source": [
    "# Constants\n",
    "DATA_DIR = '../crawl_data'\n",
    "SRC_DIR = '../crawler_src'"
   ]
  },
  {
   "cell_type": "code",
   "execution_count": 3,
   "id": "039a5233",
   "metadata": {
    "pycharm": {
     "name": "#%%\n"
    }
   },
   "outputs": [],
   "source": [
    "# Load the datasets\n",
    "os.chdir(DATA_DIR)\n",
    "\n",
    "# Get desktop json files\n",
    "data_json_desktop = glob.glob('*_desktop.json')\n",
    "\n",
    "# Get mobile json files\n",
    "data_json_mobile = glob.glob('*_mobile.json')"
   ]
  },
  {
   "cell_type": "code",
   "execution_count": 4,
   "id": "8f542317",
   "metadata": {
    "pycharm": {
     "name": "#%%\n"
    }
   },
   "outputs": [],
   "source": [
    "def init_data_object():\n",
    "    return  {\n",
    "        # Per url data\n",
    "        'tranco_ranks': [],\n",
    "        'page_load_times': [],\n",
    "        'num_requests': [],\n",
    "        'distinct_third_parties': [],\n",
    "        'num_distinct_tracker_domains': [],\n",
    "        'num_distinct_tracker_entities': [],\n",
    "        \n",
    "        # Global data\n",
    "        'failures': {\n",
    "            'timeout_failures': 0,\n",
    "            'TLS_failures': 0,\n",
    "            'consent_failures': 0\n",
    "        },\n",
    "        'third_party_counts': {},\n",
    "        'third_party_tracker_counts': {},\n",
    "        'third_party_tracker_entities': {},\n",
    "        'uber_cookie': {\n",
    "            'request_hostname': '',\n",
    "            'website': '',\n",
    "            'num_cookies': 0,\n",
    "            'first_party': False\n",
    "        },\n",
    "        'longest_lifespan_cookies': [],\n",
    "        'canvas_fingerprints': [],\n",
    "        'tracker_redirect_combos': []\n",
    "    }"
   ]
  },
  {
   "cell_type": "code",
   "execution_count": 5,
   "id": "6453dc97",
   "metadata": {
    "pycharm": {
     "name": "#%%\n"
    }
   },
   "outputs": [],
   "source": [
    "def parse_stupid_blocklist_to_something_readable(file_path):\n",
    "    url_list = {}\n",
    "    \n",
    "    with open(file_path, encoding='utf-8') as blocklist_file:\n",
    "        blocklist = json.load(blocklist_file)\n",
    "        \n",
    "        for cat, entities in blocklist['categories'].items():\n",
    "            for entity_list in entities:\n",
    "                for entity, url_objects in entity_list.items():\n",
    "                    for url, aliases in url_objects.items():\n",
    "                        all_urls = [url]\n",
    "                        all_urls += aliases\n",
    "                        \n",
    "                        if entity not in url_list:\n",
    "                            url_list[entity] = []\n",
    "                            \n",
    "                        for u in all_urls:\n",
    "                            \n",
    "                            try:\n",
    "                                url_list[entity].append(get_fld(u, fix_protocol=True))\n",
    "                            except:\n",
    "                                pass\n",
    "                        \n",
    "                        url_list[entity] = list(set(url_list[entity]))\n",
    "    \n",
    "    return url_list"
   ]
  },
  {
   "cell_type": "code",
   "execution_count": 6,
   "id": "3063d701",
   "metadata": {
    "pycharm": {
     "name": "#%%\n"
    }
   },
   "outputs": [],
   "source": [
    "def create_stats_object(json_files):\n",
    "    data_object = init_data_object()\n",
    "    \n",
    "    for json_file in tqdm(json_files):\n",
    "        with open(json_file, 'r', encoding='utf-8') as data_file:\n",
    "            try:\n",
    "                data = json.load(data_file)\n",
    "            except:\n",
    "                print(f'Error opening json file: {json_file}, skipping')\n",
    "                data = {\"website_domain\": json_file.split('_')[0],\n",
    "                        \"rank\": -1,\n",
    "                        \"crawl_mode\": \"desktop\",\n",
    "                        \"post_pageload_url\": None,\n",
    "                        \"pageload_start_ts\": -1,\n",
    "                        \"pageload_end_ts\": -1,\n",
    "                        \"consent_status\": None,\n",
    "                        \"requests\": [],\n",
    "                        \"load_time\": -1,\n",
    "                        \"cookies\": -1,\n",
    "                        \"canvas_image_data\": None,\n",
    "                        \"failure_status\": {\n",
    "                            \"timeout\": True,\n",
    "                            \"TLS\": None,\n",
    "                            \"consent\": False\n",
    "                        }\n",
    "                    }\n",
    "                \n",
    "            # Append tranco rank\n",
    "            data_object['tranco_ranks'].append(data['rank'])\n",
    "            \n",
    "            # Updata failure counts\n",
    "            if data['failure_status']['timeout']:\n",
    "                data_object['failures']['timeout_failures'] += 1\n",
    "            if data['failure_status']['TLS'] != 'null':\n",
    "                data_object['failures']['TLS_failures'] += 1\n",
    "            if data['failure_status']['consent']:\n",
    "                data_object['failures']['consent_failures'] += 1\n",
    "                \n",
    "            # Only proceed if there is no timeout\n",
    "            if data['failure_status']['timeout']:\n",
    "                data_object['num_requests'].append(None)\n",
    "                data_object['page_load_times'].append(None)\n",
    "                data_object['distinct_third_parties'].append(None)\n",
    "                data_object['num_distinct_tracker_domains'].append(None)\n",
    "                data_object['num_distinct_tracker_entities'].append(None)\n",
    "                continue\n",
    "            \n",
    "            # Append page load time\n",
    "            data_object['page_load_times'].append(data['load_time'])\n",
    "            \n",
    "            # Append number of requests\n",
    "            data_object['num_requests'].append(len(data['requests']))\n",
    "            \n",
    "            # Append distinct third parties\n",
    "            get_fld_websocket = lambda u: get_fld(u[6:], fix_protocol=True) if u.startswith('wss://') \\\n",
    "                else get_fld(u, fix_protocol=True)\n",
    "            distinct_third_parties = set([ get_fld_websocket(d['request_url'])\n",
    "                                           for d in data['requests']\n",
    "                                         ])\n",
    "            distinct_third_parties.remove(get_fld(data['website_domain'], fix_protocol=True))\n",
    "            data_object['distinct_third_parties'].append(len(distinct_third_parties))\n",
    "            \n",
    "            # Append number of distinct tracker domains\n",
    "            tracker_dict = parse_stupid_blocklist_to_something_readable(SRC_DIR + '/disconnectmeblocklist.json')\n",
    "            distinct_tracker_domains = []\n",
    "            for third_party_domain in distinct_third_parties:\n",
    "                for _, domains in tracker_dict.items():\n",
    "                    if third_party_domain in domains:\n",
    "                        distinct_tracker_domains.append(third_party_domain)\n",
    "            data_object['num_distinct_tracker_domains'].append(len(distinct_tracker_domains))\n",
    "            \n",
    "            # Append number of distinct tracker entities/companies\n",
    "            distinct_tracker_entities = []\n",
    "            with open(SRC_DIR + '/domain_map.json', encoding='utf-8') as domain_map_json_file:\n",
    "                domain_map_json = json.load(domain_map_json_file)\n",
    "                \n",
    "                for tracker_domain in distinct_tracker_domains:\n",
    "                    if tracker_domain in domain_map_json.keys():\n",
    "                        distinct_tracker_entities.append(domain_map_json[tracker_domain]['entityName'])\n",
    "                    else:\n",
    "                        for tracker_entity, tracker_entity_domains in tracker_dict.items():\n",
    "                            if tracker_domain in tracker_entity_domains:\n",
    "                                distinct_tracker_entities.append(tracker_entity)\n",
    "                                break\n",
    "                \n",
    "            distinct_tracker_entities = set(distinct_tracker_entities)\n",
    "            data_object['num_distinct_tracker_entities'].append(len(distinct_tracker_entities))\n",
    "            \n",
    "            # Update third party reference counts\n",
    "            for party in distinct_third_parties:\n",
    "                if party in data_object['third_party_counts']:\n",
    "                    data_object['third_party_counts'][party] += 1\n",
    "                else:\n",
    "                    data_object['third_party_counts'][party] = 1\n",
    "            \n",
    "            # Update third party tracker counts\n",
    "            for tracker in distinct_tracker_domains:\n",
    "                if tracker in data_object['third_party_tracker_counts']:\n",
    "                    data_object['third_party_tracker_counts'][tracker] += 1\n",
    "                else:\n",
    "                    data_object['third_party_tracker_counts'][tracker] =1\n",
    "            \n",
    "            # Update third party tracker entities\n",
    "            for entity in distinct_tracker_entities:\n",
    "                if entity in data_object['third_party_tracker_entities']:\n",
    "                    data_object['third_party_tracker_entities'][entity] += 1\n",
    "                else:\n",
    "                    data_object['third_party_tracker_entities'][entity] =1\n",
    "                    \n",
    "            # Update the uber cookie\n",
    "            max_cookie_count = None\n",
    "            request_url = None\n",
    "            for request in data['requests']:\n",
    "                if 'cookie' not in request['request_headers']:\n",
    "                    continue\n",
    "                    \n",
    "                cookie_count = len(request['request_headers']['cookie'].split(';'))\n",
    "                if max_cookie_count is None or cookie_count > max_cookie_count:\n",
    "                    max_cookie_count = cookie_count\n",
    "                    request_url = request['request_url']\n",
    "            \n",
    "            if max_cookie_count is not None and \\\n",
    "               max_cookie_count > data_object['uber_cookie']['num_cookies']:\n",
    "                data_object['uber_cookie']['num_cookies'] = max_cookie_count\n",
    "                data_object['uber_cookie']['request_hostname'] = get_fld(request_url, fix_protocol=True)\n",
    "                data_object['uber_cookie']['website'] = data['website_domain']\n",
    "                data_object['uber_cookie']['first_party'] = data_object['uber_cookie']['request_hostname'] == \\\n",
    "                                                            data_object['uber_cookie']['website']\n",
    "                \n",
    "            # Get longest lasting cookies\n",
    "            cookie_ids = []\n",
    "            for request in data['requests']:\n",
    "                if 'cookie' not in request['request_headers']:\n",
    "                    continue\n",
    "                    \n",
    "                cookies = request['request_headers']['cookie'].split(';')\n",
    "                for cookie in cookies:\n",
    "                    cookie_ids.append(cookie.split('=')[0])\n",
    "            \n",
    "            all_cookies = []\n",
    "            for cookie in data['cookies']:\n",
    "                if cookie['name'] in cookie_ids:\n",
    "                    cookie_data = cookie.copy()\n",
    "                    cookie_data['size'] = len(cookie_data['value'])\n",
    "                    \n",
    "                    if 'sameSite' not in cookie_data:\n",
    "                        cookie_data['sameSite'] = None\n",
    "\n",
    "                    if 'expiry' not in cookie_data: # Cookies without expiry exist\n",
    "                        cookie_data['expiry'] = 999999999999999\n",
    "                    all_cookies.append(cookie_data)\n",
    "                    all_cookies.append(cookie_data)\n",
    "\n",
    "                sort_alg = lambda c: c['expiry']\n",
    "                all_cookies.sort(key=sort_alg, reverse=True)\n",
    "            data_object['longest_lifespan_cookies'] += all_cookies[:3]\n",
    "            data_object['longest_lifespan_cookies'].sort(key=sort_alg, reverse=True)\n",
    "            data_object['longest_lifespan_cookies'] = data_object['longest_lifespan_cookies'][:3]\n",
    "            \n",
    "            # HTTP redirect pairs for tracker domains\n",
    "            tracker_redirect_combos = []\n",
    "            for request in data['requests']:\n",
    "                if request['response_status_code'] >= 300 and \\\n",
    "                   request['response_status_code'] <= 399 and \\\n",
    "                   'location' in request['response_headers']:\n",
    "                    origin_domain = get_fld(request['request_url'], fix_protocol=True)\n",
    "                    if request['response_headers']['location'].startswith('http'): # TODO: verify this filters exactly all non-relative URLs\n",
    "                        redirect_domain = get_fld(request['response_headers']['location'], fix_protocol=True)\n",
    "                    else: # location can be relative URL\n",
    "                        redirect_domain = origin_domain\n",
    "                    if origin_domain != redirect_domain and \\\n",
    "                       (origin_domain in distinct_tracker_domains or \\\n",
    "                        redirect_domain in distinct_tracker_domains):\n",
    "                        tracker_redirect_combos.append((origin_domain, redirect_domain))\n",
    "            data_object['tracker_redirect_combos'] = list(set(tracker_redirect_combos))\n",
    "            \n",
    "            # Fingerprints\n",
    "            for fingerprint in data['canvas_image_data']:\n",
    "                fingerprint['website'] = get_fld(data['website_domain'], fix_protocol=True)\n",
    "            data_object['canvas_fingerprints'] += data['canvas_image_data']\n",
    "            \n",
    "    return data_object"
   ]
  },
  {
   "cell_type": "code",
   "execution_count": 7,
   "id": "df44b839",
   "metadata": {
    "pycharm": {
     "name": "#%%\n"
    }
   },
   "outputs": [
    {
     "name": "stderr",
     "output_type": "stream",
     "text": [
      "100%|████████████████████████████████████████████████████████████████████████████████| 220/220 [00:30<00:00,  7.21it/s]\n",
      "100%|████████████████████████████████████████████████████████████████████████████████| 223/223 [00:32<00:00,  6.96it/s]\n"
     ]
    }
   ],
   "source": [
    "# Create the data objects\n",
    "crawls = {\n",
    "    'desktop': create_stats_object(data_json_desktop),\n",
    "    'mobile': create_stats_object(data_json_mobile)\n",
    "}"
   ]
  },
  {
   "cell_type": "code",
   "execution_count": 8,
   "id": "b6c7e9f4",
   "metadata": {
    "pycharm": {
     "name": "#%%\n"
    }
   },
   "outputs": [
    {
     "data": {
      "text/html": [
       "<div>\n",
       "<style scoped>\n",
       "    .dataframe tbody tr th:only-of-type {\n",
       "        vertical-align: middle;\n",
       "    }\n",
       "\n",
       "    .dataframe tbody tr th {\n",
       "        vertical-align: top;\n",
       "    }\n",
       "\n",
       "    .dataframe thead th {\n",
       "        text-align: right;\n",
       "    }\n",
       "</style>\n",
       "<table border=\"1\" class=\"dataframe\">\n",
       "  <thead>\n",
       "    <tr style=\"text-align: right;\">\n",
       "      <th></th>\n",
       "      <th>tranco_ranks</th>\n",
       "      <th>page_load_times</th>\n",
       "      <th>num_requests</th>\n",
       "      <th>distinct_third_parties</th>\n",
       "      <th>num_distinct_tracker_domains</th>\n",
       "      <th>num_distinct_tracker_entities</th>\n",
       "    </tr>\n",
       "  </thead>\n",
       "  <tbody>\n",
       "    <tr>\n",
       "      <th>0</th>\n",
       "      <td>35</td>\n",
       "      <td>4.0</td>\n",
       "      <td>112.0</td>\n",
       "      <td>22.0</td>\n",
       "      <td>17.0</td>\n",
       "      <td>9.0</td>\n",
       "    </tr>\n",
       "    <tr>\n",
       "      <th>1</th>\n",
       "      <td>110</td>\n",
       "      <td>2.0</td>\n",
       "      <td>1.0</td>\n",
       "      <td>0.0</td>\n",
       "      <td>0.0</td>\n",
       "      <td>0.0</td>\n",
       "    </tr>\n",
       "    <tr>\n",
       "      <th>2</th>\n",
       "      <td>156</td>\n",
       "      <td>NaN</td>\n",
       "      <td>NaN</td>\n",
       "      <td>NaN</td>\n",
       "      <td>NaN</td>\n",
       "      <td>NaN</td>\n",
       "    </tr>\n",
       "    <tr>\n",
       "      <th>3</th>\n",
       "      <td>229</td>\n",
       "      <td>NaN</td>\n",
       "      <td>NaN</td>\n",
       "      <td>NaN</td>\n",
       "      <td>NaN</td>\n",
       "      <td>NaN</td>\n",
       "    </tr>\n",
       "    <tr>\n",
       "      <th>4</th>\n",
       "      <td>63</td>\n",
       "      <td>6.0</td>\n",
       "      <td>131.0</td>\n",
       "      <td>8.0</td>\n",
       "      <td>0.0</td>\n",
       "      <td>0.0</td>\n",
       "    </tr>\n",
       "    <tr>\n",
       "      <th>...</th>\n",
       "      <td>...</td>\n",
       "      <td>...</td>\n",
       "      <td>...</td>\n",
       "      <td>...</td>\n",
       "      <td>...</td>\n",
       "      <td>...</td>\n",
       "    </tr>\n",
       "    <tr>\n",
       "      <th>215</th>\n",
       "      <td>211</td>\n",
       "      <td>3.0</td>\n",
       "      <td>20.0</td>\n",
       "      <td>0.0</td>\n",
       "      <td>0.0</td>\n",
       "      <td>0.0</td>\n",
       "    </tr>\n",
       "    <tr>\n",
       "      <th>216</th>\n",
       "      <td>75</td>\n",
       "      <td>5.0</td>\n",
       "      <td>94.0</td>\n",
       "      <td>5.0</td>\n",
       "      <td>2.0</td>\n",
       "      <td>2.0</td>\n",
       "    </tr>\n",
       "    <tr>\n",
       "      <th>217</th>\n",
       "      <td>80</td>\n",
       "      <td>NaN</td>\n",
       "      <td>NaN</td>\n",
       "      <td>NaN</td>\n",
       "      <td>NaN</td>\n",
       "      <td>NaN</td>\n",
       "    </tr>\n",
       "    <tr>\n",
       "      <th>218</th>\n",
       "      <td>196</td>\n",
       "      <td>3.0</td>\n",
       "      <td>174.0</td>\n",
       "      <td>30.0</td>\n",
       "      <td>27.0</td>\n",
       "      <td>21.0</td>\n",
       "    </tr>\n",
       "    <tr>\n",
       "      <th>219</th>\n",
       "      <td>204</td>\n",
       "      <td>7.0</td>\n",
       "      <td>343.0</td>\n",
       "      <td>33.0</td>\n",
       "      <td>23.0</td>\n",
       "      <td>15.0</td>\n",
       "    </tr>\n",
       "  </tbody>\n",
       "</table>\n",
       "<p>220 rows × 6 columns</p>\n",
       "</div>"
      ],
      "text/plain": [
       "    tranco_ranks  page_load_times  num_requests  distinct_third_parties  \\\n",
       "0             35              4.0         112.0                    22.0   \n",
       "1            110              2.0           1.0                     0.0   \n",
       "2            156              NaN           NaN                     NaN   \n",
       "3            229              NaN           NaN                     NaN   \n",
       "4             63              6.0         131.0                     8.0   \n",
       "..           ...              ...           ...                     ...   \n",
       "215          211              3.0          20.0                     0.0   \n",
       "216           75              5.0          94.0                     5.0   \n",
       "217           80              NaN           NaN                     NaN   \n",
       "218          196              3.0         174.0                    30.0   \n",
       "219          204              7.0         343.0                    33.0   \n",
       "\n",
       "     num_distinct_tracker_domains  num_distinct_tracker_entities  \n",
       "0                            17.0                            9.0  \n",
       "1                             0.0                            0.0  \n",
       "2                             NaN                            NaN  \n",
       "3                             NaN                            NaN  \n",
       "4                             0.0                            0.0  \n",
       "..                            ...                            ...  \n",
       "215                           0.0                            0.0  \n",
       "216                           2.0                            2.0  \n",
       "217                           NaN                            NaN  \n",
       "218                          27.0                           21.0  \n",
       "219                          23.0                           15.0  \n",
       "\n",
       "[220 rows x 6 columns]"
      ]
     },
     "execution_count": 8,
     "metadata": {},
     "output_type": "execute_result"
    }
   ],
   "source": [
    "def get_url_df(crawl_data):\n",
    "    slice_keys = ['tranco_ranks', 'page_load_times', 'num_requests', 'distinct_third_parties',\n",
    "              'num_distinct_tracker_domains', 'num_distinct_tracker_entities']\n",
    "    df_input = {k: v for k, v in crawl_data.items() if k in slice_keys}\n",
    "    return pd.DataFrame(data=df_input)\n",
    "\n",
    "df_desktop = get_url_df(crawls['desktop'])\n",
    "df_mobile = get_url_df(crawls['mobile'])\n",
    "\n",
    "df_desktop"
   ]
  },
  {
   "cell_type": "code",
   "execution_count": 9,
   "id": "9c05b89e",
   "metadata": {
    "pycharm": {
     "name": "#%%\n"
    }
   },
   "outputs": [
    {
     "data": {
      "image/png": "[encoded data removed]",
      "text/plain": [
       "<Figure size 432x288 with 1 Axes>"
      ]
     },
     "metadata": {
      "needs_background": "light"
     },
     "output_type": "display_data"
    }
   ],
   "source": [
    "def draw_boxplot(metric):\n",
    "    box_df = pd.DataFrame(df_desktop, columns=[metric])\n",
    "    box_df.rename(columns={metric:'Crawl-desktop'}, inplace=True)\n",
    "    box_df = box_df.join(df_mobile[metric])\n",
    "    box_df.rename(columns={metric:'Crawl-mobile'}, inplace=True)\n",
    "    return sns.boxplot(data=pd.DataFrame(data=box_df, columns=['Crawl-desktop','Crawl-mobile']))\n",
    "\n",
    "g_pageload = draw_boxplot('page_load_times')"
   ]
  },
  {
   "cell_type": "code",
   "execution_count": 10,
   "id": "1a3e70b4",
   "metadata": {
    "pycharm": {
     "name": "#%%\n"
    }
   },
   "outputs": [
    {
     "data": {
      "image/png": "[encoded data removed]",
      "text/plain": [
       "<Figure size 432x288 with 1 Axes>"
      ]
     },
     "metadata": {
      "needs_background": "light"
     },
     "output_type": "display_data"
    }
   ],
   "source": [
    "g_requests = draw_boxplot('num_requests')"
   ]
  },
  {
   "cell_type": "code",
   "execution_count": 11,
   "id": "6a09fb6a",
   "metadata": {
    "pycharm": {
     "name": "#%%\n"
    }
   },
   "outputs": [
    {
     "data": {
      "image/png": "[encoded data removed]",
      "text/plain": [
       "<Figure size 432x288 with 1 Axes>"
      ]
     },
     "metadata": {
      "needs_background": "light"
     },
     "output_type": "display_data"
    }
   ],
   "source": [
    "g_thirdparties = draw_boxplot('distinct_third_parties')"
   ]
  },
  {
   "cell_type": "code",
   "execution_count": 12,
   "id": "78a26349",
   "metadata": {
    "pycharm": {
     "name": "#%%\n"
    }
   },
   "outputs": [
    {
     "data": {
      "image/png": "[encoded data removed]",
      "text/plain": [
       "<Figure size 432x288 with 1 Axes>"
      ]
     },
     "metadata": {
      "needs_background": "light"
     },
     "output_type": "display_data"
    }
   ],
   "source": [
    "g_trackdomains = draw_boxplot('num_distinct_tracker_domains')"
   ]
  },
  {
   "cell_type": "code",
   "execution_count": 13,
   "id": "e468eb4e",
   "metadata": {
    "pycharm": {
     "name": "#%%\n"
    }
   },
   "outputs": [
    {
     "data": {
      "image/png": "[encoded data removed]",
      "text/plain": [
       "<Figure size 432x288 with 1 Axes>"
      ]
     },
     "metadata": {
      "needs_background": "light"
     },
     "output_type": "display_data"
    }
   ],
   "source": [
    "g_trackentities = draw_boxplot('num_distinct_tracker_entities')\n"
   ]
  },
  {
   "cell_type": "code",
   "execution_count": 14,
   "id": "444e40c7",
   "metadata": {
    "pycharm": {
     "name": "#%%\n"
    }
   },
   "outputs": [
    {
     "name": "stdout",
     "output_type": "stream",
     "text": [
      "Error type           Crawl-desktop  Crawl-mobile\n",
      "Page load timeout               44            38\n",
      "TLS error                      220           223\n",
      "Consent click error              0             0\n"
     ]
    }
   ],
   "source": [
    "#1\n",
    "desktop_failures = {'Page load timeout': crawls['desktop']['failures']['timeout_failures'],\n",
    "                    'TLS error': crawls['desktop']['failures']['TLS_failures'],\n",
    "                    'Consent click error': crawls['desktop']['failures']['consent_failures']}\n",
    "\n",
    "mobile_failures = {'Page load timeout': crawls['mobile']['failures']['timeout_failures'],\n",
    "                    'TLS error': crawls['mobile']['failures']['TLS_failures'],\n",
    "                    'Consent click error': crawls['mobile']['failures']['consent_failures']}\n",
    "\n",
    "failures_table = pd.DataFrame({'Crawl-desktop': desktop_failures, 'Crawl-mobile': mobile_failures})\n",
    "failures_table.columns.name = 'Error type'\n",
    "print(failures_table)"
   ]
  },
  {
   "cell_type": "code",
   "execution_count": 15,
   "id": "02cd7afe",
   "metadata": {
    "pycharm": {
     "name": "#%%\n"
    }
   },
   "outputs": [
    {
     "ename": "OptionError",
     "evalue": "Pattern matched multiple keys",
     "output_type": "error",
     "traceback": [
      "\u001b[0;31m---------------------------------------------------------------------------\u001b[0m",
      "\u001b[0;31mOptionError\u001b[0m                               Traceback (most recent call last)",
      "Input \u001b[0;32mIn [15]\u001b[0m, in \u001b[0;36m<cell line: 18>\u001b[0;34m()\u001b[0m\n\u001b[1;32m     15\u001b[0m     \u001b[38;5;66;03m#Only print the first 10 rows\u001b[39;00m\n\u001b[1;32m     16\u001b[0m     \u001b[38;5;28;01mreturn\u001b[39;00m table\u001b[38;5;241m.\u001b[39mhead(\u001b[38;5;241m10\u001b[39m)\n\u001b[0;32m---> 18\u001b[0m \u001b[38;5;28mprint\u001b[39m(\u001b[43mten_most_prev_websites_table\u001b[49m\u001b[43m(\u001b[49m\u001b[43mcrawls\u001b[49m\u001b[43m[\u001b[49m\u001b[38;5;124;43m'\u001b[39;49m\u001b[38;5;124;43mdesktop\u001b[39;49m\u001b[38;5;124;43m'\u001b[39;49m\u001b[43m]\u001b[49m\u001b[43m[\u001b[49m\u001b[38;5;124;43m'\u001b[39;49m\u001b[38;5;124;43mthird_party_counts\u001b[39;49m\u001b[38;5;124;43m'\u001b[39;49m\u001b[43m]\u001b[49m\u001b[43m,\u001b[49m\u001b[43m \u001b[49m\u001b[43mcrawls\u001b[49m\u001b[43m[\u001b[49m\u001b[38;5;124;43m'\u001b[39;49m\u001b[38;5;124;43mmobile\u001b[39;49m\u001b[38;5;124;43m'\u001b[39;49m\u001b[43m]\u001b[49m\u001b[43m[\u001b[49m\u001b[38;5;124;43m'\u001b[39;49m\u001b[38;5;124;43mthird_party_counts\u001b[39;49m\u001b[38;5;124;43m'\u001b[39;49m\u001b[43m]\u001b[49m\u001b[43m)\u001b[49m, \u001b[38;5;124m\"\u001b[39m\u001b[38;5;130;01m\\n\u001b[39;00m\u001b[38;5;124m\"\u001b[39m) \u001b[38;5;66;03m#4\u001b[39;00m\n\u001b[1;32m     19\u001b[0m \u001b[38;5;28mprint\u001b[39m(ten_most_prev_websites_table(crawls[\u001b[38;5;124m'\u001b[39m\u001b[38;5;124mdesktop\u001b[39m\u001b[38;5;124m'\u001b[39m][\u001b[38;5;124m'\u001b[39m\u001b[38;5;124mthird_party_tracker_counts\u001b[39m\u001b[38;5;124m'\u001b[39m], crawls[\u001b[38;5;124m'\u001b[39m\u001b[38;5;124mmobile\u001b[39m\u001b[38;5;124m'\u001b[39m][\u001b[38;5;124m'\u001b[39m\u001b[38;5;124mthird_party_tracker_counts\u001b[39m\u001b[38;5;124m'\u001b[39m]), \u001b[38;5;124m\"\u001b[39m\u001b[38;5;130;01m\\n\u001b[39;00m\u001b[38;5;124m\"\u001b[39m) \u001b[38;5;66;03m#5\u001b[39;00m\n\u001b[1;32m     20\u001b[0m \u001b[38;5;28mprint\u001b[39m(ten_most_prev_websites_table(crawls[\u001b[38;5;124m'\u001b[39m\u001b[38;5;124mdesktop\u001b[39m\u001b[38;5;124m'\u001b[39m][\u001b[38;5;124m'\u001b[39m\u001b[38;5;124mthird_party_tracker_entities\u001b[39m\u001b[38;5;124m'\u001b[39m], crawls[\u001b[38;5;124m'\u001b[39m\u001b[38;5;124mmobile\u001b[39m\u001b[38;5;124m'\u001b[39m][\u001b[38;5;124m'\u001b[39m\u001b[38;5;124mthird_party_tracker_entities\u001b[39m\u001b[38;5;124m'\u001b[39m]))\n",
      "Input \u001b[0;32mIn [15]\u001b[0m, in \u001b[0;36mten_most_prev_websites_table\u001b[0;34m(desktop_counts, mobile_counts)\u001b[0m\n\u001b[1;32m      6\u001b[0m table \u001b[38;5;241m=\u001b[39m pd\u001b[38;5;241m.\u001b[39mconcat([table_desktop, table_mobile],axis\u001b[38;5;241m=\u001b[39m\u001b[38;5;241m1\u001b[39m)\n\u001b[1;32m      8\u001b[0m \u001b[38;5;66;03m# Some settings to make the table prettier\u001b[39;00m\n\u001b[0;32m----> 9\u001b[0m \u001b[43mpd\u001b[49m\u001b[38;5;241;43m.\u001b[39;49m\u001b[43mset_option\u001b[49m\u001b[43m(\u001b[49m\u001b[38;5;124;43m'\u001b[39;49m\u001b[38;5;124;43mprecision\u001b[39;49m\u001b[38;5;124;43m'\u001b[39;49m\u001b[43m,\u001b[49m\u001b[43m \u001b[49m\u001b[38;5;241;43m0\u001b[39;49m\u001b[43m)\u001b[49m \u001b[38;5;66;03m# No decimals in count\u001b[39;00m\n\u001b[1;32m     10\u001b[0m table\u001b[38;5;241m.\u001b[39mfillna(\u001b[38;5;124m\"\u001b[39m\u001b[38;5;124m\"\u001b[39m,inplace\u001b[38;5;241m=\u001b[39m\u001b[38;5;28;01mTrue\u001b[39;00m) \u001b[38;5;66;03m# Replace 'None'  with ''\u001b[39;00m\n\u001b[1;32m     11\u001b[0m table\u001b[38;5;241m.\u001b[39mindex \u001b[38;5;241m+\u001b[39m\u001b[38;5;241m=\u001b[39m \u001b[38;5;241m1\u001b[39m \u001b[38;5;66;03m# Start at index 1\u001b[39;00m\n",
      "File \u001b[0;32m/usr/lib/python3.10/site-packages/pandas/_config/config.py:256\u001b[0m, in \u001b[0;36mCallableDynamicDoc.__call__\u001b[0;34m(self, *args, **kwds)\u001b[0m\n\u001b[1;32m    255\u001b[0m \u001b[38;5;28;01mdef\u001b[39;00m \u001b[38;5;21m__call__\u001b[39m(\u001b[38;5;28mself\u001b[39m, \u001b[38;5;241m*\u001b[39margs, \u001b[38;5;241m*\u001b[39m\u001b[38;5;241m*\u001b[39mkwds):\n\u001b[0;32m--> 256\u001b[0m     \u001b[38;5;28;01mreturn\u001b[39;00m \u001b[38;5;28;43mself\u001b[39;49m\u001b[38;5;241;43m.\u001b[39;49m\u001b[38;5;18;43m__func__\u001b[39;49m\u001b[43m(\u001b[49m\u001b[38;5;241;43m*\u001b[39;49m\u001b[43margs\u001b[49m\u001b[43m,\u001b[49m\u001b[43m \u001b[49m\u001b[38;5;241;43m*\u001b[39;49m\u001b[38;5;241;43m*\u001b[39;49m\u001b[43mkwds\u001b[49m\u001b[43m)\u001b[49m\n",
      "File \u001b[0;32m/usr/lib/python3.10/site-packages/pandas/_config/config.py:149\u001b[0m, in \u001b[0;36m_set_option\u001b[0;34m(*args, **kwargs)\u001b[0m\n\u001b[1;32m    146\u001b[0m     \u001b[38;5;28;01mraise\u001b[39;00m \u001b[38;5;167;01mTypeError\u001b[39;00m(\u001b[38;5;124mf\u001b[39m\u001b[38;5;124m'\u001b[39m\u001b[38;5;124m_set_option() got an unexpected keyword argument \u001b[39m\u001b[38;5;124m\"\u001b[39m\u001b[38;5;132;01m{\u001b[39;00mkwarg\u001b[38;5;132;01m}\u001b[39;00m\u001b[38;5;124m\"\u001b[39m\u001b[38;5;124m'\u001b[39m)\n\u001b[1;32m    148\u001b[0m \u001b[38;5;28;01mfor\u001b[39;00m k, v \u001b[38;5;129;01min\u001b[39;00m \u001b[38;5;28mzip\u001b[39m(args[::\u001b[38;5;241m2\u001b[39m], args[\u001b[38;5;241m1\u001b[39m::\u001b[38;5;241m2\u001b[39m]):\n\u001b[0;32m--> 149\u001b[0m     key \u001b[38;5;241m=\u001b[39m \u001b[43m_get_single_key\u001b[49m\u001b[43m(\u001b[49m\u001b[43mk\u001b[49m\u001b[43m,\u001b[49m\u001b[43m \u001b[49m\u001b[43msilent\u001b[49m\u001b[43m)\u001b[49m\n\u001b[1;32m    151\u001b[0m     o \u001b[38;5;241m=\u001b[39m _get_registered_option(key)\n\u001b[1;32m    152\u001b[0m     \u001b[38;5;28;01mif\u001b[39;00m o \u001b[38;5;129;01mand\u001b[39;00m o\u001b[38;5;241m.\u001b[39mvalidator:\n",
      "File \u001b[0;32m/usr/lib/python3.10/site-packages/pandas/_config/config.py:116\u001b[0m, in \u001b[0;36m_get_single_key\u001b[0;34m(pat, silent)\u001b[0m\n\u001b[1;32m    114\u001b[0m     \u001b[38;5;28;01mraise\u001b[39;00m OptionError(\u001b[38;5;124mf\u001b[39m\u001b[38;5;124m\"\u001b[39m\u001b[38;5;124mNo such keys(s): \u001b[39m\u001b[38;5;132;01m{\u001b[39;00m\u001b[38;5;28mrepr\u001b[39m(pat)\u001b[38;5;132;01m}\u001b[39;00m\u001b[38;5;124m\"\u001b[39m)\n\u001b[1;32m    115\u001b[0m \u001b[38;5;28;01mif\u001b[39;00m \u001b[38;5;28mlen\u001b[39m(keys) \u001b[38;5;241m>\u001b[39m \u001b[38;5;241m1\u001b[39m:\n\u001b[0;32m--> 116\u001b[0m     \u001b[38;5;28;01mraise\u001b[39;00m OptionError(\u001b[38;5;124m\"\u001b[39m\u001b[38;5;124mPattern matched multiple keys\u001b[39m\u001b[38;5;124m\"\u001b[39m)\n\u001b[1;32m    117\u001b[0m key \u001b[38;5;241m=\u001b[39m keys[\u001b[38;5;241m0\u001b[39m]\n\u001b[1;32m    119\u001b[0m \u001b[38;5;28;01mif\u001b[39;00m \u001b[38;5;129;01mnot\u001b[39;00m silent:\n",
      "\u001b[0;31mOptionError\u001b[0m: Pattern matched multiple keys"
     ]
    }
   ],
   "source": [
    "#4,5,6\n",
    "def ten_most_prev_websites_table(desktop_counts, mobile_counts):\n",
    "    table_desktop = pd.DataFrame({'Third-party desktop': desktop_counts.keys(), 'Nr of websites desktop': desktop_counts.values()}).sort_values('Nr of websites desktop').reset_index(drop=True)\n",
    "    table_mobile = pd.DataFrame({'Third-party mobile': mobile_counts.keys(), 'Nr of websites mobile': mobile_counts.values()}).sort_values('Nr of websites mobile').reset_index(drop=True)\n",
    "\n",
    "    table = pd.concat([table_desktop, table_mobile],axis=1)\n",
    "\n",
    "    # Some settings to make the table prettier\n",
    "    pd.set_option('precision', 0) # No decimals in count\n",
    "    table.fillna(\"\",inplace=True) # Replace 'None'  with ''\n",
    "    table.index += 1 # Start at index 1\n",
    "    columns=[('Crawl-desktop','Third-party'),('Crawl-desktop','Number of websites'),('Crawl-mobile','Third-party'),('Crawl-mobile','Number of websites') ]\n",
    "    table.columns=pd.MultiIndex.from_tuples(columns) # Add nested column names\n",
    "\n",
    "    #Only print the first 10 rows\n",
    "    return table.head(10)\n",
    "\n",
    "print(ten_most_prev_websites_table(crawls['desktop']['third_party_counts'], crawls['mobile']['third_party_counts']), \"\\n\") #4\n",
    "print(ten_most_prev_websites_table(crawls['desktop']['third_party_tracker_counts'], crawls['mobile']['third_party_tracker_counts']), \"\\n\") #5\n",
    "print(ten_most_prev_websites_table(crawls['desktop']['third_party_tracker_entities'], crawls['mobile']['third_party_tracker_entities'])) #6"
   ]
  },
  {
   "cell_type": "code",
   "execution_count": 16,
   "id": "151c8dbc",
   "metadata": {
    "pycharm": {
     "name": "#%%\n"
    }
   },
   "outputs": [
    {
     "data": {
      "text/html": [
       "<table border=\"1\" class=\"dataframe\">\n",
       "  <thead>\n",
       "    <tr style=\"text-align: right;\">\n",
       "      <th></th>\n",
       "      <th>Crawl</th>\n",
       "      <th>Website</th>\n",
       "      <th>Fingerprint script URL</th>\n",
       "      <th>Canvas image</th>\n",
       "    </tr>\n",
       "  </thead>\n",
       "  <tbody>\n",
       "    <tr>\n",
       "      <th>0</th>\n",
       "      <td>desktop</td>\n",
       "      <td>tiktok.com</td>\n",
       "      <td>https://s20.tiktokcdn.com/tiktok/common/init.js?seed=AADA5deAAQAAcEDOXmtrmkQLlO7u7QlBtxeIGfB5Y6aUc4cPfq-qIFrhSoEv&hTc6j8Njvn--z=q:1:86705</td>\n",
       "      <td><img src=\"../crawl_data/tiktok.com_desktop_canvas_capture_0.png\" /></td>\n",
       "    </tr>\n",
       "    <tr>\n",
       "      <th>1</th>\n",
       "      <td>desktop</td>\n",
       "      <td>jd.com</td>\n",
       "      <td>https://gias.jd.com/js/td.js:1:1</td>\n",
       "      <td><img src=\"../crawl_data/jd.com_desktop_canvas_capture_0.png\" /></td>\n",
       "    </tr>\n",
       "    <tr>\n",
       "      <th>2</th>\n",
       "      <td>desktop</td>\n",
       "      <td>ibm.com</td>\n",
       "      <td>https://www.ibm.com/7uAhIX75U1oQ5/ss0/5tN1I-CTmgU/fYrEDwJX/dW1ccAkbBg/B1g3NDoc/NAAB:1:80389</td>\n",
       "      <td><img src=\"../crawl_data/ibm.com_desktop_canvas_capture_0.png\" /></td>\n",
       "    </tr>\n",
       "    <tr>\n",
       "      <th>3</th>\n",
       "      <td>desktop</td>\n",
       "      <td>ibm.com</td>\n",
       "      <td>https://www.ibm.com/7uAhIX75U1oQ5/ss0/5tN1I-CTmgU/fYrEDwJX/dW1ccAkbBg/B1g3NDoc/NAAB:1:80389</td>\n",
       "      <td><img src=\"../crawl_data/ibm.com_desktop_canvas_capture_1.png\" /></td>\n",
       "    </tr>\n",
       "    <tr>\n",
       "      <th>4</th>\n",
       "      <td>mobile</td>\n",
       "      <td>iqiyi.com</td>\n",
       "      <td>https://security.iqiyi.com/static/cook/v1/cooksdk.js:2:19438</td>\n",
       "      <td><img src=\"../crawl_data/iqiyi.com_mobile_canvas_capture_0.png\" /></td>\n",
       "    </tr>\n",
       "    <tr>\n",
       "      <th>5</th>\n",
       "      <td>mobile</td>\n",
       "      <td>oracle.com</td>\n",
       "      <td>https://www.oracle.com/akam/13/d53f7c4:2:6236</td>\n",
       "      <td><img src=\"../crawl_data/oracle.com_mobile_canvas_capture_0.png\" /></td>\n",
       "    </tr>\n",
       "    <tr>\n",
       "      <th>6</th>\n",
       "      <td>mobile</td>\n",
       "      <td>zhihu.com</td>\n",
       "      <td>https://static.zhihu.com/heifetz/mobile.zswsdid.7f2ffe1cd4cdd847b2ca.js:1:16962</td>\n",
       "      <td><img src=\"../crawl_data/zhihu.com_mobile_canvas_capture_0.png\" /></td>\n",
       "    </tr>\n",
       "    <tr>\n",
       "      <th>7</th>\n",
       "      <td>mobile</td>\n",
       "      <td>tiktok.com</td>\n",
       "      <td>https://s20.tiktokcdn.com/tiktok/common/init.js?seed=AACzVd6AAQAAs-n0kbsJyJ6rC7mzMp1nGn1-JLnoTdfTbEQW8HdcNlhrZuCu&hTc6j8Njvn--z=q:1:75269</td>\n",
       "      <td><img src=\"../crawl_data/tiktok.com_mobile_canvas_capture_0.png\" /></td>\n",
       "    </tr>\n",
       "    <tr>\n",
       "      <th>8</th>\n",
       "      <td>mobile</td>\n",
       "      <td>adobe.com</td>\n",
       "      <td>https://www.adobe.com/akam/13/6499c015:2:6240</td>\n",
       "      <td><img src=\"../crawl_data/adobe.com_mobile_canvas_capture_0.png\" /></td>\n",
       "    </tr>\n",
       "    <tr>\n",
       "      <th>9</th>\n",
       "      <td>mobile</td>\n",
       "      <td>bloomberg.com</td>\n",
       "      <td>https://www.bloomberg.com/8FCGYgk4/init.js:4:14392</td>\n",
       "      <td><img src=\"../crawl_data/bloomberg.com_mobile_canvas_capture_0.png\" /></td>\n",
       "    </tr>\n",
       "    <tr>\n",
       "      <th>10</th>\n",
       "      <td>mobile</td>\n",
       "      <td>ibm.com</td>\n",
       "      <td>https://www.ibm.com/LLSroXGi/suJ/VFT/V-O8ElYg9K/puESpXSr/YkMABnMC/QA/w6c3ljPko:1:80389</td>\n",
       "      <td><img src=\"../crawl_data/ibm.com_mobile_canvas_capture_0.png\" /></td>\n",
       "    </tr>\n",
       "    <tr>\n",
       "      <th>11</th>\n",
       "      <td>mobile</td>\n",
       "      <td>ibm.com</td>\n",
       "      <td>https://www.ibm.com/LLSroXGi/suJ/VFT/V-O8ElYg9K/puESpXSr/YkMABnMC/QA/w6c3ljPko:1:80389</td>\n",
       "      <td><img src=\"../crawl_data/ibm.com_mobile_canvas_capture_1.png\" /></td>\n",
       "    </tr>\n",
       "    <tr>\n",
       "      <th>12</th>\n",
       "      <td>mobile</td>\n",
       "      <td>cloudflare.com</td>\n",
       "      <td>https://www.cloudflare.com/cdn-cgi/bm/cv/669835187/api.js:25:7216</td>\n",
       "      <td><img src=\"../crawl_data/cloudflare.com_mobile_canvas_capture_0.png\" /></td>\n",
       "    </tr>\n",
       "    <tr>\n",
       "      <th>13</th>\n",
       "      <td>mobile</td>\n",
       "      <td>force.com</td>\n",
       "      <td>https://www.salesforce.com/akam/13/36b53664:2:6254</td>\n",
       "      <td><img src=\"../crawl_data/force.com_mobile_canvas_capture_0.png\" /></td>\n",
       "    </tr>\n",
       "  </tbody>\n",
       "</table>"
      ],
      "text/plain": [
       "<IPython.core.display.HTML object>"
      ]
     },
     "execution_count": 16,
     "metadata": {},
     "output_type": "execute_result"
    }
   ],
   "source": [
    "#12\n",
    "canvas_fingerprints = []\n",
    "for crawl, crawl_data in crawls.items():\n",
    "    for fingerprint in crawl_data['canvas_fingerprints']:\n",
    "        canvas_fingerprints.append([crawl,\n",
    "                                    fingerprint['website'],\n",
    "                                    fingerprint['fingerprint_script_resource_url'],\n",
    "                                    '<img src=\"' + DATA_DIR + '/' + fingerprint['canvas_fingerprint_image'] + '\" />'\n",
    "                                   ])\n",
    "df_canvas_fingerprints = pd.DataFrame(canvas_fingerprints)\n",
    "df_canvas_fingerprints.columns = ['Crawl', 'Website', 'Fingerprint script URL', 'Canvas image']\n",
    "df_canvas_fingerprints = df_canvas_fingerprints.to_html(escape=False)\n",
    "HTML(df_canvas_fingerprints)"
   ]
  }
 ],
 "metadata": {
  "kernelspec": {
   "display_name": "Python 3 (ipykernel)",
   "language": "python",
   "name": "python3"
  },
  "language_info": {
   "codemirror_mode": {
    "name": "ipython",
    "version": 3
   },
   "file_extension": ".py",
   "mimetype": "text/x-python",
   "name": "python",
   "nbconvert_exporter": "python",
   "pygments_lexer": "ipython3",
   "version": "3.10.4"
  }
 },
 "nbformat": 4,
 "nbformat_minor": 5
}
