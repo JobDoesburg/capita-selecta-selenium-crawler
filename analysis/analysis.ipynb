{
 "cells": [
  {
   "cell_type": "code",
   "execution_count": 1,
   "id": "f41a7063",
   "metadata": {
    "pycharm": {
     "name": "#%%\n"
    }
   },
   "outputs": [],
   "source": [
    "import glob\n",
    "import json\n",
    "import re\n",
    "from tld import get_fld\n",
    "import seaborn as sns\n",
    "import pandas as pd\n",
    "from tqdm import tqdm\n",
    "from IPython.display import HTML\n",
    "import urllib.parse as parse\n",
    "import matplotlib.pyplot as plt"
   ]
  },
  {
   "cell_type": "code",
   "execution_count": 2,
   "id": "2bdaa31d",
   "metadata": {
    "pycharm": {
     "name": "#%%\n"
    }
   },
   "outputs": [],
   "source": [
    "# Constants\n",
    "DATA_DIR = \"../crawl_data\"\n",
    "DOMAIN_MAP_PATH = \"domain_map.json\"\n",
    "BLOCKLIST_PATH = \"disconnectmeblocklist.json\""
   ]
  },
  {
   "cell_type": "code",
   "execution_count": 3,
   "outputs": [],
   "source": [
    "# Load domain map\n",
    "with open(DOMAIN_MAP_PATH, encoding=\"utf-8\") as domain_map_file:\n",
    "    DOMAIN_MAP = json.load(domain_map_file)"
   ],
   "metadata": {
    "collapsed": false,
    "pycharm": {
     "name": "#%%\n"
    }
   }
  },
  {
   "cell_type": "code",
   "execution_count": 4,
   "outputs": [],
   "source": [
    "# Load blocklist\n",
    "def parse_blocklist(file_path):\n",
    "    url_list = {}\n",
    "\n",
    "    with open(file_path, encoding=\"utf-8\") as blocklist_file:\n",
    "        blocklist = json.load(blocklist_file)\n",
    "\n",
    "        for cat, entities in blocklist[\"categories\"].items():\n",
    "            for entity_list in entities:\n",
    "                for entity, url_objects in entity_list.items():\n",
    "                    for url, aliases in url_objects.items():\n",
    "                        all_urls = [url]\n",
    "                        all_urls += aliases\n",
    "\n",
    "                        if entity not in url_list:\n",
    "                            url_list[entity] = []\n",
    "\n",
    "                        for u in all_urls:\n",
    "\n",
    "                            try:\n",
    "                                url_list[entity].append(get_fld(u, fix_protocol=True))\n",
    "                            except:\n",
    "                                pass\n",
    "\n",
    "                        url_list[entity] = list(set(url_list[entity]))\n",
    "\n",
    "    return url_list\n",
    "\n",
    "\n",
    "TRACKER_ENTITIES = parse_blocklist(BLOCKLIST_PATH)"
   ],
   "metadata": {
    "collapsed": false,
    "pycharm": {
     "name": "#%%\n"
    }
   }
  },
  {
   "cell_type": "code",
   "execution_count": 5,
   "outputs": [],
   "source": [
    "DESKTOP_CRAWL_DATA_FILES = glob.glob(f\"{DATA_DIR}/*_desktop.json\")\n",
    "MOBILE_CRAWL_DATA_FILES = glob.glob(f\"{DATA_DIR}/*_mobile.json\")"
   ],
   "metadata": {
    "collapsed": false,
    "pycharm": {
     "name": "#%%\n"
    }
   }
  },
  {
   "cell_type": "code",
   "execution_count": 6,
   "outputs": [],
   "source": [
    "def init_crawl_stats_data_object():\n",
    "    return {\n",
    "        # Per url data\n",
    "        \"tranco_ranks\": [],\n",
    "        \"page_load_times\": [],\n",
    "        \"num_requests\": [],\n",
    "        \"num_distinct_third_parties\": [],\n",
    "        \"num_distinct_tracker_domains\": [],\n",
    "        \"num_distinct_tracker_entities\": [],\n",
    "        # Global data\n",
    "        \"failures\": {\"timeout_failures\": 0, \"TLS_failures\": 0, \"consent_failures\": 0},\n",
    "        \"third_party_occurrences\": {},\n",
    "        \"third_party_tracker_occurrences\": {},\n",
    "        \"third_party_tracker_entities\": {},\n",
    "        \"uber_cookie\": {\n",
    "            \"request_hostname\": \"\",\n",
    "            \"website\": \"\",\n",
    "            \"num_cookies\": 0,\n",
    "            \"first_party\": False,\n",
    "        },\n",
    "        \"longest_lifespan_cookies\": [],\n",
    "        \"canvas_fingerprints\": [],\n",
    "        \"tracker_redirect_combos\": [],\n",
    "    }"
   ],
   "metadata": {
    "collapsed": false,
    "pycharm": {
     "name": "#%%\n"
    }
   }
  },
  {
   "cell_type": "code",
   "execution_count": 7,
   "outputs": [],
   "source": [
    "def get_longest_lasting_cookie(website_crawl_data):\n",
    "    cookie_ids = []\n",
    "    for request in website_crawl_data[\"requests\"]:\n",
    "        if \"cookie\" not in request[\"request_headers\"]:\n",
    "            continue\n",
    "\n",
    "        cookies = request[\"request_headers\"][\"cookie\"].split(\";\")\n",
    "        for cookie in cookies:\n",
    "            cookie_ids.append(cookie.split(\"=\")[0])\n",
    "\n",
    "    all_cookies = []\n",
    "    for cookie in website_crawl_data[\"cookies\"]:\n",
    "        if cookie[\"name\"] in cookie_ids:\n",
    "            cookie_data = cookie.copy()\n",
    "            cookie_data[\"size\"] = len(cookie_data[\"value\"])\n",
    "\n",
    "            if \"sameSite\" not in cookie_data:\n",
    "                cookie_data[\"sameSite\"] = None\n",
    "\n",
    "            if \"expiry\" not in cookie_data:  # Cookies without expiry exist\n",
    "                cookie_data[\"expiry\"] = 999999999999999\n",
    "            all_cookies.append(cookie_data)\n",
    "            all_cookies.append(cookie_data)\n",
    "\n",
    "    all_cookies.sort(key=lambda c: c[\"expiry\"], reverse=True)\n",
    "    return all_cookies[:3]"
   ],
   "metadata": {
    "collapsed": false,
    "pycharm": {
     "name": "#%%\n"
    }
   }
  },
  {
   "cell_type": "code",
   "execution_count": 8,
   "outputs": [],
   "source": [
    "# Append distinct third parties\n",
    "def get_fld_with_websocket_patch(u: str):\n",
    "    if u.startswith(\"wss://\"):\n",
    "        return get_fld(u[6:], fix_protocol=True)\n",
    "    if (\n",
    "        re.match(\"\\d{1,3}\\.\\d{1,3}\\.\\d{1,3}\\.\\d{1,3}\", parse.urlparse(u).netloc)\n",
    "        is not None\n",
    "    ):\n",
    "        return u\n",
    "    else:\n",
    "        return get_fld(u, fix_protocol=True)\n",
    "\n",
    "\n",
    "def get_third_parties(website_crawl_data):\n",
    "    third_parties = set(\n",
    "        [\n",
    "            get_fld_with_websocket_patch(request[\"request_url\"])\n",
    "            for request in website_crawl_data[\"requests\"]\n",
    "        ]\n",
    "    )\n",
    "    try:\n",
    "        third_parties.remove(\n",
    "            get_fld(website_crawl_data[\"website_domain\"], fix_protocol=True)\n",
    "        )\n",
    "    except KeyError:\n",
    "        pass\n",
    "    return third_parties"
   ],
   "metadata": {
    "collapsed": false,
    "pycharm": {
     "name": "#%%\n"
    }
   }
  },
  {
   "cell_type": "code",
   "execution_count": 9,
   "outputs": [],
   "source": [
    "def get_tracker_domains_from_third_parties(third_parties):\n",
    "    distinct_tracker_domains = []\n",
    "    for third_party_domain in third_parties:\n",
    "        for _, domains in TRACKER_ENTITIES.items():\n",
    "            if third_party_domain in domains:\n",
    "                distinct_tracker_domains.append(third_party_domain)\n",
    "    return distinct_tracker_domains"
   ],
   "metadata": {
    "collapsed": false,
    "pycharm": {
     "name": "#%%\n"
    }
   }
  },
  {
   "cell_type": "code",
   "execution_count": 10,
   "outputs": [],
   "source": [
    "def get_tracker_entities_for_third_party_domains(tracker_domains):\n",
    "    entities = []\n",
    "    for tracker_domain in tracker_domains:\n",
    "        has_entity = False\n",
    "        if tracker_domain in DOMAIN_MAP.keys():\n",
    "            entities.append(DOMAIN_MAP[tracker_domain][\"entityName\"])\n",
    "            has_entity = True\n",
    "        else:\n",
    "            for tracker_entity, tracker_entity_domains in TRACKER_ENTITIES.items():\n",
    "                if tracker_domain in tracker_entity_domains:\n",
    "                    entities.append(tracker_entity)\n",
    "                    has_entity = True\n",
    "                    break\n",
    "        if not has_entity:\n",
    "            raise ValueError(\"No entity found for tracker domain\")\n",
    "\n",
    "    return set(entities)"
   ],
   "metadata": {
    "collapsed": false,
    "pycharm": {
     "name": "#%%\n"
    }
   }
  },
  {
   "cell_type": "code",
   "execution_count": 11,
   "outputs": [],
   "source": [
    "def get_request_with_most_cookies(website_crawl_data):\n",
    "    max_cookie_count = None\n",
    "    request_url = None\n",
    "    for request in website_crawl_data[\"requests\"]:\n",
    "        if \"cookie\" not in request[\"request_headers\"]:\n",
    "            continue\n",
    "\n",
    "        cookie_count = len(request[\"request_headers\"][\"cookie\"].split(\";\"))\n",
    "        if max_cookie_count is None or cookie_count > max_cookie_count:\n",
    "            max_cookie_count = cookie_count\n",
    "            request_url = request[\"request_url\"]\n",
    "\n",
    "    return request_url, max_cookie_count"
   ],
   "metadata": {
    "collapsed": false,
    "pycharm": {
     "name": "#%%\n"
    }
   }
  },
  {
   "cell_type": "code",
   "execution_count": 12,
   "outputs": [],
   "source": [
    "def get_tracker_redirect_combos(requests, tracker_domains):\n",
    "    tracker_redirect_combos = []\n",
    "    for request in requests:\n",
    "        if (\n",
    "            request[\"response_status_code\"]\n",
    "            and 300 <= request[\"response_status_code\"] <= 399\n",
    "            and \"location\" in request[\"response_headers\"]\n",
    "        ):\n",
    "            origin_domain = get_fld(request[\"request_url\"], fix_protocol=True)\n",
    "            if request[\"response_headers\"][\"location\"].startswith(\n",
    "                \"http\"\n",
    "            ):  # TODO: verify this filters exactly all non-relative URLs\n",
    "                redirect_domain = get_fld(\n",
    "                    request[\"response_headers\"][\"location\"], fix_protocol=True\n",
    "                )\n",
    "            else:  # location can be relative URL\n",
    "                redirect_domain = origin_domain\n",
    "            if origin_domain != redirect_domain and (\n",
    "                origin_domain in tracker_domains or redirect_domain in tracker_domains\n",
    "            ):\n",
    "                tracker_redirect_combos.append((origin_domain, redirect_domain))\n",
    "    return tracker_redirect_combos"
   ],
   "metadata": {
    "collapsed": false,
    "pycharm": {
     "name": "#%%\n"
    }
   }
  },
  {
   "cell_type": "code",
   "execution_count": 13,
   "id": "4953277a",
   "metadata": {
    "pycharm": {
     "name": "#%%\n"
    }
   },
   "outputs": [],
   "source": [
    "def create_stats_object(crawl_data_files):\n",
    "    crawl_stats = init_crawl_stats_data_object()\n",
    "\n",
    "    for data_file_path in tqdm(crawl_data_files):\n",
    "        # Open the file for this crawled website\n",
    "        with open(data_file_path, \"r\", encoding=\"utf-8\") as data_file:\n",
    "            try:\n",
    "                website_crawl_data = json.load(data_file)\n",
    "            except Exception:\n",
    "                print(f\"Error opening json file: {website_crawl_data}, skipping\")\n",
    "                crawl_stats[\"failures\"][\"timeout_failures\"] += 1\n",
    "                continue\n",
    "\n",
    "        # Update failure counts\n",
    "        crawl_stats[\"failures\"][\"timeout_failures\"] += int(\n",
    "            website_crawl_data[\"failure_status\"][\"timeout\"]\n",
    "        )\n",
    "        crawl_stats[\"failures\"][\"TLS_failures\"] += int(\n",
    "            bool(website_crawl_data[\"failure_status\"][\"TLS\"] is not None)\n",
    "        )\n",
    "        crawl_stats[\"failures\"][\"consent_failures\"] += int(\n",
    "            website_crawl_data[\"failure_status\"][\"consent\"]\n",
    "        )\n",
    "\n",
    "        # Only proceed if there is no timeout\n",
    "        if website_crawl_data[\"failure_status\"][\"timeout\"]:\n",
    "            continue\n",
    "\n",
    "        # Append tranco rank\n",
    "        crawl_stats[\"tranco_ranks\"].append(int(website_crawl_data[\"rank\"]))\n",
    "\n",
    "        # Append page load time\n",
    "        crawl_stats[\"page_load_times\"].append(website_crawl_data[\"load_time\"])\n",
    "\n",
    "        # Append number of requests\n",
    "        crawl_stats[\"num_requests\"].append(len(website_crawl_data[\"requests\"]))\n",
    "\n",
    "        # Append distinct third parties\n",
    "        third_parties = get_third_parties(website_crawl_data)\n",
    "        crawl_stats[\"num_distinct_third_parties\"].append(len(third_parties))\n",
    "\n",
    "        # Append number of distinct tracker domains\n",
    "        tracker_domains = get_tracker_domains_from_third_parties(third_parties)\n",
    "        crawl_stats[\"num_distinct_tracker_domains\"].append(len(tracker_domains))\n",
    "\n",
    "        # Append number of distinct tracker entities/companies\n",
    "        tracker_entities = get_tracker_entities_for_third_party_domains(tracker_domains)\n",
    "        crawl_stats[\"num_distinct_tracker_entities\"].append(len(tracker_entities))\n",
    "\n",
    "        # Update third party tracker counts\n",
    "        crawl_stats[\"third_party_occurrences\"].update(\n",
    "            [\n",
    "                (party, crawl_stats[\"third_party_occurrences\"].get(party, 0) + 1)\n",
    "                for party in third_parties\n",
    "            ]\n",
    "        )\n",
    "        crawl_stats[\"third_party_tracker_occurrences\"].update(\n",
    "            [\n",
    "                (\n",
    "                    tracker,\n",
    "                    crawl_stats[\"third_party_tracker_occurrences\"].get(tracker, 0) + 1,\n",
    "                )\n",
    "                for tracker in tracker_domains\n",
    "            ]\n",
    "        )\n",
    "        crawl_stats[\"third_party_tracker_entities\"].update(\n",
    "            [\n",
    "                (\n",
    "                    tracker,\n",
    "                    crawl_stats[\"third_party_tracker_entities\"].get(tracker, 0) + 1,\n",
    "                )\n",
    "                for tracker in tracker_entities\n",
    "            ]\n",
    "        )\n",
    "\n",
    "        # Update the request with most cookies\n",
    "        request_with_most_cookies, num_cookies = get_request_with_most_cookies(\n",
    "            website_crawl_data\n",
    "        )\n",
    "        if (\n",
    "            request_with_most_cookies is not None\n",
    "            and num_cookies > crawl_stats[\"uber_cookie\"][\"num_cookies\"]\n",
    "        ):\n",
    "            crawl_stats[\"uber_cookie\"][\"num_cookies\"] = num_cookies\n",
    "            crawl_stats[\"uber_cookie\"][\"request_hostname\"] = get_fld(\n",
    "                request_with_most_cookies, fix_protocol=True\n",
    "            )\n",
    "            crawl_stats[\"uber_cookie\"][\"website\"] = website_crawl_data[\"website_domain\"]\n",
    "            crawl_stats[\"uber_cookie\"][\"first_party\"] = bool(\n",
    "                crawl_stats[\"uber_cookie\"][\"request_hostname\"]\n",
    "                == crawl_stats[\"uber_cookie\"][\"website\"]\n",
    "            )\n",
    "\n",
    "        # Update the longest lifespan cookies\n",
    "        crawl_stats[\"longest_lifespan_cookies\"] += get_longest_lasting_cookie(\n",
    "            website_crawl_data\n",
    "        )\n",
    "        crawl_stats[\"longest_lifespan_cookies\"].sort(\n",
    "            key=lambda c: c[\"expiry\"], reverse=True\n",
    "        )\n",
    "        crawl_stats[\"longest_lifespan_cookies\"] = crawl_stats[\n",
    "            \"longest_lifespan_cookies\"\n",
    "        ][:3]\n",
    "\n",
    "        # HTTP redirect pairs for tracker domains\n",
    "        tracker_redirect_combos = get_tracker_redirect_combos(\n",
    "            website_crawl_data[\"requests\"], tracker_domains\n",
    "        )\n",
    "        crawl_stats[\"tracker_redirect_combos\"] += list(set(tracker_redirect_combos))\n",
    "\n",
    "        # Fingerprints\n",
    "        for fingerprint in website_crawl_data[\"canvas_image_data\"]:\n",
    "            fingerprint[\"website\"] = get_fld(\n",
    "                website_crawl_data[\"website_domain\"], fix_protocol=True\n",
    "            )\n",
    "        crawl_stats[\"canvas_fingerprints\"] += website_crawl_data[\"canvas_image_data\"]\n",
    "\n",
    "    return crawl_stats"
   ]
  },
  {
   "cell_type": "code",
   "execution_count": 14,
   "id": "3f156626",
   "metadata": {
    "pycharm": {
     "name": "#%%\n"
    }
   },
   "outputs": [
    {
     "name": "stderr",
     "output_type": "stream",
     "text": [
      "100%|██████████| 458/458 [00:02<00:00, 213.23it/s]\n",
      "100%|██████████| 456/456 [00:02<00:00, 207.95it/s]\n"
     ]
    }
   ],
   "source": [
    "# Create the data objects\n",
    "crawls = {\n",
    "    \"desktop\": create_stats_object(DESKTOP_CRAWL_DATA_FILES),\n",
    "    \"mobile\": create_stats_object(MOBILE_CRAWL_DATA_FILES),\n",
    "}"
   ]
  },
  {
   "cell_type": "code",
   "execution_count": 15,
   "id": "794a1dc8",
   "metadata": {
    "pycharm": {
     "name": "#%%\n"
    }
   },
   "outputs": [
    {
     "name": "stdout",
     "output_type": "stream",
     "text": [
      "\\begin{tabular}{lrr}\n",
      "\\toprule\n",
      "Error type &  Crawl-desktop &  Crawl-mobile \\\\\n",
      "\\midrule\n",
      "Page load timeout   &             34 &            25 \\\\\n",
      "TLS error           &              4 &             4 \\\\\n",
      "Consent click error &             52 &            43 \\\\\n",
      "\\bottomrule\n",
      "\\end{tabular}\n",
      "\n"
     ]
    },
    {
     "name": "stderr",
     "output_type": "stream",
     "text": [
      "/var/folders/z6/t2bz26r16rs6cp44r7nstxmr0000gn/T/ipykernel_83382/616255874.py:13: FutureWarning: In future versions `DataFrame.to_latex` is expected to utilise the base implementation of `Styler.to_latex` for formatting and rendering. The arguments signature may therefore change. It is recommended instead to use `DataFrame.style.to_latex` which also contains additional functionality.\n",
      "  print(failures_table.to_latex())\n"
     ]
    }
   ],
   "source": [
    "# 1\n",
    "desktop_failures = {\n",
    "    \"Page load timeout\": crawls[\"desktop\"][\"failures\"][\"timeout_failures\"],\n",
    "    \"TLS error\": crawls[\"desktop\"][\"failures\"][\"TLS_failures\"],\n",
    "    \"Consent click error\": crawls[\"desktop\"][\"failures\"][\"consent_failures\"],\n",
    "}\n",
    "\n",
    "mobile_failures = {\n",
    "    \"Page load timeout\": crawls[\"mobile\"][\"failures\"][\"timeout_failures\"],\n",
    "    \"TLS error\": crawls[\"mobile\"][\"failures\"][\"TLS_failures\"],\n",
    "    \"Consent click error\": crawls[\"mobile\"][\"failures\"][\"consent_failures\"],\n",
    "}\n",
    "\n",
    "failures_table = pd.DataFrame(\n",
    "    {\"Crawl-desktop\": desktop_failures, \"Crawl-mobile\": mobile_failures}\n",
    ")\n",
    "failures_table.columns.name = \"Error type\"\n",
    "\n",
    "print(failures_table.to_latex())"
   ]
  },
  {
   "cell_type": "code",
   "execution_count": 16,
   "outputs": [],
   "source": [
    "def get_url_df(crawl_data):\n",
    "    slice_keys = [\n",
    "        \"tranco_ranks\",\n",
    "        \"page_load_times\",\n",
    "        \"num_requests\",\n",
    "        \"num_distinct_third_parties\",\n",
    "        \"num_distinct_tracker_domains\",\n",
    "        \"num_distinct_tracker_entities\",\n",
    "    ]\n",
    "    df_input = {k: v for k, v in crawl_data.items() if k in slice_keys}\n",
    "    return pd.DataFrame(data=df_input)\n",
    "\n",
    "\n",
    "df_desktop = get_url_df(crawls[\"desktop\"])\n",
    "df_mobile = get_url_df(crawls[\"mobile\"])"
   ],
   "metadata": {
    "collapsed": false,
    "pycharm": {
     "name": "#%%\n"
    }
   }
  },
  {
   "cell_type": "code",
   "execution_count": 17,
   "id": "05bf28d3",
   "metadata": {
    "pycharm": {
     "name": "#%%\n"
    }
   },
   "outputs": [],
   "source": [
    "# 2\n",
    "def draw_boxplot(metric):\n",
    "    box_df = pd.DataFrame(df_desktop, columns=[metric])\n",
    "    box_df.rename(columns={metric: \"Crawl-desktop\"}, inplace=True)\n",
    "    box_df = box_df.join(df_mobile[metric])\n",
    "    box_df.rename(columns={metric: \"Crawl-mobile\"}, inplace=True)\n",
    "    return sns.boxplot(\n",
    "        data=pd.DataFrame(data=box_df, columns=[\"Crawl-desktop\", \"Crawl-mobile\"])\n",
    "    )"
   ]
  },
  {
   "cell_type": "code",
   "execution_count": 18,
   "id": "c13bf230",
   "metadata": {
    "pycharm": {
     "name": "#%%\n"
    }
   },
   "outputs": [
    {
     "data": {
      "text/plain": "<Figure size 432x288 with 1 Axes>",
      "image/png": "[encoded data removed]"
     },
     "metadata": {
      "needs_background": "light"
     },
     "output_type": "display_data"
    }
   ],
   "source": [
    "sns.set(rc={\"figure.figsize\": (4, 6)})\n",
    "g_pageload = draw_boxplot(\"page_load_times\")\n",
    "plt.ylabel(\"Page load time (s)\")\n",
    "plt.savefig(\"../plots/figure2_pageload.png\", bbox_inches=\"tight\", dpi=600)"
   ]
  },
  {
   "cell_type": "code",
   "execution_count": 19,
   "id": "88b260ee",
   "metadata": {
    "pycharm": {
     "name": "#%%\n"
    }
   },
   "outputs": [
    {
     "data": {
      "text/plain": "<Figure size 288x432 with 1 Axes>",
      "image/png": "[encoded data removed]"
     },
     "metadata": {},
     "output_type": "display_data"
    }
   ],
   "source": [
    "sns.set(rc={\"figure.figsize\": (4, 6)})\n",
    "g_requests = draw_boxplot(\"num_requests\")\n",
    "plt.ylabel(\"Number of requests\")\n",
    "plt.savefig(\"../plots/figure2_requests.png\", bbox_inches=\"tight\", dpi=600)"
   ]
  },
  {
   "cell_type": "code",
   "execution_count": 20,
   "id": "e98e5fe3",
   "metadata": {
    "pycharm": {
     "name": "#%%\n"
    }
   },
   "outputs": [
    {
     "data": {
      "text/plain": "<Figure size 288x432 with 1 Axes>",
      "image/png": "[encoded data removed]"
     },
     "metadata": {},
     "output_type": "display_data"
    }
   ],
   "source": [
    "sns.set(rc={\"figure.figsize\": (4, 6)})\n",
    "g_thirdparties = draw_boxplot(\"num_distinct_third_parties\")\n",
    "plt.ylabel(\"Number of distinct third parties\")\n",
    "plt.savefig(\"../plots/figure2_thirdparties.png\", bbox_inches=\"tight\", dpi=600)"
   ]
  },
  {
   "cell_type": "code",
   "execution_count": 21,
   "id": "674f7a84",
   "metadata": {
    "pycharm": {
     "name": "#%%\n"
    }
   },
   "outputs": [
    {
     "data": {
      "text/plain": "<Figure size 288x432 with 1 Axes>",
      "image/png": "[encoded data removed]"
     },
     "metadata": {},
     "output_type": "display_data"
    }
   ],
   "source": [
    "sns.set(rc={\"figure.figsize\": (4, 6)})\n",
    "g_trackdomains = draw_boxplot(\"num_distinct_tracker_domains\")\n",
    "plt.ylabel(\"Number of distinct tracker domains\")\n",
    "plt.savefig(\"../plots/figure2_trackdomains.png\", bbox_inches=\"tight\", dpi=600)"
   ]
  },
  {
   "cell_type": "code",
   "execution_count": 22,
   "id": "6e065e99",
   "metadata": {
    "pycharm": {
     "name": "#%%\n"
    }
   },
   "outputs": [
    {
     "data": {
      "text/plain": "<Figure size 288x432 with 1 Axes>",
      "image/png": "[encoded data removed]"
     },
     "metadata": {},
     "output_type": "display_data"
    }
   ],
   "source": [
    "sns.set(rc={\"figure.figsize\": (4, 6)})\n",
    "g_trackentities = draw_boxplot(\"num_distinct_tracker_entities\")\n",
    "plt.ylabel(\"Number of distinct tracker entities\")\n",
    "plt.savefig(\"../plots/figure2_entities.png\", bbox_inches=\"tight\", dpi=600)"
   ]
  },
  {
   "cell_type": "code",
   "execution_count": 23,
   "id": "21d85afa",
   "metadata": {
    "pycharm": {
     "name": "#%%\n"
    }
   },
   "outputs": [
    {
     "name": "stdout",
     "output_type": "stream",
     "text": [
      "\\begin{tabular}{l|l l l l l l }\n",
      "        \\toprule\n",
      "        & \\multicolumn{3}{c|}{Crawl-desktop} & \\multicolumn{3}{c|}{Crawl-mobile} \\\\ \\hline\n",
      "        \\textbf{Metric} & \t\t\tMin & Max & Median & Min & Max & Median \\\\\n",
      "        \\midrule\n",
      "        Page load time (s) & \t\t\t0.0 & 30.0 & 3.0 & 0.0 & 41.0 & 3.0 \\\\\n",
      "        Number of requests & \t\t\t1 & 542 & 66.5 & 1 & 622 & 76.0 \\\\\n",
      "        Number of distinct third parties & \t0 & 74 & 5.0 & 0 & 89 & 7.0 \\\\\n",
      "        Number of distinct tracker domains & \t0 & 52 & 2.0 & 0 & 58 & 3.0 \\\\\n",
      "        Number of distinct tracker entities & \t0 & 44 & 1.0 & 0 & 50 & 2.0 \\\\\n",
      "        \\bottomrule\n",
      "    \\end{tabular}\n"
     ]
    }
   ],
   "source": [
    "# 3\n",
    "# Create desktop lookup and mobile lookup to make table string legible code.\n",
    "dlu = {\n",
    "    \"plt\": df_desktop[\"page_load_times\"],\n",
    "    \"nr\": df_desktop[\"num_requests\"],\n",
    "    \"dtp\": df_desktop[\"num_distinct_third_parties\"],\n",
    "    \"dtd\": df_desktop[\"num_distinct_tracker_domains\"],\n",
    "    \"dte\": df_desktop[\"num_distinct_tracker_entities\"],\n",
    "}\n",
    "mlu = {\n",
    "    \"plt\": df_mobile[\"page_load_times\"],\n",
    "    \"nr\": df_mobile[\"num_requests\"],\n",
    "    \"dtp\": df_mobile[\"num_distinct_third_parties\"],\n",
    "    \"dtd\": df_mobile[\"num_distinct_tracker_domains\"],\n",
    "    \"dte\": df_mobile[\"num_distinct_tracker_entities\"],\n",
    "}\n",
    "table = f\"\"\"\\\\begin{{tabular}}{{l|l l l l l l }}\n",
    "        \\\\toprule\n",
    "        & \\multicolumn{{3}}{{c|}}{{Crawl-desktop}} & \\multicolumn{{3}}{{c|}}{{Crawl-mobile}} \\\\\\\\ \\\\hline\n",
    "        \\\\textbf{{Metric}} & \\t\\t\\tMin & Max & Median & Min & Max & Median \\\\\\\\\n",
    "        \\midrule\n",
    "        Page load time (s) & \\t\\t\\t{dlu['plt'].min()} & {dlu['plt'].max()} & {dlu['plt'].median()} & {mlu['plt'].min()} & {mlu['plt'].max()} & {mlu['plt'].median()} \\\\\\\\\n",
    "        Number of requests & \\t\\t\\t{dlu['nr'].min()} & {dlu['nr'].max()} & {dlu['nr'].median()} & {mlu['nr'].min()} & {mlu['nr'].max()} & {mlu['nr'].median()} \\\\\\\\\n",
    "        Number of distinct third parties & \\t{dlu['dtp'].min()} & {dlu['dtp'].max()} & {dlu['dtp'].median()} & {mlu['dtp'].min()} & {mlu['dtp'].max()} & {mlu['dtp'].median()} \\\\\\\\\n",
    "        Number of distinct tracker domains & \\t{dlu['dtd'].min()} & {dlu['dtd'].max()} & {dlu['dtd'].median()} & {mlu['dtd'].min()} & {mlu['dtd'].max()} & {mlu['dtd'].median()} \\\\\\\\\n",
    "        Number of distinct tracker entities & \\t{dlu['dte'].min()} & {dlu['dte'].max()} & {dlu['dte'].median()} & {mlu['dte'].min()} & {mlu['dte'].max()} & {mlu['dte'].median()} \\\\\\\\\n",
    "        \\\\bottomrule\n",
    "    \\end{{tabular}}\"\"\"\n",
    "print(table)"
   ]
  },
  {
   "cell_type": "code",
   "execution_count": 23,
   "outputs": [],
   "source": [],
   "metadata": {
    "collapsed": false,
    "pycharm": {
     "name": "#%%\n"
    }
   }
  },
  {
   "cell_type": "code",
   "execution_count": 24,
   "outputs": [
    {
     "name": "stdout",
     "output_type": "stream",
     "text": [
      "Rank of website with most third parties (mobile): 155\n",
      "Number of third parties: 89\n",
      "Rank of website with most distinct tracker domains (mobile): 441\n",
      "Number of domains: 58\n",
      "Rank of website with most distinct tracker entities (mobile): 441\n",
      "Number of entities: 50\n"
     ]
    }
   ],
   "source": [
    "print(\n",
    "    f\"Rank of website with most third parties (mobile): {df_mobile['tranco_ranks'][df_mobile['num_distinct_third_parties'].idxmax()]}\\n\"\n",
    "    f\"Number of third parties: {mlu['dtp'].max()}\"\n",
    ")\n",
    "\n",
    "print(\n",
    "    f\"Rank of website with most distinct tracker domains (mobile): {df_mobile['tranco_ranks'][df_mobile['num_distinct_tracker_domains'].idxmax()]}\\n\"\n",
    "    f\"Number of domains: {mlu['dtd'].max()}\"\n",
    ")\n",
    "\n",
    "print(\n",
    "    f\"Rank of website with most distinct tracker entities (mobile): {df_mobile['tranco_ranks'][df_mobile['num_distinct_tracker_entities'].idxmax()]}\\n\"\n",
    "    f\"Number of entities: {mlu['dte'].max()}\"\n",
    ")"
   ],
   "metadata": {
    "collapsed": false,
    "pycharm": {
     "name": "#%%\n"
    }
   }
  },
  {
   "cell_type": "code",
   "execution_count": 25,
   "id": "3dab2112",
   "metadata": {
    "pycharm": {
     "name": "#%%\n"
    }
   },
   "outputs": [],
   "source": [
    "def ten_most_prev_websites_table(desktop_counts, mobile_counts):\n",
    "    table_desktop = (\n",
    "        pd.DataFrame(\n",
    "            {\n",
    "                \"Third-party desktop\": desktop_counts.keys(),\n",
    "                \"Nr of websites desktop\": desktop_counts.values(),\n",
    "            }\n",
    "        )\n",
    "        .sort_values(by=[\"Nr of websites desktop\"], ascending=False)\n",
    "        .reset_index(drop=True)\n",
    "    )\n",
    "    table_mobile = (\n",
    "        pd.DataFrame(\n",
    "            {\n",
    "                \"Third-party mobile\": mobile_counts.keys(),\n",
    "                \"Nr of websites mobile\": mobile_counts.values(),\n",
    "            }\n",
    "        )\n",
    "        .sort_values(by=[\"Nr of websites mobile\"], ascending=False)\n",
    "        .reset_index(drop=True)\n",
    "    )\n",
    "\n",
    "    table = pd.concat([table_desktop, table_mobile], axis=1)\n",
    "\n",
    "    # Some settings to make the table prettier\n",
    "    pd.set_option(\"display.precision\", 0)  # No decimals in count\n",
    "    pd.set_option(\"expand_frame_repr\", False)\n",
    "    table.index += 1  # Start at index 1\n",
    "    columns = [\n",
    "        (\"Crawl-desktop\", \"Third-party\"),\n",
    "        (\"Crawl-desktop\", \"Number of websites\"),\n",
    "        (\"Crawl-mobile\", \"Third-party\"),\n",
    "        (\"Crawl-mobile\", \"Number of websites\"),\n",
    "    ]\n",
    "    table.columns = pd.MultiIndex.from_tuples(columns)  # Add nested column names\n",
    "    return table\n",
    "    # Only print the first 10 rows"
   ]
  },
  {
   "cell_type": "code",
   "execution_count": 26,
   "id": "d7b8a055",
   "metadata": {
    "pycharm": {
     "name": "#%%\n"
    }
   },
   "outputs": [
    {
     "name": "stdout",
     "output_type": "stream",
     "text": [
      "\\begin{tabular}{lrlr}\n",
      "\\toprule\n",
      "       Crawl-desktop & \\multicolumn{2}{l}{Crawl-mobile} \\\\\n",
      "         Third-party & Number of websites &          Third-party & Number of websites \\\\\n",
      "\\midrule\n",
      "     doubleclick.net &                154 &           google.com &                182 \\\\\n",
      "          google.com &                151 &      doubleclick.net &                179 \\\\\n",
      "googletagmanager.com &                142 & googletagmanager.com &                176 \\\\\n",
      "google-analytics.com &                135 & google-analytics.com &                176 \\\\\n",
      "         gstatic.com &                105 &          gstatic.com &                123 \\\\\n",
      "           google.nl &                 95 &            google.nl &                122 \\\\\n",
      "        facebook.com &                 67 &         facebook.com &                 80 \\\\\n",
      "        facebook.net &                 59 & fonts.googleapis.com &                 77 \\\\\n",
      "fonts.googleapis.com &                 58 &         facebook.net &                 72 \\\\\n",
      "googleadservices.com &                 55 & googleadservices.com &                 67 \\\\\n",
      "\\bottomrule\n",
      "\\end{tabular}\n",
      "\n"
     ]
    },
    {
     "name": "stderr",
     "output_type": "stream",
     "text": [
      "/var/folders/z6/t2bz26r16rs6cp44r7nstxmr0000gn/T/ipykernel_83382/541803084.py:2: FutureWarning: In future versions `DataFrame.to_latex` is expected to utilise the base implementation of `Styler.to_latex` for formatting and rendering. The arguments signature may therefore change. It is recommended instead to use `DataFrame.style.to_latex` which also contains additional functionality.\n",
      "  print(ten_most_prev_websites_table(crawls['desktop']['third_party_occurrences'], crawls['mobile']['third_party_occurrences']).head(10).to_latex(index=False))\n"
     ]
    }
   ],
   "source": [
    "# 4\n",
    "print(\n",
    "    ten_most_prev_websites_table(\n",
    "        crawls[\"desktop\"][\"third_party_occurrences\"],\n",
    "        crawls[\"mobile\"][\"third_party_occurrences\"],\n",
    "    )\n",
    "    .head(10)\n",
    "    .to_latex(index=False)\n",
    ")"
   ]
  },
  {
   "cell_type": "code",
   "execution_count": 27,
   "id": "50de641d",
   "metadata": {
    "pycharm": {
     "name": "#%%\n"
    }
   },
   "outputs": [
    {
     "name": "stdout",
     "output_type": "stream",
     "text": [
      "\\begin{tabular}{lrlr}\n",
      "\\toprule\n",
      "        Crawl-desktop & \\multicolumn{2}{l}{Crawl-mobile} \\\\\n",
      "          Third-party & Number of websites &           Third-party & Number of websites \\\\\n",
      "\\midrule\n",
      "      doubleclick.net &                154 &            google.com &                182 \\\\\n",
      "           google.com &                151 &       doubleclick.net &                179 \\\\\n",
      " google-analytics.com &                135 &  google-analytics.com &                176 \\\\\n",
      "          gstatic.com &                105 &           gstatic.com &                123 \\\\\n",
      "            google.nl &                 95 &             google.nl &                122 \\\\\n",
      "         facebook.com &                 67 &          facebook.com &                 80 \\\\\n",
      "         facebook.net &                 59 &          facebook.net &                 72 \\\\\n",
      " googleadservices.com &                 55 &  googleadservices.com &                 67 \\\\\n",
      "googlesyndication.com &                 44 &   amazon-adsystem.com &                 48 \\\\\n",
      "       cloudflare.com &                 43 & googlesyndication.com &                 48 \\\\\n",
      "\\bottomrule\n",
      "\\end{tabular}\n",
      "\n"
     ]
    },
    {
     "name": "stderr",
     "output_type": "stream",
     "text": [
      "/var/folders/z6/t2bz26r16rs6cp44r7nstxmr0000gn/T/ipykernel_83382/3695073932.py:2: FutureWarning: In future versions `DataFrame.to_latex` is expected to utilise the base implementation of `Styler.to_latex` for formatting and rendering. The arguments signature may therefore change. It is recommended instead to use `DataFrame.style.to_latex` which also contains additional functionality.\n",
      "  print(ten_most_prev_websites_table(crawls['desktop']['third_party_tracker_occurrences'], crawls['mobile']['third_party_tracker_occurrences']).head(10).to_latex(index=False))\n"
     ]
    }
   ],
   "source": [
    "# 5\n",
    "print(\n",
    "    ten_most_prev_websites_table(\n",
    "        crawls[\"desktop\"][\"third_party_tracker_occurrences\"],\n",
    "        crawls[\"mobile\"][\"third_party_tracker_occurrences\"],\n",
    "    )\n",
    "    .head(10)\n",
    "    .to_latex(index=False)\n",
    ")"
   ]
  },
  {
   "cell_type": "code",
   "execution_count": 28,
   "id": "fbf70842",
   "metadata": {
    "pycharm": {
     "name": "#%%\n"
    }
   },
   "outputs": [
    {
     "name": "stdout",
     "output_type": "stream",
     "text": [
      "\\begin{tabular}{lrlr}\n",
      "\\toprule\n",
      "            Crawl-desktop & \\multicolumn{2}{l}{Crawl-mobile} \\\\\n",
      "              Third-party & Number of websites &               Third-party & Number of websites \\\\\n",
      "\\midrule\n",
      "               Google LLC &                232 &                Google LLC &                273 \\\\\n",
      "           Facebook, Inc. &                 76 &            Facebook, Inc. &                 93 \\\\\n",
      "    Microsoft Corporation &                 55 &                Adobe Inc. &                 74 \\\\\n",
      "               Adobe Inc. &                 53 & Amazon Technologies, Inc. &                 62 \\\\\n",
      "Amazon Technologies, Inc. &                 49 &     Microsoft Corporation &                 62 \\\\\n",
      "         Cloudflare, Inc. &                 43 &             Twitter, Inc. &                 48 \\\\\n",
      "            comScore, Inc &                 40 &             comScore, Inc &                 46 \\\\\n",
      "       Oracle Corporation &                 36 &             Verizon Media &                 45 \\\\\n",
      "       The Trade Desk Inc &                 33 &          WarnerMedia, LLC &                 44 \\\\\n",
      "            Twitter, Inc. &                 31 &        The Trade Desk Inc &                 43 \\\\\n",
      "\\bottomrule\n",
      "\\end{tabular}\n",
      "\n"
     ]
    },
    {
     "name": "stderr",
     "output_type": "stream",
     "text": [
      "/var/folders/z6/t2bz26r16rs6cp44r7nstxmr0000gn/T/ipykernel_83382/3576717639.py:2: FutureWarning: In future versions `DataFrame.to_latex` is expected to utilise the base implementation of `Styler.to_latex` for formatting and rendering. The arguments signature may therefore change. It is recommended instead to use `DataFrame.style.to_latex` which also contains additional functionality.\n",
      "  print(ten_most_prev_websites_table(crawls['desktop']['third_party_tracker_entities'], crawls['mobile']['third_party_tracker_entities']).head(10).to_latex(index=False))\n"
     ]
    }
   ],
   "source": [
    "# 6\n",
    "print(\n",
    "    ten_most_prev_websites_table(\n",
    "        crawls[\"desktop\"][\"third_party_tracker_entities\"],\n",
    "        crawls[\"mobile\"][\"third_party_tracker_entities\"],\n",
    "    )\n",
    "    .head(10)\n",
    "    .to_latex(index=False)\n",
    ")"
   ]
  },
  {
   "cell_type": "code",
   "execution_count": 29,
   "id": "31709d2f",
   "metadata": {
    "pycharm": {
     "name": "#%%\n"
    }
   },
   "outputs": [],
   "source": [
    "# 7 prep dataframes for plots\n",
    "distinct_third_parties_desktop = pd.DataFrame(\n",
    "    {\n",
    "        \"Tranco rank\": crawls[\"desktop\"][\"tranco_ranks\"],\n",
    "        \"Distinct third-party domains\": crawls[\"desktop\"][\"num_distinct_third_parties\"],\n",
    "    }\n",
    ")\n",
    "distinct_third_parties_mobile = pd.DataFrame(\n",
    "    {\n",
    "        \"Tranco rank\": crawls[\"mobile\"][\"tranco_ranks\"],\n",
    "        \"Distinct third-party domains\": crawls[\"mobile\"][\"num_distinct_third_parties\"],\n",
    "    }\n",
    ")\n",
    "\n",
    "# TODO: remove NaN values"
   ]
  },
  {
   "cell_type": "code",
   "execution_count": 30,
   "id": "666ef63b",
   "metadata": {
    "pycharm": {
     "name": "#%%\n"
    }
   },
   "outputs": [
    {
     "data": {
      "text/plain": "<Figure size 360x360 with 1 Axes>",
      "image/png": "[encoded data removed]"
     },
     "metadata": {},
     "output_type": "display_data"
    }
   ],
   "source": [
    "# 7 desktop\n",
    "sns.set(rc={\"figure.figsize\": (6, 6)})\n",
    "sns.lmplot(\n",
    "    x=\"Tranco rank\",\n",
    "    y=\"Distinct third-party domains\",\n",
    "    data=distinct_third_parties_desktop,\n",
    ")\n",
    "plt.savefig(\"../plots/figure7_desktop.png\", bbox_inches=\"tight\", dpi=600)"
   ]
  },
  {
   "cell_type": "code",
   "execution_count": 31,
   "id": "105281b0",
   "metadata": {
    "pycharm": {
     "name": "#%%\n"
    }
   },
   "outputs": [
    {
     "data": {
      "text/plain": "<Figure size 360x360 with 1 Axes>",
      "image/png": "[encoded data removed]"
     },
     "metadata": {},
     "output_type": "display_data"
    }
   ],
   "source": [
    "# 7 mobile\n",
    "sns.set(rc={\"figure.figsize\": (6, 6)})\n",
    "sns.lmplot(\n",
    "    x=\"Tranco rank\",\n",
    "    y=\"Distinct third-party domains\",\n",
    "    data=distinct_third_parties_mobile,\n",
    ")\n",
    "plt.savefig(\"../plots/figure7_mobile.png\", bbox_inches=\"tight\", dpi=600)"
   ]
  },
  {
   "cell_type": "code",
   "execution_count": 32,
   "id": "7e0021ed",
   "metadata": {
    "pycharm": {
     "name": "#%%\n"
    }
   },
   "outputs": [],
   "source": [
    "# 8\n",
    "distinct_trackers_desktop = pd.DataFrame(\n",
    "    {\n",
    "        \"Tranco rank\": crawls[\"desktop\"][\"tranco_ranks\"],\n",
    "        \"Distinct tracker domains\": crawls[\"desktop\"][\"num_distinct_tracker_domains\"],\n",
    "    }\n",
    ")\n",
    "distinct_trackers_mobile = pd.DataFrame(\n",
    "    {\n",
    "        \"Tranco rank\": crawls[\"mobile\"][\"tranco_ranks\"],\n",
    "        \"Distinct tracker domains\": crawls[\"mobile\"][\"num_distinct_tracker_domains\"],\n",
    "    }\n",
    ")\n",
    "\n",
    "# TODO: remove NaN values"
   ]
  },
  {
   "cell_type": "code",
   "execution_count": 33,
   "id": "419dd7fc",
   "metadata": {
    "pycharm": {
     "name": "#%%\n"
    }
   },
   "outputs": [
    {
     "data": {
      "text/plain": "<Figure size 360x360 with 1 Axes>",
      "image/png": "[encoded data removed]"
     },
     "metadata": {},
     "output_type": "display_data"
    }
   ],
   "source": [
    "# 8 desktop\n",
    "sns.set(rc={\"figure.figsize\": (6, 6)})\n",
    "sns.lmplot(\n",
    "    x=\"Tranco rank\", y=\"Distinct tracker domains\", data=distinct_trackers_desktop\n",
    ")\n",
    "plt.savefig(\"../plots/figure8_desktop.png\", bbox_inches=\"tight\", dpi=600)"
   ]
  },
  {
   "cell_type": "code",
   "execution_count": 34,
   "id": "8e0c8355",
   "metadata": {
    "pycharm": {
     "name": "#%%\n"
    }
   },
   "outputs": [
    {
     "data": {
      "text/plain": "<Figure size 360x360 with 1 Axes>",
      "image/png": "[encoded data removed]"
     },
     "metadata": {},
     "output_type": "display_data"
    }
   ],
   "source": [
    "# 8 mobile\n",
    "sns.set(rc={\"figure.figsize\": (6, 6)})\n",
    "sns.lmplot(x=\"Tranco rank\", y=\"Distinct tracker domains\", data=distinct_trackers_mobile)\n",
    "plt.savefig(\"../plots/figure8_mobile.png\", bbox_inches=\"tight\", dpi=600)"
   ]
  },
  {
   "cell_type": "code",
   "execution_count": 35,
   "id": "9cbfe328",
   "metadata": {
    "pycharm": {
     "name": "#%%\n"
    }
   },
   "outputs": [
    {
     "name": "stdout",
     "output_type": "stream",
     "text": [
      "\\begin{tabular}{lllrl}\n",
      "\\toprule\n",
      "  crawl & request\\_hostname & website &  num\\_cookies &  first\\_party \\\\\n",
      "\\midrule\n",
      "desktop &          box.com & box.com &           22 &         True \\\\\n",
      " mobile &          box.com & box.com &           19 &         True \\\\\n",
      "\\bottomrule\n",
      "\\end{tabular}\n",
      "\n"
     ]
    },
    {
     "name": "stderr",
     "output_type": "stream",
     "text": [
      "/var/folders/z6/t2bz26r16rs6cp44r7nstxmr0000gn/T/ipykernel_83382/838824587.py:8: FutureWarning: In future versions `DataFrame.to_latex` is expected to utilise the base implementation of `Styler.to_latex` for formatting and rendering. The arguments signature may therefore change. It is recommended instead to use `DataFrame.style.to_latex` which also contains additional functionality.\n",
      "  print(df_9.to_latex(index=False))\n"
     ]
    }
   ],
   "source": [
    "# 9\n",
    "data_9 = []\n",
    "for crawl, crawl_data in crawls.items():\n",
    "    data_9.append([crawl] + list(crawl_data[\"uber_cookie\"].values()))\n",
    "\n",
    "df_9 = pd.DataFrame(data_9)\n",
    "df_9.columns = [\"crawl\"] + list(crawls[\"desktop\"][\"uber_cookie\"].keys())\n",
    "print(df_9.to_latex(index=False))"
   ]
  },
  {
   "cell_type": "code",
   "execution_count": 36,
   "id": "9feefd91",
   "metadata": {
    "pycharm": {
     "name": "#%%\n"
    }
   },
   "outputs": [
    {
     "name": "stdout",
     "output_type": "stream",
     "text": [
      "\\begin{tabular}{llllllllrr}\n",
      "\\toprule\n",
      "  crawl &        domain &  httpOnly &                                      name & path & secure &    value &                                               size &  sameSite &          expiry \\\\\n",
      "\\midrule\n",
      "desktop & www.naver.com &     False &                                   SB\\_MODE &    / &  False & plusdeal &                                                  8 &       NaN & 999999999999999 \\\\\n",
      "desktop & www.naver.com &     False &                                   SB\\_MODE &    / &  False & plusdeal &                                                  8 &       NaN & 999999999999999 \\\\\n",
      "desktop &    github.com &      True &                                  \\_gh\\_sess &    / &    Lax &     True & 08BIpAdgWUhLaMtpL7CXjWKwMh5qe8gzRNlEQ9MLomX42fl... &       352 & 999999999999999 \\\\\n",
      " mobile &      .loc.gov &     False & AMCVS\\_0D15148954E6C5100A4C98BC\\%40AdobeOrg &    / &  False &        1 &                                                  1 &       NaN & 999999999999999 \\\\\n",
      " mobile &      .loc.gov &     False & AMCVS\\_0D15148954E6C5100A4C98BC\\%40AdobeOrg &    / &  False &        1 &                                                  1 &       NaN & 999999999999999 \\\\\n",
      " mobile &   .m.daum.net &     False &                                      \\_\\_T\\_ &    / &  False &        1 &                                                  1 &       NaN & 999999999999999 \\\\\n",
      "\\bottomrule\n",
      "\\end{tabular}\n",
      "\n"
     ]
    },
    {
     "name": "stderr",
     "output_type": "stream",
     "text": [
      "/var/folders/z6/t2bz26r16rs6cp44r7nstxmr0000gn/T/ipykernel_83382/3510481124.py:9: FutureWarning: In future versions `DataFrame.to_latex` is expected to utilise the base implementation of `Styler.to_latex` for formatting and rendering. The arguments signature may therefore change. It is recommended instead to use `DataFrame.style.to_latex` which also contains additional functionality.\n",
      "  print(df_10.to_latex(index=False))\n"
     ]
    }
   ],
   "source": [
    "# 10\n",
    "data_10 = []\n",
    "for crawl, crawl_data in crawls.items():\n",
    "    for cookie in crawl_data[\"longest_lifespan_cookies\"]:\n",
    "        data_10.append([crawl] + list(cookie.values()))\n",
    "\n",
    "df_10 = pd.DataFrame(data_10)\n",
    "df_10.columns = [\"crawl\"] + list(\n",
    "    crawls[\"desktop\"][\"longest_lifespan_cookies\"][0].keys()\n",
    ")\n",
    "print(df_10.to_latex(index=False))"
   ]
  },
  {
   "cell_type": "code",
   "execution_count": 37,
   "id": "33948075",
   "metadata": {
    "pycharm": {
     "name": "#%%\n"
    }
   },
   "outputs": [
    {
     "name": "stdout",
     "output_type": "stream",
     "text": [
      "\\begin{tabular}{lllr}\n",
      "\\toprule\n",
      "  crawl & source hostname &     target hostname &  Number of distinct websites \\\\\n",
      "\\midrule\n",
      "desktop & doubleclick.net &          google.com &                           27 \\\\\n",
      "desktop &      google.com &           google.nl &                           22 \\\\\n",
      "desktop & doubleclick.net &        pubmatic.com &                            7 \\\\\n",
      "desktop &      google.com &     doubleclick.net &                            7 \\\\\n",
      "desktop &      clarity.ms &            bing.com &                            6 \\\\\n",
      "desktop &     mathtag.com &        pubmatic.com &                            6 \\\\\n",
      "desktop &      adform.net &        pubmatic.com &                            5 \\\\\n",
      "desktop &        bing.com &          clarity.ms &                            5 \\\\\n",
      "desktop &   crwdcntrl.net &      onaudience.com &                            5 \\\\\n",
      "desktop &       de17a.com &        pubmatic.com &                            5 \\\\\n",
      " mobile & doubleclick.net &          google.com &                           35 \\\\\n",
      " mobile &      google.com &           google.nl &                           28 \\\\\n",
      " mobile &      google.com &     doubleclick.net &                            9 \\\\\n",
      " mobile & everesttech.net &        pubmatic.com &                            8 \\\\\n",
      " mobile & advertising.com &           yahoo.com &                            7 \\\\\n",
      " mobile &   crwdcntrl.net &      onaudience.com &                            6 \\\\\n",
      " mobile & doubleclick.net &        pubmatic.com &                            6 \\\\\n",
      " mobile &     mathtag.com &        pubmatic.com &                            6 \\\\\n",
      " mobile &  onaudience.com &       crwdcntrl.net &                            6 \\\\\n",
      " mobile &       yahoo.com & amazon-adsystem.com &                            6 \\\\\n",
      "\\bottomrule\n",
      "\\end{tabular}\n",
      "\n"
     ]
    },
    {
     "name": "stderr",
     "output_type": "stream",
     "text": [
      "/var/folders/z6/t2bz26r16rs6cp44r7nstxmr0000gn/T/ipykernel_83382/1112841543.py:15: FutureWarning: In future versions `DataFrame.to_latex` is expected to utilise the base implementation of `Styler.to_latex` for formatting and rendering. The arguments signature may therefore change. It is recommended instead to use `DataFrame.style.to_latex` which also contains additional functionality.\n",
      "  print(df_11.to_latex(index=False))\n"
     ]
    }
   ],
   "source": [
    "# 11\n",
    "data_11 = []\n",
    "for crawl, crawl_data in crawls.items():\n",
    "    for combo in crawl_data[\"tracker_redirect_combos\"]:\n",
    "        data_11.append([crawl, combo[0], combo[1]])\n",
    "\n",
    "df_11 = pd.DataFrame(data_11)\n",
    "df_11.columns = [\"crawl\", \"source hostname\", \"target hostname\"]\n",
    "df_11 = (\n",
    "    df_11.groupby([\"crawl\", \"source hostname\", \"target hostname\"])[\"target hostname\"]\n",
    "    .count()\n",
    "    .reset_index(name=\"Number of distinct websites\")\n",
    "    .sort_values([\"crawl\", \"Number of distinct websites\"], ascending=False)\n",
    ")\n",
    "df_11 = pd.concat(\n",
    "    [\n",
    "        df_11[df_11[\"crawl\"] == \"desktop\"].head(10),\n",
    "        df_11[df_11[\"crawl\"] == \"mobile\"].head(10),\n",
    "    ]\n",
    ")\n",
    "print(df_11.to_latex(index=False))"
   ]
  },
  {
   "cell_type": "code",
   "execution_count": 38,
   "id": "e04d76a4",
   "metadata": {
    "pycharm": {
     "name": "#%%\n"
    }
   },
   "outputs": [
    {
     "data": {
      "text/plain": "<IPython.core.display.HTML object>",
      "text/html": "<table border=\"1\" class=\"dataframe\">\n  <thead>\n    <tr style=\"text-align: right;\">\n      <th></th>\n      <th>Crawl</th>\n      <th>Website</th>\n      <th>Fingerprint script URL</th>\n      <th>Canvas image</th>\n    </tr>\n  </thead>\n  <tbody>\n    <tr>\n      <th>0</th>\n      <td>desktop</td>\n      <td>ikea.com</td>\n      <td>https://www.ikea.com/kCSGaENfx/xk/f1/zRWM94pyNjGPVQ/9OVYkNct1G/Awo7OlkB/XBFzIQ/I_Zlo:1:80389</td>\n      <td><img src=\"../crawl_data/ikea.com_desktop_canvas_capture_0.png\" /></td>\n    </tr>\n    <tr>\n      <th>1</th>\n      <td>desktop</td>\n      <td>ikea.com</td>\n      <td>https://www.ikea.com/kCSGaENfx/xk/f1/zRWM94pyNjGPVQ/9OVYkNct1G/Awo7OlkB/XBFzIQ/I_Zlo:1:80389</td>\n      <td><img src=\"../crawl_data/ikea.com_desktop_canvas_capture_1.png\" /></td>\n    </tr>\n    <tr>\n      <th>2</th>\n      <td>desktop</td>\n      <td>bloomberg.com</td>\n      <td>https://www.bloomberg.com/8FCGYgk4/init.js:4:14392</td>\n      <td><img src=\"../crawl_data/bloomberg.com_desktop_canvas_capture_0.png\" /></td>\n    </tr>\n    <tr>\n      <th>3</th>\n      <td>desktop</td>\n      <td>hupu.com</td>\n      <td>https://static.fengkongcloud.com/fpv2.js:1:86365</td>\n      <td><img src=\"../crawl_data/hupu.com_desktop_canvas_capture_0.png\" /></td>\n    </tr>\n    <tr>\n      <th>4</th>\n      <td>desktop</td>\n      <td>ups.com</td>\n      <td>https://www.ups.com/akam/13/6ceb3c0:2:6237</td>\n      <td><img src=\"../crawl_data/ups.com_desktop_canvas_capture_0.png\" /></td>\n    </tr>\n    <tr>\n      <th>5</th>\n      <td>desktop</td>\n      <td>ups.com</td>\n      <td>https://www.ups.com/M3uh8tNVHN3zkYgnjo5_syBS/wOh5ctJwca3V/NVNVOTdpKgY/azAFdFN/AFxg:1:80389</td>\n      <td><img src=\"../crawl_data/ups.com_desktop_canvas_capture_1.png\" /></td>\n    </tr>\n    <tr>\n      <th>6</th>\n      <td>desktop</td>\n      <td>ups.com</td>\n      <td>https://www.ups.com/M3uh8tNVHN3zkYgnjo5_syBS/wOh5ctJwca3V/NVNVOTdpKgY/azAFdFN/AFxg:1:80389</td>\n      <td><img src=\"../crawl_data/ups.com_desktop_canvas_capture_2.png\" /></td>\n    </tr>\n    <tr>\n      <th>7</th>\n      <td>desktop</td>\n      <td>bankofamerica.com</td>\n      <td>https://secure.bankofamerica.com/login/sign-in/entry/cc.go:15:66</td>\n      <td><img src=\"../crawl_data/bankofamerica.com_desktop_canvas_capture_0.png\" /></td>\n    </tr>\n    <tr>\n      <th>8</th>\n      <td>desktop</td>\n      <td>bankofamerica.com</td>\n      <td>https://secure.bankofamerica.com/login/sign-in/entry/cc.go:15:112</td>\n      <td><img src=\"../crawl_data/bankofamerica.com_desktop_canvas_capture_1.png\" /></td>\n    </tr>\n    <tr>\n      <th>9</th>\n      <td>desktop</td>\n      <td>livejournal.com</td>\n      <td>https://ssp.rambler.ru/capirs_async.js:1:48198</td>\n      <td><img src=\"../crawl_data/livejournal.com_desktop_canvas_capture_0.png\" /></td>\n    </tr>\n    <tr>\n      <th>10</th>\n      <td>desktop</td>\n      <td>livejournal.com</td>\n      <td>https://ssp.rambler.ru/capirs_async.js:1:48198</td>\n      <td><img src=\"../crawl_data/livejournal.com_desktop_canvas_capture_1.png\" /></td>\n    </tr>\n    <tr>\n      <th>11</th>\n      <td>desktop</td>\n      <td>intel.com</td>\n      <td>https://www.intel.com/cQrwcx/_cX_/id/uuYA/B16NegDH/f57wVtScw9/MWFhNw/ChB/SSmIwUSo:1:80389</td>\n      <td><img src=\"../crawl_data/intel.com_desktop_canvas_capture_0.png\" /></td>\n    </tr>\n    <tr>\n      <th>12</th>\n      <td>desktop</td>\n      <td>intel.com</td>\n      <td>https://www.intel.com/cQrwcx/_cX_/id/uuYA/B16NegDH/f57wVtScw9/MWFhNw/ChB/SSmIwUSo:1:80389</td>\n      <td><img src=\"../crawl_data/intel.com_desktop_canvas_capture_1.png\" /></td>\n    </tr>\n    <tr>\n      <th>13</th>\n      <td>desktop</td>\n      <td>intel.com</td>\n      <td>https://www.intel.com/cQrwcx/_cX_/id/uuYA/B16NegDH/f57wVtScw9/MWFhNw/ChB/SSmIwUSo:1:80389</td>\n      <td><img src=\"../crawl_data/intel.com_desktop_canvas_capture_2.png\" /></td>\n    </tr>\n    <tr>\n      <th>14</th>\n      <td>desktop</td>\n      <td>intel.com</td>\n      <td>https://www.intel.com/cQrwcx/_cX_/id/uuYA/B16NegDH/f57wVtScw9/MWFhNw/ChB/SSmIwUSo:1:80389</td>\n      <td><img src=\"../crawl_data/intel.com_desktop_canvas_capture_3.png\" /></td>\n    </tr>\n    <tr>\n      <th>15</th>\n      <td>desktop</td>\n      <td>cctv.com</td>\n      <td>https://js.player.cntv.cn/creator/fingerprint2.js:754:41</td>\n      <td><img src=\"../crawl_data/cctv.com_desktop_canvas_capture_0.png\" /></td>\n    </tr>\n    <tr>\n      <th>16</th>\n      <td>desktop</td>\n      <td>walmart.com</td>\n      <td>https://www.walmart.com/px/PXu6b0qd2S/init.js:4:17899</td>\n      <td><img src=\"../crawl_data/walmart.com_desktop_canvas_capture_0.png\" /></td>\n    </tr>\n    <tr>\n      <th>17</th>\n      <td>desktop</td>\n      <td>binance.com</td>\n      <td>https://bin.bnbstatic.com/static/modules/ExchangeHeader-2a16a9b.js:1:61989</td>\n      <td><img src=\"../crawl_data/binance.com_desktop_canvas_capture_0.png\" /></td>\n    </tr>\n    <tr>\n      <th>18</th>\n      <td>desktop</td>\n      <td>binance.com</td>\n      <td>https://bin.bnbstatic.com/static/runtime/main-4eb1e9bf209cefa59a40.js:1:163675</td>\n      <td><img src=\"../crawl_data/binance.com_desktop_canvas_capture_1.png\" /></td>\n    </tr>\n    <tr>\n      <th>19</th>\n      <td>desktop</td>\n      <td>udemy.com</td>\n      <td>https://udemy.com/cdn-cgi/bm/cv/669835187/api.js:25:7216</td>\n      <td><img src=\"../crawl_data/udemy.com_desktop_canvas_capture_0.png\" /></td>\n    </tr>\n    <tr>\n      <th>20</th>\n      <td>desktop</td>\n      <td>iqiyi.com</td>\n      <td>https://security.iqiyi.com/static/cook/v1/cooksdk.js:2:19949</td>\n      <td><img src=\"../crawl_data/iqiyi.com_desktop_canvas_capture_0.png\" /></td>\n    </tr>\n    <tr>\n      <th>21</th>\n      <td>desktop</td>\n      <td>iqiyi.com</td>\n      <td>https://security.iqiyi.com/static/cook/v1/cooksdk.js:2:19949</td>\n      <td><img src=\"../crawl_data/iqiyi.com_desktop_canvas_capture_1.png\" /></td>\n    </tr>\n    <tr>\n      <th>22</th>\n      <td>desktop</td>\n      <td>iqiyi.com</td>\n      <td>https://security.iqiyi.com/static/cook/v1/cooksdk.js:2:19949</td>\n      <td><img src=\"../crawl_data/iqiyi.com_desktop_canvas_capture_2.png\" /></td>\n    </tr>\n    <tr>\n      <th>23</th>\n      <td>desktop</td>\n      <td>iqiyi.com</td>\n      <td>https://security.iqiyi.com/static/cook/v1/cooksdk.js:2:19949</td>\n      <td><img src=\"../crawl_data/iqiyi.com_desktop_canvas_capture_3.png\" /></td>\n    </tr>\n    <tr>\n      <th>24</th>\n      <td>desktop</td>\n      <td>iqiyi.com</td>\n      <td>https://security.iqiyi.com/static/cook/v1/cooksdk.js:2:19949</td>\n      <td><img src=\"../crawl_data/iqiyi.com_desktop_canvas_capture_4.png\" /></td>\n    </tr>\n    <tr>\n      <th>25</th>\n      <td>desktop</td>\n      <td>iqiyi.com</td>\n      <td>https://security.iqiyi.com/static/cook/v1/cooksdk.js:2:19949</td>\n      <td><img src=\"../crawl_data/iqiyi.com_desktop_canvas_capture_5.png\" /></td>\n    </tr>\n    <tr>\n      <th>26</th>\n      <td>desktop</td>\n      <td>iqiyi.com</td>\n      <td>https://security.iqiyi.com/static/cook/v1/cooksdk.js:2:19949</td>\n      <td><img src=\"../crawl_data/iqiyi.com_desktop_canvas_capture_6.png\" /></td>\n    </tr>\n    <tr>\n      <th>27</th>\n      <td>desktop</td>\n      <td>cbc.ca</td>\n      <td>https://www.cbc.ca/akam/13/6b970fe1:2:6237</td>\n      <td><img src=\"../crawl_data/cbc.ca_desktop_canvas_capture_0.png\" /></td>\n    </tr>\n    <tr>\n      <th>28</th>\n      <td>desktop</td>\n      <td>mailchi.mp</td>\n      <td>https://mailchimp.com/LObVNPmnT1eE/ByhKQZ/49c1D9/3mw5htDfrY/Pyd0AQ/CGRfdX56/OGY:1:80389</td>\n      <td><img src=\"../crawl_data/mailchi.mp_desktop_canvas_capture_0.png\" /></td>\n    </tr>\n    <tr>\n      <th>29</th>\n      <td>desktop</td>\n      <td>mailchi.mp</td>\n      <td>https://mailchimp.com/LObVNPmnT1eE/ByhKQZ/49c1D9/3mw5htDfrY/Pyd0AQ/CGRfdX56/OGY:1:80389</td>\n      <td><img src=\"../crawl_data/mailchi.mp_desktop_canvas_capture_1.png\" /></td>\n    </tr>\n    <tr>\n      <th>30</th>\n      <td>desktop</td>\n      <td>mailchi.mp</td>\n      <td>https://mailchimp.com/LObVNPmnT1eE/ByhKQZ/49c1D9/3mw5htDfrY/Pyd0AQ/CGRfdX56/OGY:1:80389</td>\n      <td><img src=\"../crawl_data/mailchi.mp_desktop_canvas_capture_2.png\" /></td>\n    </tr>\n    <tr>\n      <th>31</th>\n      <td>desktop</td>\n      <td>mailchi.mp</td>\n      <td>https://mailchimp.com/LObVNPmnT1eE/ByhKQZ/49c1D9/3mw5htDfrY/Pyd0AQ/CGRfdX56/OGY:1:80389</td>\n      <td><img src=\"../crawl_data/mailchi.mp_desktop_canvas_capture_3.png\" /></td>\n    </tr>\n    <tr>\n      <th>32</th>\n      <td>desktop</td>\n      <td>redhat.com</td>\n      <td>https://www.redhat.com/8FhvxI/nB/Cc/xPfA/Szsk4lMHVa/3Q7S6m8bYz/M01OIG1RMA/DksGBUsl/GAg:1:80389</td>\n      <td><img src=\"../crawl_data/redhat.com_desktop_canvas_capture_0.png\" /></td>\n    </tr>\n    <tr>\n      <th>33</th>\n      <td>desktop</td>\n      <td>redhat.com</td>\n      <td>https://www.redhat.com/8FhvxI/nB/Cc/xPfA/Szsk4lMHVa/3Q7S6m8bYz/M01OIG1RMA/DksGBUsl/GAg:1:80389</td>\n      <td><img src=\"../crawl_data/redhat.com_desktop_canvas_capture_1.png\" /></td>\n    </tr>\n    <tr>\n      <th>34</th>\n      <td>desktop</td>\n      <td>mailchimp.com</td>\n      <td>https://mailchimp.com/LObVNPmnT1eE/ByhKQZ/49c1D9/3mw5htDfrY/Pyd0AQ/CGRfdX56/OGY:1:80389</td>\n      <td><img src=\"../crawl_data/mailchimp.com_desktop_canvas_capture_0.png\" /></td>\n    </tr>\n    <tr>\n      <th>35</th>\n      <td>desktop</td>\n      <td>mailchimp.com</td>\n      <td>https://mailchimp.com/LObVNPmnT1eE/ByhKQZ/49c1D9/3mw5htDfrY/Pyd0AQ/CGRfdX56/OGY:1:80389</td>\n      <td><img src=\"../crawl_data/mailchimp.com_desktop_canvas_capture_1.png\" /></td>\n    </tr>\n    <tr>\n      <th>36</th>\n      <td>desktop</td>\n      <td>pexels.com</td>\n      <td>https://pexels.com/cdn-cgi/bm/cv/669835187/api.js:25:7216</td>\n      <td><img src=\"../crawl_data/pexels.com_desktop_canvas_capture_0.png\" /></td>\n    </tr>\n    <tr>\n      <th>37</th>\n      <td>desktop</td>\n      <td>ibm.com</td>\n      <td>https://www.ibm.com/lpwE2CM51ZCz/aU9IFNaFHy/Jo/9S3NkrkcaaOY/CVEhIAE/a1MJJH4/LX0U:1:80389</td>\n      <td><img src=\"../crawl_data/ibm.com_desktop_canvas_capture_0.png\" /></td>\n    </tr>\n    <tr>\n      <th>38</th>\n      <td>desktop</td>\n      <td>ibm.com</td>\n      <td>https://www.ibm.com/lpwE2CM51ZCz/aU9IFNaFHy/Jo/9S3NkrkcaaOY/CVEhIAE/a1MJJH4/LX0U:1:80389</td>\n      <td><img src=\"../crawl_data/ibm.com_desktop_canvas_capture_1.png\" /></td>\n    </tr>\n    <tr>\n      <th>39</th>\n      <td>desktop</td>\n      <td>rt.com</td>\n      <td>https://www.rt.com/.well-known/ddos-guard/check?context=captcha:1:30722</td>\n      <td><img src=\"../crawl_data/rt.com_desktop_canvas_capture_0.png\" /></td>\n    </tr>\n    <tr>\n      <th>40</th>\n      <td>desktop</td>\n      <td>mediafire.com</td>\n      <td>https://device.maxmind.com/js/device.js:1:5672</td>\n      <td><img src=\"../crawl_data/mediafire.com_desktop_canvas_capture_0.png\" /></td>\n    </tr>\n    <tr>\n      <th>41</th>\n      <td>mobile</td>\n      <td>walmart.com</td>\n      <td>https://www.walmart.com/px/PXu6b0qd2S/init.js:4:17899</td>\n      <td><img src=\"../crawl_data/walmart.com_mobile_canvas_capture_0.png\" /></td>\n    </tr>\n    <tr>\n      <th>42</th>\n      <td>mobile</td>\n      <td>mediafire.com</td>\n      <td>https://device.maxmind.com/js/device.js:1:5672</td>\n      <td><img src=\"../crawl_data/mediafire.com_mobile_canvas_capture_0.png\" /></td>\n    </tr>\n    <tr>\n      <th>43</th>\n      <td>mobile</td>\n      <td>bestbuy.com</td>\n      <td>https://www.bestbuy.com/3lLnrh/61UQP/6HIzM/Mmks/1X7fNrkJacam/TkcnSwE/dyF/6NWBIaw:1:80389</td>\n      <td><img src=\"../crawl_data/bestbuy.com_mobile_canvas_capture_0.png\" /></td>\n    </tr>\n    <tr>\n      <th>44</th>\n      <td>mobile</td>\n      <td>bestbuy.com</td>\n      <td>https://www.bestbuy.com/3lLnrh/61UQP/6HIzM/Mmks/1X7fNrkJacam/TkcnSwE/dyF/6NWBIaw:1:80389</td>\n      <td><img src=\"../crawl_data/bestbuy.com_mobile_canvas_capture_1.png\" /></td>\n    </tr>\n    <tr>\n      <th>45</th>\n      <td>mobile</td>\n      <td>livejournal.com</td>\n      <td>https://ssp.rambler.ru/capirs_async.js:1:48198</td>\n      <td><img src=\"../crawl_data/livejournal.com_mobile_canvas_capture_0.png\" /></td>\n    </tr>\n    <tr>\n      <th>46</th>\n      <td>mobile</td>\n      <td>livejournal.com</td>\n      <td>https://ssp.rambler.ru/capirs_async.js:1:48198</td>\n      <td><img src=\"../crawl_data/livejournal.com_mobile_canvas_capture_1.png\" /></td>\n    </tr>\n    <tr>\n      <th>47</th>\n      <td>mobile</td>\n      <td>cbc.ca</td>\n      <td>https://www.cbc.ca/akam/13/6b970fe1:2:6237</td>\n      <td><img src=\"../crawl_data/cbc.ca_mobile_canvas_capture_0.png\" /></td>\n    </tr>\n    <tr>\n      <th>48</th>\n      <td>mobile</td>\n      <td>vk.com</td>\n      <td>https://st6-23.vk.com/dist/mobile/grip.29510f3e521091508d73.js?483f61ba2d758188cbb898e49105c77c378df849784efed92cab28dbef696641:1:9997</td>\n      <td><img src=\"../crawl_data/vk.com_mobile_canvas_capture_0.png\" /></td>\n    </tr>\n    <tr>\n      <th>49</th>\n      <td>mobile</td>\n      <td>vk.com</td>\n      <td>https://st6-23.vk.com/dist/mobile/grip.29510f3e521091508d73.js?483f61ba2d758188cbb898e49105c77c378df849784efed92cab28dbef696641:1:9997</td>\n      <td><img src=\"../crawl_data/vk.com_mobile_canvas_capture_1.png\" /></td>\n    </tr>\n    <tr>\n      <th>50</th>\n      <td>mobile</td>\n      <td>marriott.com</td>\n      <td>https://www.marriott.com/kM8Nu/sa-/ozhc/R5/8nCV8-/JO9ahSVf5hia/EUxMcWA/TDAfGD/ICW0g:1:80389</td>\n      <td><img src=\"../crawl_data/marriott.com_mobile_canvas_capture_0.png\" /></td>\n    </tr>\n    <tr>\n      <th>51</th>\n      <td>mobile</td>\n      <td>marriott.com</td>\n      <td>https://www.marriott.com/kM8Nu/sa-/ozhc/R5/8nCV8-/JO9ahSVf5hia/EUxMcWA/TDAfGD/ICW0g:1:80389</td>\n      <td><img src=\"../crawl_data/marriott.com_mobile_canvas_capture_1.png\" /></td>\n    </tr>\n    <tr>\n      <th>52</th>\n      <td>mobile</td>\n      <td>marriott.com</td>\n      <td>https://www.marriott.com/akam/13/4ec55f84:2:6245</td>\n      <td><img src=\"../crawl_data/marriott.com_mobile_canvas_capture_2.png\" /></td>\n    </tr>\n    <tr>\n      <th>53</th>\n      <td>mobile</td>\n      <td>marriott.com</td>\n      <td>https://www.marriott.com/common/js/marriottCommon.js?seed=AIADPTWBAQAAIYBXZ4a9VOPG6KbRC4X9PkmZSLfN90ui67wWGrvKyWkkIlWw&X-aZnN0eCb--z=q:1:87040</td>\n      <td><img src=\"../crawl_data/marriott.com_mobile_canvas_capture_3.png\" /></td>\n    </tr>\n    <tr>\n      <th>54</th>\n      <td>mobile</td>\n      <td>salesforce.com</td>\n      <td>https://www.salesforce.com/akam/13/36b5367a:2:6250</td>\n      <td><img src=\"../crawl_data/salesforce.com_mobile_canvas_capture_0.png\" /></td>\n    </tr>\n    <tr>\n      <th>55</th>\n      <td>mobile</td>\n      <td>ups.com</td>\n      <td>https://www.ups.com/akam/13/6ceb3c3:2:6258</td>\n      <td><img src=\"../crawl_data/ups.com_mobile_canvas_capture_0.png\" /></td>\n    </tr>\n    <tr>\n      <th>56</th>\n      <td>mobile</td>\n      <td>ups.com</td>\n      <td>https://www.ups.com/M3uh8tNVHN3zkYgnjo5_syBS/wOh5ctJwca3V/NVNVOTdpKgY/azAFdFN/AFxg:1:80389</td>\n      <td><img src=\"../crawl_data/ups.com_mobile_canvas_capture_1.png\" /></td>\n    </tr>\n    <tr>\n      <th>57</th>\n      <td>mobile</td>\n      <td>ups.com</td>\n      <td>https://www.ups.com/M3uh8tNVHN3zkYgnjo5_syBS/wOh5ctJwca3V/NVNVOTdpKgY/azAFdFN/AFxg:1:80389</td>\n      <td><img src=\"../crawl_data/ups.com_mobile_canvas_capture_2.png\" /></td>\n    </tr>\n    <tr>\n      <th>58</th>\n      <td>mobile</td>\n      <td>usnews.com</td>\n      <td>https://www.usnews.com/qJuqC/nVT5l/2h-h/f-Vs/Z0/OEQ5cN6f/V0wzEwE/M2tPPT/43Mk0:1:80389</td>\n      <td><img src=\"../crawl_data/usnews.com_mobile_canvas_capture_0.png\" /></td>\n    </tr>\n    <tr>\n      <th>59</th>\n      <td>mobile</td>\n      <td>usnews.com</td>\n      <td>https://www.usnews.com/qJuqC/nVT5l/2h-h/f-Vs/Z0/OEQ5cN6f/V0wzEwE/M2tPPT/43Mk0:1:80389</td>\n      <td><img src=\"../crawl_data/usnews.com_mobile_canvas_capture_1.png\" /></td>\n    </tr>\n    <tr>\n      <th>60</th>\n      <td>mobile</td>\n      <td>usnews.com</td>\n      <td>https://www.usnews.com/akam/13/4b0772ca:2:6235</td>\n      <td><img src=\"../crawl_data/usnews.com_mobile_canvas_capture_2.png\" /></td>\n    </tr>\n    <tr>\n      <th>61</th>\n      <td>mobile</td>\n      <td>ibm.com</td>\n      <td>https://www.ibm.com/lpwE2CM51ZCz/aU9IFNaFHy/Jo/9S3NkrkcaaOY/CVEhIAE/a1MJJH4/LX0U:1:80389</td>\n      <td><img src=\"../crawl_data/ibm.com_mobile_canvas_capture_0.png\" /></td>\n    </tr>\n    <tr>\n      <th>62</th>\n      <td>mobile</td>\n      <td>ibm.com</td>\n      <td>https://www.ibm.com/lpwE2CM51ZCz/aU9IFNaFHy/Jo/9S3NkrkcaaOY/CVEhIAE/a1MJJH4/LX0U:1:80389</td>\n      <td><img src=\"../crawl_data/ibm.com_mobile_canvas_capture_1.png\" /></td>\n    </tr>\n    <tr>\n      <th>63</th>\n      <td>mobile</td>\n      <td>redhat.com</td>\n      <td>https://www.redhat.com/akam/13/40b23847:2:6239</td>\n      <td><img src=\"../crawl_data/redhat.com_mobile_canvas_capture_0.png\" /></td>\n    </tr>\n    <tr>\n      <th>64</th>\n      <td>mobile</td>\n      <td>redhat.com</td>\n      <td>https://www.redhat.com/8FhvxI/nB/Cc/xPfA/Szsk4lMHVa/3Q7S6m8bYz/M01OIG1RMA/DksGBUsl/GAg:1:80389</td>\n      <td><img src=\"../crawl_data/redhat.com_mobile_canvas_capture_1.png\" /></td>\n    </tr>\n    <tr>\n      <th>65</th>\n      <td>mobile</td>\n      <td>redhat.com</td>\n      <td>https://www.redhat.com/8FhvxI/nB/Cc/xPfA/Szsk4lMHVa/3Q7S6m8bYz/M01OIG1RMA/DksGBUsl/GAg:1:80389</td>\n      <td><img src=\"../crawl_data/redhat.com_mobile_canvas_capture_2.png\" /></td>\n    </tr>\n    <tr>\n      <th>66</th>\n      <td>mobile</td>\n      <td>bet9ja.com</td>\n      <td>https://sports.bet9ja.com/akam/13/4b15eca9:2:6248</td>\n      <td><img src=\"../crawl_data/bet9ja.com_mobile_canvas_capture_0.png\" /></td>\n    </tr>\n    <tr>\n      <th>67</th>\n      <td>mobile</td>\n      <td>binance.com</td>\n      <td>https://bin.bnbstatic.com/static/modules/ExchangeHeader-2a16a9b.js:1:61989</td>\n      <td><img src=\"../crawl_data/binance.com_mobile_canvas_capture_0.png\" /></td>\n    </tr>\n    <tr>\n      <th>68</th>\n      <td>mobile</td>\n      <td>binance.com</td>\n      <td>https://bin.bnbstatic.com/static/runtime/main-4eb1e9bf209cefa59a40.js:1:163675</td>\n      <td><img src=\"../crawl_data/binance.com_mobile_canvas_capture_1.png\" /></td>\n    </tr>\n    <tr>\n      <th>69</th>\n      <td>mobile</td>\n      <td>douyu.com</td>\n      <td>https://3gimg.qq.com/mig_op/beacon/js/beacon_release_s.js?appkey=JS1S971C3138Y5&vc=1.0.1:19:30</td>\n      <td><img src=\"../crawl_data/douyu.com_mobile_canvas_capture_0.png\" /></td>\n    </tr>\n    <tr>\n      <th>70</th>\n      <td>mobile</td>\n      <td>douyu.com</td>\n      <td>https://3gimg.qq.com/mig_op/beacon/js/beacon_release_s.js?appkey=JS1S971C3138Y5&vc=1.0.1:19:30</td>\n      <td><img src=\"../crawl_data/douyu.com_mobile_canvas_capture_1.png\" /></td>\n    </tr>\n    <tr>\n      <th>71</th>\n      <td>mobile</td>\n      <td>ikea.com</td>\n      <td>https://www.ikea.com/akam/13/27d4e70a:2:6240</td>\n      <td><img src=\"../crawl_data/ikea.com_mobile_canvas_capture_0.png\" /></td>\n    </tr>\n    <tr>\n      <th>72</th>\n      <td>mobile</td>\n      <td>ikea.com</td>\n      <td>https://www.ikea.com/kCSGaENfx/xk/f1/zRWM94pyNjGPVQ/9OVYkNct1G/Awo7OlkB/XBFzIQ/I_Zlo:1:80389</td>\n      <td><img src=\"../crawl_data/ikea.com_mobile_canvas_capture_1.png\" /></td>\n    </tr>\n    <tr>\n      <th>73</th>\n      <td>mobile</td>\n      <td>ikea.com</td>\n      <td>https://www.ikea.com/kCSGaENfx/xk/f1/zRWM94pyNjGPVQ/9OVYkNct1G/Awo7OlkB/XBFzIQ/I_Zlo:1:80389</td>\n      <td><img src=\"../crawl_data/ikea.com_mobile_canvas_capture_2.png\" /></td>\n    </tr>\n    <tr>\n      <th>74</th>\n      <td>mobile</td>\n      <td>fedex.com</td>\n      <td>https://www.fedex.com/akam/13/74a92f88:2:6213</td>\n      <td><img src=\"../crawl_data/fedex.com_mobile_canvas_capture_0.png\" /></td>\n    </tr>\n    <tr>\n      <th>75</th>\n      <td>mobile</td>\n      <td>fedex.com</td>\n      <td>https://www.fedex.com/VPepj/28/i/V/TM7u3Dx3J79/Eai7pp4mz1/O1YpdQ/LV/x-SxFoCwIB:1:80389</td>\n      <td><img src=\"../crawl_data/fedex.com_mobile_canvas_capture_1.png\" /></td>\n    </tr>\n    <tr>\n      <th>76</th>\n      <td>mobile</td>\n      <td>fedex.com</td>\n      <td>https://www.fedex.com/VPepj/28/i/V/TM7u3Dx3J79/Eai7pp4mz1/O1YpdQ/LV/x-SxFoCwIB:1:80389</td>\n      <td><img src=\"../crawl_data/fedex.com_mobile_canvas_capture_2.png\" /></td>\n    </tr>\n    <tr>\n      <th>77</th>\n      <td>mobile</td>\n      <td>oracle.com</td>\n      <td>https://www.oracle.com/akam/13/d53f5df:2:6214</td>\n      <td><img src=\"../crawl_data/oracle.com_mobile_canvas_capture_0.png\" /></td>\n    </tr>\n    <tr>\n      <th>78</th>\n      <td>mobile</td>\n      <td>bloomberg.com</td>\n      <td>https://www.bloomberg.com/8FCGYgk4/init.js:4:14392</td>\n      <td><img src=\"../crawl_data/bloomberg.com_mobile_canvas_capture_0.png\" /></td>\n    </tr>\n    <tr>\n      <th>79</th>\n      <td>mobile</td>\n      <td>dell.com</td>\n      <td>https://www.dell.com/akam/13/166effed:2:6255</td>\n      <td><img src=\"../crawl_data/dell.com_mobile_canvas_capture_0.png\" /></td>\n    </tr>\n    <tr>\n      <th>80</th>\n      <td>mobile</td>\n      <td>dell.com</td>\n      <td>https://www.dell.com/naxC5wXVL/fL/dgsAPfg/c5VaSrwpw3/Mnh4HhYlVws/SzkUelU/-FHU:1:80389</td>\n      <td><img src=\"../crawl_data/dell.com_mobile_canvas_capture_1.png\" /></td>\n    </tr>\n    <tr>\n      <th>81</th>\n      <td>mobile</td>\n      <td>dell.com</td>\n      <td>https://www.dell.com/naxC5wXVL/fL/dgsAPfg/c5VaSrwpw3/Mnh4HhYlVws/SzkUelU/-FHU:1:80389</td>\n      <td><img src=\"../crawl_data/dell.com_mobile_canvas_capture_2.png\" /></td>\n    </tr>\n    <tr>\n      <th>82</th>\n      <td>mobile</td>\n      <td>cctv.com</td>\n      <td>https://js.player.cntv.cn/creator/fingerprint2.js:754:41</td>\n      <td><img src=\"../crawl_data/cctv.com_mobile_canvas_capture_0.png\" /></td>\n    </tr>\n    <tr>\n      <th>83</th>\n      <td>mobile</td>\n      <td>businesswire.com</td>\n      <td>https://www.businesswire.com/akam/13/1e443a66:2:6248</td>\n      <td><img src=\"../crawl_data/businesswire.com_mobile_canvas_capture_0.png\" /></td>\n    </tr>\n    <tr>\n      <th>84</th>\n      <td>mobile</td>\n      <td>rakuten.co.jp</td>\n      <td>https://www.rakuten.co.jp/akam/13/5d4c4618:2:6220</td>\n      <td><img src=\"../crawl_data/rakuten.co.jp_mobile_canvas_capture_0.png\" /></td>\n    </tr>\n    <tr>\n      <th>85</th>\n      <td>mobile</td>\n      <td>intel.com</td>\n      <td>https://www.intel.com/akam/13/1160f67a:2:6241</td>\n      <td><img src=\"../crawl_data/intel.com_mobile_canvas_capture_0.png\" /></td>\n    </tr>\n    <tr>\n      <th>86</th>\n      <td>mobile</td>\n      <td>intel.com</td>\n      <td>https://www.intel.com/cQrwcx/_cX_/id/uuYA/B16NegDH/f57wVtScw9/MWFhNw/ChB/SSmIwUSo:1:80389</td>\n      <td><img src=\"../crawl_data/intel.com_mobile_canvas_capture_1.png\" /></td>\n    </tr>\n    <tr>\n      <th>87</th>\n      <td>mobile</td>\n      <td>intel.com</td>\n      <td>https://www.intel.com/cQrwcx/_cX_/id/uuYA/B16NegDH/f57wVtScw9/MWFhNw/ChB/SSmIwUSo:1:80389</td>\n      <td><img src=\"../crawl_data/intel.com_mobile_canvas_capture_2.png\" /></td>\n    </tr>\n    <tr>\n      <th>88</th>\n      <td>mobile</td>\n      <td>hupu.com</td>\n      <td>https://static.fengkongcloud.com/fpv2.js:1:86365</td>\n      <td><img src=\"../crawl_data/hupu.com_mobile_canvas_capture_0.png\" /></td>\n    </tr>\n    <tr>\n      <th>89</th>\n      <td>mobile</td>\n      <td>force.com</td>\n      <td>https://www.salesforce.com/akam/13/36b53678:2:6244</td>\n      <td><img src=\"../crawl_data/force.com_mobile_canvas_capture_0.png\" /></td>\n    </tr>\n    <tr>\n      <th>90</th>\n      <td>mobile</td>\n      <td>iqiyi.com</td>\n      <td>https://security.iqiyi.com/static/cook/v1/cooksdk.js:2:19438</td>\n      <td><img src=\"../crawl_data/iqiyi.com_mobile_canvas_capture_0.png\" /></td>\n    </tr>\n    <tr>\n      <th>91</th>\n      <td>mobile</td>\n      <td>tiktok.com</td>\n      <td>https://s20.tiktokcdn.com/tiktok/common/init.js?seed=AMDAfDSBAQAAU1HCSDWuLLRZSErc4XgCuOuBMIKFzg9110th2QWwj0-yL9nl&hTc6j8Njvn--z=q:1:59563</td>\n      <td><img src=\"../crawl_data/tiktok.com_mobile_canvas_capture_0.png\" /></td>\n    </tr>\n    <tr>\n      <th>92</th>\n      <td>mobile</td>\n      <td>mailchi.mp</td>\n      <td>https://mailchimp.com/LObVNPmnT1eE/ByhKQZ/49c1D9/3mw5htDfrY/Pyd0AQ/CGRfdX56/OGY:1:80389</td>\n      <td><img src=\"../crawl_data/mailchi.mp_mobile_canvas_capture_0.png\" /></td>\n    </tr>\n    <tr>\n      <th>93</th>\n      <td>mobile</td>\n      <td>mailchi.mp</td>\n      <td>https://mailchimp.com/LObVNPmnT1eE/ByhKQZ/49c1D9/3mw5htDfrY/Pyd0AQ/CGRfdX56/OGY:1:80389</td>\n      <td><img src=\"../crawl_data/mailchi.mp_mobile_canvas_capture_1.png\" /></td>\n    </tr>\n    <tr>\n      <th>94</th>\n      <td>mobile</td>\n      <td>mailchimp.com</td>\n      <td>https://mailchimp.com/LObVNPmnT1eE/ByhKQZ/49c1D9/3mw5htDfrY/Pyd0AQ/CGRfdX56/OGY:1:80389</td>\n      <td><img src=\"../crawl_data/mailchimp.com_mobile_canvas_capture_0.png\" /></td>\n    </tr>\n    <tr>\n      <th>95</th>\n      <td>mobile</td>\n      <td>mailchimp.com</td>\n      <td>https://mailchimp.com/LObVNPmnT1eE/ByhKQZ/49c1D9/3mw5htDfrY/Pyd0AQ/CGRfdX56/OGY:1:80389</td>\n      <td><img src=\"../crawl_data/mailchimp.com_mobile_canvas_capture_1.png\" /></td>\n    </tr>\n    <tr>\n      <th>96</th>\n      <td>mobile</td>\n      <td>adobe.com</td>\n      <td>https://www.adobe.com/akam/13/6499c3e9:2:6225</td>\n      <td><img src=\"../crawl_data/adobe.com_mobile_canvas_capture_0.png\" /></td>\n    </tr>\n    <tr>\n      <th>97</th>\n      <td>mobile</td>\n      <td>rt.com</td>\n      <td>https://rt.com/.well-known/ddos-guard/check?context=captcha:1:30722</td>\n      <td><img src=\"../crawl_data/rt.com_mobile_canvas_capture_0.png\" /></td>\n    </tr>\n  </tbody>\n</table>"
     },
     "execution_count": 38,
     "metadata": {},
     "output_type": "execute_result"
    }
   ],
   "source": [
    "# 12\n",
    "canvas_fingerprints = []\n",
    "for crawl, crawl_data in crawls.items():\n",
    "    for fingerprint in crawl_data[\"canvas_fingerprints\"]:\n",
    "        canvas_fingerprints.append(\n",
    "            [\n",
    "                crawl,\n",
    "                fingerprint[\"website\"],\n",
    "                fingerprint[\"fingerprint_script_resource_url\"],\n",
    "                '<img src=\"'\n",
    "                + DATA_DIR\n",
    "                + \"/\"\n",
    "                + fingerprint[\"canvas_fingerprint_image\"]\n",
    "                + '\" />',\n",
    "            ]\n",
    "        )\n",
    "df_canvas_fingerprints = pd.DataFrame(canvas_fingerprints)\n",
    "df_canvas_fingerprints.columns = [\n",
    "    \"Crawl\",\n",
    "    \"Website\",\n",
    "    \"Fingerprint script URL\",\n",
    "    \"Canvas image\",\n",
    "]\n",
    "df_canvas_fingerprints = df_canvas_fingerprints.to_html(escape=False)\n",
    "HTML(df_canvas_fingerprints)"
   ]
  },
  {
   "cell_type": "code",
   "execution_count": 39,
   "id": "23a81867",
   "metadata": {
    "pycharm": {
     "name": "#%%\n"
    }
   },
   "outputs": [
    {
     "name": "stdout",
     "output_type": "stream",
     "text": [
      "\\begin{tabular}{llll}\n",
      "\\toprule\n",
      "  Crawl &           Website &                                                                               Fingerprint script URL &                                                                    Canvas image \\\\\n",
      "\\midrule\n",
      "desktop &          ikea.com &         https://www.ikea.com/kCSGaENfx/xk/f1/zRWM94pyNjGPVQ/9OVYkNct1G/Awo7OlkB/XBFzIQ/I\\_Zlo:1:80389 &          \\textbackslash includegraphics[]\\{fingerprints/ikea.com\\_desktop\\_canvas\\_capture\\_0.png\\} \\\\\n",
      "desktop &          ikea.com &         https://www.ikea.com/kCSGaENfx/xk/f1/zRWM94pyNjGPVQ/9OVYkNct1G/Awo7OlkB/XBFzIQ/I\\_Zlo:1:80389 &          \\textbackslash includegraphics[]\\{fingerprints/ikea.com\\_desktop\\_canvas\\_capture\\_1.png\\} \\\\\n",
      "desktop &     bloomberg.com &                                                   https://www.bloomberg.com/8FCGYgk4/init.js:4:14392 &     \\textbackslash includegraphics[]\\{fingerprints/bloomberg.com\\_desktop\\_canvas\\_capture\\_0.png\\} \\\\\n",
      "desktop &          hupu.com &                                                     https://static.fengkongcloud.com/fpv2.js:1:86365 &          \\textbackslash includegraphics[]\\{fingerprints/hupu.com\\_desktop\\_canvas\\_capture\\_0.png\\} \\\\\n",
      "desktop &           ups.com &                                                           https://www.ups.com/akam/13/6ceb3c0:2:6237 &           \\textbackslash includegraphics[]\\{fingerprints/ups.com\\_desktop\\_canvas\\_capture\\_0.png\\} \\\\\n",
      "desktop &           ups.com &           https://www.ups.com/M3uh8tNVHN3zkYgnjo5\\_syBS/wOh5ctJwca3V/NVNVOTdpKgY/azAFdFN/AFxg:1:80389 &           \\textbackslash includegraphics[]\\{fingerprints/ups.com\\_desktop\\_canvas\\_capture\\_1.png\\} \\\\\n",
      "desktop &           ups.com &           https://www.ups.com/M3uh8tNVHN3zkYgnjo5\\_syBS/wOh5ctJwca3V/NVNVOTdpKgY/azAFdFN/AFxg:1:80389 &           \\textbackslash includegraphics[]\\{fingerprints/ups.com\\_desktop\\_canvas\\_capture\\_2.png\\} \\\\\n",
      "desktop & bankofamerica.com &                                     https://secure.bankofamerica.com/login/sign-in/entry/cc.go:15:66 & \\textbackslash includegraphics[]\\{fingerprints/bankofamerica.com\\_desktop\\_canvas\\_capture\\_0.png\\} \\\\\n",
      "desktop & bankofamerica.com &                                    https://secure.bankofamerica.com/login/sign-in/entry/cc.go:15:112 & \\textbackslash includegraphics[]\\{fingerprints/bankofamerica.com\\_desktop\\_canvas\\_capture\\_1.png\\} \\\\\n",
      "desktop &   livejournal.com &                                                       https://ssp.rambler.ru/capirs\\_async.js:1:48198 &   \\textbackslash includegraphics[]\\{fingerprints/livejournal.com\\_desktop\\_canvas\\_capture\\_0.png\\} \\\\\n",
      "desktop &   livejournal.com &                                                       https://ssp.rambler.ru/capirs\\_async.js:1:48198 &   \\textbackslash includegraphics[]\\{fingerprints/livejournal.com\\_desktop\\_canvas\\_capture\\_1.png\\} \\\\\n",
      "desktop &         intel.com &            https://www.intel.com/cQrwcx/\\_cX\\_/id/uuYA/B16NegDH/f57wVtScw9/MWFhNw/ChB/SSmIwUSo:1:80389 &         \\textbackslash includegraphics[]\\{fingerprints/intel.com\\_desktop\\_canvas\\_capture\\_0.png\\} \\\\\n",
      "desktop &         intel.com &            https://www.intel.com/cQrwcx/\\_cX\\_/id/uuYA/B16NegDH/f57wVtScw9/MWFhNw/ChB/SSmIwUSo:1:80389 &         \\textbackslash includegraphics[]\\{fingerprints/intel.com\\_desktop\\_canvas\\_capture\\_1.png\\} \\\\\n",
      "desktop &         intel.com &            https://www.intel.com/cQrwcx/\\_cX\\_/id/uuYA/B16NegDH/f57wVtScw9/MWFhNw/ChB/SSmIwUSo:1:80389 &         \\textbackslash includegraphics[]\\{fingerprints/intel.com\\_desktop\\_canvas\\_capture\\_2.png\\} \\\\\n",
      "desktop &         intel.com &            https://www.intel.com/cQrwcx/\\_cX\\_/id/uuYA/B16NegDH/f57wVtScw9/MWFhNw/ChB/SSmIwUSo:1:80389 &         \\textbackslash includegraphics[]\\{fingerprints/intel.com\\_desktop\\_canvas\\_capture\\_3.png\\} \\\\\n",
      "desktop &          cctv.com &                                             https://js.player.cntv.cn/creator/fingerprint2.js:754:41 &          \\textbackslash includegraphics[]\\{fingerprints/cctv.com\\_desktop\\_canvas\\_capture\\_0.png\\} \\\\\n",
      "desktop &       walmart.com &                                                https://www.walmart.com/px/PXu6b0qd2S/init.js:4:17899 &       \\textbackslash includegraphics[]\\{fingerprints/walmart.com\\_desktop\\_canvas\\_capture\\_0.png\\} \\\\\n",
      "desktop &       binance.com &                           https://bin.bnbstatic.com/static/modules/ExchangeHeader-2a16a9b.js:1:61989 &       \\textbackslash includegraphics[]\\{fingerprints/binance.com\\_desktop\\_canvas\\_capture\\_0.png\\} \\\\\n",
      "desktop &       binance.com &                       https://bin.bnbstatic.com/static/runtime/main-4eb1e9bf209cefa59a40.js:1:163675 &       \\textbackslash includegraphics[]\\{fingerprints/binance.com\\_desktop\\_canvas\\_capture\\_1.png\\} \\\\\n",
      "desktop &         udemy.com &                                             https://udemy.com/cdn-cgi/bm/cv/669835187/api.js:25:7216 &         \\textbackslash includegraphics[]\\{fingerprints/udemy.com\\_desktop\\_canvas\\_capture\\_0.png\\} \\\\\n",
      "desktop &         iqiyi.com &                                         https://security.iqiyi.com/static/cook/v1/cooksdk.js:2:19949 &         \\textbackslash includegraphics[]\\{fingerprints/iqiyi.com\\_desktop\\_canvas\\_capture\\_0.png\\} \\\\\n",
      "desktop &         iqiyi.com &                                         https://security.iqiyi.com/static/cook/v1/cooksdk.js:2:19949 &         \\textbackslash includegraphics[]\\{fingerprints/iqiyi.com\\_desktop\\_canvas\\_capture\\_1.png\\} \\\\\n",
      "desktop &         iqiyi.com &                                         https://security.iqiyi.com/static/cook/v1/cooksdk.js:2:19949 &         \\textbackslash includegraphics[]\\{fingerprints/iqiyi.com\\_desktop\\_canvas\\_capture\\_2.png\\} \\\\\n",
      "desktop &         iqiyi.com &                                         https://security.iqiyi.com/static/cook/v1/cooksdk.js:2:19949 &         \\textbackslash includegraphics[]\\{fingerprints/iqiyi.com\\_desktop\\_canvas\\_capture\\_3.png\\} \\\\\n",
      "desktop &         iqiyi.com &                                         https://security.iqiyi.com/static/cook/v1/cooksdk.js:2:19949 &         \\textbackslash includegraphics[]\\{fingerprints/iqiyi.com\\_desktop\\_canvas\\_capture\\_4.png\\} \\\\\n",
      "desktop &         iqiyi.com &                                         https://security.iqiyi.com/static/cook/v1/cooksdk.js:2:19949 &         \\textbackslash includegraphics[]\\{fingerprints/iqiyi.com\\_desktop\\_canvas\\_capture\\_5.png\\} \\\\\n",
      "desktop &         iqiyi.com &                                         https://security.iqiyi.com/static/cook/v1/cooksdk.js:2:19949 &         \\textbackslash includegraphics[]\\{fingerprints/iqiyi.com\\_desktop\\_canvas\\_capture\\_6.png\\} \\\\\n",
      "desktop &            cbc.ca &                                                           https://www.cbc.ca/akam/13/6b970fe1:2:6237 &            \\textbackslash includegraphics[]\\{fingerprints/cbc.ca\\_desktop\\_canvas\\_capture\\_0.png\\} \\\\\n",
      "desktop &        mailchi.mp &              https://mailchimp.com/LObVNPmnT1eE/ByhKQZ/49c1D9/3mw5htDfrY/Pyd0AQ/CGRfdX56/OGY:1:80389 &        \\textbackslash includegraphics[]\\{fingerprints/mailchi.mp\\_desktop\\_canvas\\_capture\\_0.png\\} \\\\\n",
      "desktop &        mailchi.mp &              https://mailchimp.com/LObVNPmnT1eE/ByhKQZ/49c1D9/3mw5htDfrY/Pyd0AQ/CGRfdX56/OGY:1:80389 &        \\textbackslash includegraphics[]\\{fingerprints/mailchi.mp\\_desktop\\_canvas\\_capture\\_1.png\\} \\\\\n",
      "desktop &        mailchi.mp &              https://mailchimp.com/LObVNPmnT1eE/ByhKQZ/49c1D9/3mw5htDfrY/Pyd0AQ/CGRfdX56/OGY:1:80389 &        \\textbackslash includegraphics[]\\{fingerprints/mailchi.mp\\_desktop\\_canvas\\_capture\\_2.png\\} \\\\\n",
      "desktop &        mailchi.mp &              https://mailchimp.com/LObVNPmnT1eE/ByhKQZ/49c1D9/3mw5htDfrY/Pyd0AQ/CGRfdX56/OGY:1:80389 &        \\textbackslash includegraphics[]\\{fingerprints/mailchi.mp\\_desktop\\_canvas\\_capture\\_3.png\\} \\\\\n",
      "desktop &        redhat.com &       https://www.redhat.com/8FhvxI/nB/Cc/xPfA/Szsk4lMHVa/3Q7S6m8bYz/M01OIG1RMA/DksGBUsl/GAg:1:80389 &        \\textbackslash includegraphics[]\\{fingerprints/redhat.com\\_desktop\\_canvas\\_capture\\_0.png\\} \\\\\n",
      "desktop &        redhat.com &       https://www.redhat.com/8FhvxI/nB/Cc/xPfA/Szsk4lMHVa/3Q7S6m8bYz/M01OIG1RMA/DksGBUsl/GAg:1:80389 &        \\textbackslash includegraphics[]\\{fingerprints/redhat.com\\_desktop\\_canvas\\_capture\\_1.png\\} \\\\\n",
      "desktop &     mailchimp.com &              https://mailchimp.com/LObVNPmnT1eE/ByhKQZ/49c1D9/3mw5htDfrY/Pyd0AQ/CGRfdX56/OGY:1:80389 &     \\textbackslash includegraphics[]\\{fingerprints/mailchimp.com\\_desktop\\_canvas\\_capture\\_0.png\\} \\\\\n",
      "desktop &     mailchimp.com &              https://mailchimp.com/LObVNPmnT1eE/ByhKQZ/49c1D9/3mw5htDfrY/Pyd0AQ/CGRfdX56/OGY:1:80389 &     \\textbackslash includegraphics[]\\{fingerprints/mailchimp.com\\_desktop\\_canvas\\_capture\\_1.png\\} \\\\\n",
      "desktop &        pexels.com &                                            https://pexels.com/cdn-cgi/bm/cv/669835187/api.js:25:7216 &        \\textbackslash includegraphics[]\\{fingerprints/pexels.com\\_desktop\\_canvas\\_capture\\_0.png\\} \\\\\n",
      "desktop &           ibm.com &             https://www.ibm.com/lpwE2CM51ZCz/aU9IFNaFHy/Jo/9S3NkrkcaaOY/CVEhIAE/a1MJJH4/LX0U:1:80389 &           \\textbackslash includegraphics[]\\{fingerprints/ibm.com\\_desktop\\_canvas\\_capture\\_0.png\\} \\\\\n",
      "desktop &           ibm.com &             https://www.ibm.com/lpwE2CM51ZCz/aU9IFNaFHy/Jo/9S3NkrkcaaOY/CVEhIAE/a1MJJH4/LX0U:1:80389 &           \\textbackslash includegraphics[]\\{fingerprints/ibm.com\\_desktop\\_canvas\\_capture\\_1.png\\} \\\\\n",
      "desktop &            rt.com &                              https://www.rt.com/.well-known/ddos-guard/check?context=captcha:1:30722 &            \\textbackslash includegraphics[]\\{fingerprints/rt.com\\_desktop\\_canvas\\_capture\\_0.png\\} \\\\\n",
      "desktop &     mediafire.com &                                                       https://device.maxmind.com/js/device.js:1:5672 &     \\textbackslash includegraphics[]\\{fingerprints/mediafire.com\\_desktop\\_canvas\\_capture\\_0.png\\} \\\\\n",
      " mobile &       walmart.com &                                                https://www.walmart.com/px/PXu6b0qd2S/init.js:4:17899 &        \\textbackslash includegraphics[]\\{fingerprints/walmart.com\\_mobile\\_canvas\\_capture\\_0.png\\} \\\\\n",
      " mobile &     mediafire.com &                                                       https://device.maxmind.com/js/device.js:1:5672 &      \\textbackslash includegraphics[]\\{fingerprints/mediafire.com\\_mobile\\_canvas\\_capture\\_0.png\\} \\\\\n",
      " mobile &       bestbuy.com &             https://www.bestbuy.com/3lLnrh/61UQP/6HIzM/Mmks/1X7fNrkJacam/TkcnSwE/dyF/6NWBIaw:1:80389 &        \\textbackslash includegraphics[]\\{fingerprints/bestbuy.com\\_mobile\\_canvas\\_capture\\_0.png\\} \\\\\n",
      " mobile &       bestbuy.com &             https://www.bestbuy.com/3lLnrh/61UQP/6HIzM/Mmks/1X7fNrkJacam/TkcnSwE/dyF/6NWBIaw:1:80389 &        \\textbackslash includegraphics[]\\{fingerprints/bestbuy.com\\_mobile\\_canvas\\_capture\\_1.png\\} \\\\\n",
      " mobile &   livejournal.com &                                                       https://ssp.rambler.ru/capirs\\_async.js:1:48198 &    \\textbackslash includegraphics[]\\{fingerprints/livejournal.com\\_mobile\\_canvas\\_capture\\_0.png\\} \\\\\n",
      " mobile &   livejournal.com &                                                       https://ssp.rambler.ru/capirs\\_async.js:1:48198 &    \\textbackslash includegraphics[]\\{fingerprints/livejournal.com\\_mobile\\_canvas\\_capture\\_1.png\\} \\\\\n",
      " mobile &            cbc.ca &                                                           https://www.cbc.ca/akam/13/6b970fe1:2:6237 &             \\textbackslash includegraphics[]\\{fingerprints/cbc.ca\\_mobile\\_canvas\\_capture\\_0.png\\} \\\\\n",
      " mobile &            vk.com & https://st6-23.vk.com/dist/mobile/grip.29510f3e521091508d73.js?483f61ba2d758188cbb898e49105c77c37... &             \\textbackslash includegraphics[]\\{fingerprints/vk.com\\_mobile\\_canvas\\_capture\\_0.png\\} \\\\\n",
      " mobile &            vk.com & https://st6-23.vk.com/dist/mobile/grip.29510f3e521091508d73.js?483f61ba2d758188cbb898e49105c77c37... &             \\textbackslash includegraphics[]\\{fingerprints/vk.com\\_mobile\\_canvas\\_capture\\_1.png\\} \\\\\n",
      " mobile &      marriott.com &          https://www.marriott.com/kM8Nu/sa-/ozhc/R5/8nCV8-/JO9ahSVf5hia/EUxMcWA/TDAfGD/ICW0g:1:80389 &       \\textbackslash includegraphics[]\\{fingerprints/marriott.com\\_mobile\\_canvas\\_capture\\_0.png\\} \\\\\n",
      " mobile &      marriott.com &          https://www.marriott.com/kM8Nu/sa-/ozhc/R5/8nCV8-/JO9ahSVf5hia/EUxMcWA/TDAfGD/ICW0g:1:80389 &       \\textbackslash includegraphics[]\\{fingerprints/marriott.com\\_mobile\\_canvas\\_capture\\_1.png\\} \\\\\n",
      " mobile &      marriott.com &                                                     https://www.marriott.com/akam/13/4ec55f84:2:6245 &       \\textbackslash includegraphics[]\\{fingerprints/marriott.com\\_mobile\\_canvas\\_capture\\_2.png\\} \\\\\n",
      " mobile &      marriott.com & https://www.marriott.com/common/js/marriottCommon.js?seed=AIADPTWBAQAAIYBXZ4a9VOPG6KbRC4X9PkmZSLf... &       \\textbackslash includegraphics[]\\{fingerprints/marriott.com\\_mobile\\_canvas\\_capture\\_3.png\\} \\\\\n",
      " mobile &    salesforce.com &                                                   https://www.salesforce.com/akam/13/36b5367a:2:6250 &     \\textbackslash includegraphics[]\\{fingerprints/salesforce.com\\_mobile\\_canvas\\_capture\\_0.png\\} \\\\\n",
      " mobile &           ups.com &                                                           https://www.ups.com/akam/13/6ceb3c3:2:6258 &            \\textbackslash includegraphics[]\\{fingerprints/ups.com\\_mobile\\_canvas\\_capture\\_0.png\\} \\\\\n",
      " mobile &           ups.com &           https://www.ups.com/M3uh8tNVHN3zkYgnjo5\\_syBS/wOh5ctJwca3V/NVNVOTdpKgY/azAFdFN/AFxg:1:80389 &            \\textbackslash includegraphics[]\\{fingerprints/ups.com\\_mobile\\_canvas\\_capture\\_1.png\\} \\\\\n",
      " mobile &           ups.com &           https://www.ups.com/M3uh8tNVHN3zkYgnjo5\\_syBS/wOh5ctJwca3V/NVNVOTdpKgY/azAFdFN/AFxg:1:80389 &            \\textbackslash includegraphics[]\\{fingerprints/ups.com\\_mobile\\_canvas\\_capture\\_2.png\\} \\\\\n",
      " mobile &        usnews.com &                https://www.usnews.com/qJuqC/nVT5l/2h-h/f-Vs/Z0/OEQ5cN6f/V0wzEwE/M2tPPT/43Mk0:1:80389 &         \\textbackslash includegraphics[]\\{fingerprints/usnews.com\\_mobile\\_canvas\\_capture\\_0.png\\} \\\\\n",
      " mobile &        usnews.com &                https://www.usnews.com/qJuqC/nVT5l/2h-h/f-Vs/Z0/OEQ5cN6f/V0wzEwE/M2tPPT/43Mk0:1:80389 &         \\textbackslash includegraphics[]\\{fingerprints/usnews.com\\_mobile\\_canvas\\_capture\\_1.png\\} \\\\\n",
      " mobile &        usnews.com &                                                       https://www.usnews.com/akam/13/4b0772ca:2:6235 &         \\textbackslash includegraphics[]\\{fingerprints/usnews.com\\_mobile\\_canvas\\_capture\\_2.png\\} \\\\\n",
      " mobile &           ibm.com &             https://www.ibm.com/lpwE2CM51ZCz/aU9IFNaFHy/Jo/9S3NkrkcaaOY/CVEhIAE/a1MJJH4/LX0U:1:80389 &            \\textbackslash includegraphics[]\\{fingerprints/ibm.com\\_mobile\\_canvas\\_capture\\_0.png\\} \\\\\n",
      " mobile &           ibm.com &             https://www.ibm.com/lpwE2CM51ZCz/aU9IFNaFHy/Jo/9S3NkrkcaaOY/CVEhIAE/a1MJJH4/LX0U:1:80389 &            \\textbackslash includegraphics[]\\{fingerprints/ibm.com\\_mobile\\_canvas\\_capture\\_1.png\\} \\\\\n",
      " mobile &        redhat.com &                                                       https://www.redhat.com/akam/13/40b23847:2:6239 &         \\textbackslash includegraphics[]\\{fingerprints/redhat.com\\_mobile\\_canvas\\_capture\\_0.png\\} \\\\\n",
      " mobile &        redhat.com &       https://www.redhat.com/8FhvxI/nB/Cc/xPfA/Szsk4lMHVa/3Q7S6m8bYz/M01OIG1RMA/DksGBUsl/GAg:1:80389 &         \\textbackslash includegraphics[]\\{fingerprints/redhat.com\\_mobile\\_canvas\\_capture\\_1.png\\} \\\\\n",
      " mobile &        redhat.com &       https://www.redhat.com/8FhvxI/nB/Cc/xPfA/Szsk4lMHVa/3Q7S6m8bYz/M01OIG1RMA/DksGBUsl/GAg:1:80389 &         \\textbackslash includegraphics[]\\{fingerprints/redhat.com\\_mobile\\_canvas\\_capture\\_2.png\\} \\\\\n",
      " mobile &        bet9ja.com &                                                    https://sports.bet9ja.com/akam/13/4b15eca9:2:6248 &         \\textbackslash includegraphics[]\\{fingerprints/bet9ja.com\\_mobile\\_canvas\\_capture\\_0.png\\} \\\\\n",
      " mobile &       binance.com &                           https://bin.bnbstatic.com/static/modules/ExchangeHeader-2a16a9b.js:1:61989 &        \\textbackslash includegraphics[]\\{fingerprints/binance.com\\_mobile\\_canvas\\_capture\\_0.png\\} \\\\\n",
      " mobile &       binance.com &                       https://bin.bnbstatic.com/static/runtime/main-4eb1e9bf209cefa59a40.js:1:163675 &        \\textbackslash includegraphics[]\\{fingerprints/binance.com\\_mobile\\_canvas\\_capture\\_1.png\\} \\\\\n",
      " mobile &         douyu.com &       https://3gimg.qq.com/mig\\_op/beacon/js/beacon\\_release\\_s.js?appkey=JS1S971C3138Y5\\&vc=1.0.1:19:30 &          \\textbackslash includegraphics[]\\{fingerprints/douyu.com\\_mobile\\_canvas\\_capture\\_0.png\\} \\\\\n",
      " mobile &         douyu.com &       https://3gimg.qq.com/mig\\_op/beacon/js/beacon\\_release\\_s.js?appkey=JS1S971C3138Y5\\&vc=1.0.1:19:30 &          \\textbackslash includegraphics[]\\{fingerprints/douyu.com\\_mobile\\_canvas\\_capture\\_1.png\\} \\\\\n",
      " mobile &          ikea.com &                                                         https://www.ikea.com/akam/13/27d4e70a:2:6240 &           \\textbackslash includegraphics[]\\{fingerprints/ikea.com\\_mobile\\_canvas\\_capture\\_0.png\\} \\\\\n",
      " mobile &          ikea.com &         https://www.ikea.com/kCSGaENfx/xk/f1/zRWM94pyNjGPVQ/9OVYkNct1G/Awo7OlkB/XBFzIQ/I\\_Zlo:1:80389 &           \\textbackslash includegraphics[]\\{fingerprints/ikea.com\\_mobile\\_canvas\\_capture\\_1.png\\} \\\\\n",
      " mobile &          ikea.com &         https://www.ikea.com/kCSGaENfx/xk/f1/zRWM94pyNjGPVQ/9OVYkNct1G/Awo7OlkB/XBFzIQ/I\\_Zlo:1:80389 &           \\textbackslash includegraphics[]\\{fingerprints/ikea.com\\_mobile\\_canvas\\_capture\\_2.png\\} \\\\\n",
      " mobile &         fedex.com &                                                        https://www.fedex.com/akam/13/74a92f88:2:6213 &          \\textbackslash includegraphics[]\\{fingerprints/fedex.com\\_mobile\\_canvas\\_capture\\_0.png\\} \\\\\n",
      " mobile &         fedex.com &               https://www.fedex.com/VPepj/28/i/V/TM7u3Dx3J79/Eai7pp4mz1/O1YpdQ/LV/x-SxFoCwIB:1:80389 &          \\textbackslash includegraphics[]\\{fingerprints/fedex.com\\_mobile\\_canvas\\_capture\\_1.png\\} \\\\\n",
      " mobile &         fedex.com &               https://www.fedex.com/VPepj/28/i/V/TM7u3Dx3J79/Eai7pp4mz1/O1YpdQ/LV/x-SxFoCwIB:1:80389 &          \\textbackslash includegraphics[]\\{fingerprints/fedex.com\\_mobile\\_canvas\\_capture\\_2.png\\} \\\\\n",
      " mobile &        oracle.com &                                                        https://www.oracle.com/akam/13/d53f5df:2:6214 &         \\textbackslash includegraphics[]\\{fingerprints/oracle.com\\_mobile\\_canvas\\_capture\\_0.png\\} \\\\\n",
      " mobile &     bloomberg.com &                                                   https://www.bloomberg.com/8FCGYgk4/init.js:4:14392 &      \\textbackslash includegraphics[]\\{fingerprints/bloomberg.com\\_mobile\\_canvas\\_capture\\_0.png\\} \\\\\n",
      " mobile &          dell.com &                                                         https://www.dell.com/akam/13/166effed:2:6255 &           \\textbackslash includegraphics[]\\{fingerprints/dell.com\\_mobile\\_canvas\\_capture\\_0.png\\} \\\\\n",
      " mobile &          dell.com &                https://www.dell.com/naxC5wXVL/fL/dgsAPfg/c5VaSrwpw3/Mnh4HhYlVws/SzkUelU/-FHU:1:80389 &           \\textbackslash includegraphics[]\\{fingerprints/dell.com\\_mobile\\_canvas\\_capture\\_1.png\\} \\\\\n",
      " mobile &          dell.com &                https://www.dell.com/naxC5wXVL/fL/dgsAPfg/c5VaSrwpw3/Mnh4HhYlVws/SzkUelU/-FHU:1:80389 &           \\textbackslash includegraphics[]\\{fingerprints/dell.com\\_mobile\\_canvas\\_capture\\_2.png\\} \\\\\n",
      " mobile &          cctv.com &                                             https://js.player.cntv.cn/creator/fingerprint2.js:754:41 &           \\textbackslash includegraphics[]\\{fingerprints/cctv.com\\_mobile\\_canvas\\_capture\\_0.png\\} \\\\\n",
      " mobile &  businesswire.com &                                                 https://www.businesswire.com/akam/13/1e443a66:2:6248 &   \\textbackslash includegraphics[]\\{fingerprints/businesswire.com\\_mobile\\_canvas\\_capture\\_0.png\\} \\\\\n",
      " mobile &     rakuten.co.jp &                                                    https://www.rakuten.co.jp/akam/13/5d4c4618:2:6220 &      \\textbackslash includegraphics[]\\{fingerprints/rakuten.co.jp\\_mobile\\_canvas\\_capture\\_0.png\\} \\\\\n",
      " mobile &         intel.com &                                                        https://www.intel.com/akam/13/1160f67a:2:6241 &          \\textbackslash includegraphics[]\\{fingerprints/intel.com\\_mobile\\_canvas\\_capture\\_0.png\\} \\\\\n",
      " mobile &         intel.com &            https://www.intel.com/cQrwcx/\\_cX\\_/id/uuYA/B16NegDH/f57wVtScw9/MWFhNw/ChB/SSmIwUSo:1:80389 &          \\textbackslash includegraphics[]\\{fingerprints/intel.com\\_mobile\\_canvas\\_capture\\_1.png\\} \\\\\n",
      " mobile &         intel.com &            https://www.intel.com/cQrwcx/\\_cX\\_/id/uuYA/B16NegDH/f57wVtScw9/MWFhNw/ChB/SSmIwUSo:1:80389 &          \\textbackslash includegraphics[]\\{fingerprints/intel.com\\_mobile\\_canvas\\_capture\\_2.png\\} \\\\\n",
      " mobile &          hupu.com &                                                     https://static.fengkongcloud.com/fpv2.js:1:86365 &           \\textbackslash includegraphics[]\\{fingerprints/hupu.com\\_mobile\\_canvas\\_capture\\_0.png\\} \\\\\n",
      " mobile &         force.com &                                                   https://www.salesforce.com/akam/13/36b53678:2:6244 &          \\textbackslash includegraphics[]\\{fingerprints/force.com\\_mobile\\_canvas\\_capture\\_0.png\\} \\\\\n",
      " mobile &         iqiyi.com &                                         https://security.iqiyi.com/static/cook/v1/cooksdk.js:2:19438 &          \\textbackslash includegraphics[]\\{fingerprints/iqiyi.com\\_mobile\\_canvas\\_capture\\_0.png\\} \\\\\n",
      " mobile &        tiktok.com & https://s20.tiktokcdn.com/tiktok/common/init.js?seed=AMDAfDSBAQAAU1HCSDWuLLRZSErc4XgCuOuBMIKFzg91... &         \\textbackslash includegraphics[]\\{fingerprints/tiktok.com\\_mobile\\_canvas\\_capture\\_0.png\\} \\\\\n",
      " mobile &        mailchi.mp &              https://mailchimp.com/LObVNPmnT1eE/ByhKQZ/49c1D9/3mw5htDfrY/Pyd0AQ/CGRfdX56/OGY:1:80389 &         \\textbackslash includegraphics[]\\{fingerprints/mailchi.mp\\_mobile\\_canvas\\_capture\\_0.png\\} \\\\\n",
      " mobile &        mailchi.mp &              https://mailchimp.com/LObVNPmnT1eE/ByhKQZ/49c1D9/3mw5htDfrY/Pyd0AQ/CGRfdX56/OGY:1:80389 &         \\textbackslash includegraphics[]\\{fingerprints/mailchi.mp\\_mobile\\_canvas\\_capture\\_1.png\\} \\\\\n",
      " mobile &     mailchimp.com &              https://mailchimp.com/LObVNPmnT1eE/ByhKQZ/49c1D9/3mw5htDfrY/Pyd0AQ/CGRfdX56/OGY:1:80389 &      \\textbackslash includegraphics[]\\{fingerprints/mailchimp.com\\_mobile\\_canvas\\_capture\\_0.png\\} \\\\\n",
      " mobile &     mailchimp.com &              https://mailchimp.com/LObVNPmnT1eE/ByhKQZ/49c1D9/3mw5htDfrY/Pyd0AQ/CGRfdX56/OGY:1:80389 &      \\textbackslash includegraphics[]\\{fingerprints/mailchimp.com\\_mobile\\_canvas\\_capture\\_1.png\\} \\\\\n",
      " mobile &         adobe.com &                                                        https://www.adobe.com/akam/13/6499c3e9:2:6225 &          \\textbackslash includegraphics[]\\{fingerprints/adobe.com\\_mobile\\_canvas\\_capture\\_0.png\\} \\\\\n",
      " mobile &            rt.com &                                  https://rt.com/.well-known/ddos-guard/check?context=captcha:1:30722 &             \\textbackslash includegraphics[]\\{fingerprints/rt.com\\_mobile\\_canvas\\_capture\\_0.png\\} \\\\\n",
      "\\bottomrule\n",
      "\\end{tabular}\n",
      "\n"
     ]
    },
    {
     "name": "stderr",
     "output_type": "stream",
     "text": [
      "/var/folders/z6/t2bz26r16rs6cp44r7nstxmr0000gn/T/ipykernel_83382/2544764586.py:13: FutureWarning: In future versions `DataFrame.to_latex` is expected to utilise the base implementation of `Styler.to_latex` for formatting and rendering. The arguments signature may therefore change. It is recommended instead to use `DataFrame.style.to_latex` which also contains additional functionality.\n",
      "  print(df_canvas_fingerprints.to_latex(index=False))\n"
     ]
    }
   ],
   "source": [
    "# 12 latex version\n",
    "canvas_fingerprints = []\n",
    "for crawl, crawl_data in crawls.items():\n",
    "    for fingerprint in crawl_data[\"canvas_fingerprints\"]:\n",
    "        canvas_fingerprints.append(\n",
    "            [\n",
    "                crawl,\n",
    "                fingerprint[\"website\"],\n",
    "                fingerprint[\"fingerprint_script_resource_url\"],\n",
    "                \"\\includegraphics[]{fingerprints/\"\n",
    "                + fingerprint[\"canvas_fingerprint_image\"]\n",
    "                + \"}\",\n",
    "            ]\n",
    "        )\n",
    "df_canvas_fingerprints = pd.DataFrame(canvas_fingerprints)\n",
    "df_canvas_fingerprints.columns = [\n",
    "    \"Crawl\",\n",
    "    \"Website\",\n",
    "    \"Fingerprint script URL\",\n",
    "    \"Canvas image\",\n",
    "]\n",
    "pd.options.display.max_colwidth = 100\n",
    "print(df_canvas_fingerprints.to_latex(index=False))"
   ]
  },
  {
   "cell_type": "code",
   "execution_count": 39,
   "outputs": [],
   "source": [],
   "metadata": {
    "collapsed": false,
    "pycharm": {
     "name": "#%%\n"
    }
   }
  }
 ],
 "metadata": {
  "kernelspec": {
   "display_name": "Python 3 (ipykernel)",
   "language": "python",
   "name": "python3"
  },
  "language_info": {
   "codemirror_mode": {
    "name": "ipython",
    "version": 3
   },
   "file_extension": ".py",
   "mimetype": "text/x-python",
   "name": "python",
   "nbconvert_exporter": "python",
   "pygments_lexer": "ipython3",
   "version": "3.10.4"
  }
 },
 "nbformat": 4,
 "nbformat_minor": 5
}